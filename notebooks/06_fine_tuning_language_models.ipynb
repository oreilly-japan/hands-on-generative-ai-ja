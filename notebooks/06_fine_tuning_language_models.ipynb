{
  "cells": [
    {
      "cell_type": "markdown",
      "metadata": {
        "id": "FnK7Qf0ff51P"
      },
      "source": [
        "# 6章 言語モデルのファインチューニング\n"
      ]
    },
    {
      "cell_type": "markdown",
      "source": [
        "## 事前準備"
      ],
      "metadata": {
        "id": "eyY-o-BanAK3"
      }
    },
    {
      "cell_type": "code",
      "source": [
        "!curl -L -o genaibook.zip https://github.com/oreilly-japan/hands-on-generative-ai-ja/releases/download/genaibook/genaibook.zip"
      ],
      "metadata": {
        "colab": {
          "base_uri": "https://localhost:8080/"
        },
        "id": "lrPknkE3kz45",
        "outputId": "3bfebb69-2976-4290-b1a4-493e5ce75393"
      },
      "execution_count": 1,
      "outputs": [
        {
          "output_type": "stream",
          "name": "stdout",
          "text": [
            "  % Total    % Received % Xferd  Average Speed   Time    Time     Time  Current\n",
            "                                 Dload  Upload   Total   Spent    Left  Speed\n",
            "  0     0    0     0    0     0      0      0 --:--:-- --:--:-- --:--:--     0\n",
            "100  4678  100  4678    0     0  10068      0 --:--:-- --:--:-- --:--:-- 10068\n"
          ]
        }
      ]
    },
    {
      "cell_type": "code",
      "source": [
        "!unzip genaibook.zip"
      ],
      "metadata": {
        "colab": {
          "base_uri": "https://localhost:8080/"
        },
        "id": "eM4Y5gBRk18S",
        "outputId": "4ec62dc9-55fc-4724-fd72-65fdaa7f33e7"
      },
      "execution_count": 2,
      "outputs": [
        {
          "output_type": "stream",
          "name": "stdout",
          "text": [
            "Archive:  genaibook.zip\n",
            "Made with MacWinZipper (http://tidajapan.com/macwinzipper)\n",
            "  inflating: genaibook/__init__.py   \n",
            "  inflating: genaibook/core.py       \n"
          ]
        }
      ]
    },
    {
      "cell_type": "code",
      "source": [
        "!pip install evaluate jiwer"
      ],
      "metadata": {
        "colab": {
          "base_uri": "https://localhost:8080/"
        },
        "id": "wdXV1uN4k35X",
        "outputId": "3f84ad56-c97a-4357-ae1d-529492241e58"
      },
      "execution_count": 3,
      "outputs": [
        {
          "output_type": "stream",
          "name": "stdout",
          "text": [
            "Collecting evaluate\n",
            "  Downloading evaluate-0.4.6-py3-none-any.whl.metadata (9.5 kB)\n",
            "Collecting jiwer\n",
            "  Downloading jiwer-4.0.0-py3-none-any.whl.metadata (3.3 kB)\n",
            "Requirement already satisfied: datasets>=2.0.0 in /usr/local/lib/python3.11/dist-packages (from evaluate) (2.14.4)\n",
            "Requirement already satisfied: numpy>=1.17 in /usr/local/lib/python3.11/dist-packages (from evaluate) (2.0.2)\n",
            "Requirement already satisfied: dill in /usr/local/lib/python3.11/dist-packages (from evaluate) (0.3.7)\n",
            "Requirement already satisfied: pandas in /usr/local/lib/python3.11/dist-packages (from evaluate) (2.2.2)\n",
            "Requirement already satisfied: requests>=2.19.0 in /usr/local/lib/python3.11/dist-packages (from evaluate) (2.32.3)\n",
            "Requirement already satisfied: tqdm>=4.62.1 in /usr/local/lib/python3.11/dist-packages (from evaluate) (4.67.1)\n",
            "Requirement already satisfied: xxhash in /usr/local/lib/python3.11/dist-packages (from evaluate) (3.5.0)\n",
            "Requirement already satisfied: multiprocess in /usr/local/lib/python3.11/dist-packages (from evaluate) (0.70.15)\n",
            "Requirement already satisfied: fsspec>=2021.05.0 in /usr/local/lib/python3.11/dist-packages (from fsspec[http]>=2021.05.0->evaluate) (2025.3.2)\n",
            "Requirement already satisfied: huggingface-hub>=0.7.0 in /usr/local/lib/python3.11/dist-packages (from evaluate) (0.33.4)\n",
            "Requirement already satisfied: packaging in /usr/local/lib/python3.11/dist-packages (from evaluate) (24.2)\n",
            "Requirement already satisfied: click>=8.1.8 in /usr/local/lib/python3.11/dist-packages (from jiwer) (8.2.1)\n",
            "Collecting rapidfuzz>=3.9.7 (from jiwer)\n",
            "  Downloading rapidfuzz-3.14.1-cp311-cp311-manylinux_2_27_x86_64.manylinux_2_28_x86_64.whl.metadata (12 kB)\n",
            "Requirement already satisfied: pyarrow>=8.0.0 in /usr/local/lib/python3.11/dist-packages (from datasets>=2.0.0->evaluate) (18.1.0)\n",
            "Requirement already satisfied: aiohttp in /usr/local/lib/python3.11/dist-packages (from datasets>=2.0.0->evaluate) (3.11.15)\n",
            "Requirement already satisfied: pyyaml>=5.1 in /usr/local/lib/python3.11/dist-packages (from datasets>=2.0.0->evaluate) (6.0.2)\n",
            "Requirement already satisfied: filelock in /usr/local/lib/python3.11/dist-packages (from huggingface-hub>=0.7.0->evaluate) (3.18.0)\n",
            "Requirement already satisfied: typing-extensions>=3.7.4.3 in /usr/local/lib/python3.11/dist-packages (from huggingface-hub>=0.7.0->evaluate) (4.14.1)\n",
            "Requirement already satisfied: hf-xet<2.0.0,>=1.1.2 in /usr/local/lib/python3.11/dist-packages (from huggingface-hub>=0.7.0->evaluate) (1.1.5)\n",
            "Requirement already satisfied: charset-normalizer<4,>=2 in /usr/local/lib/python3.11/dist-packages (from requests>=2.19.0->evaluate) (3.4.2)\n",
            "Requirement already satisfied: idna<4,>=2.5 in /usr/local/lib/python3.11/dist-packages (from requests>=2.19.0->evaluate) (3.10)\n",
            "Requirement already satisfied: urllib3<3,>=1.21.1 in /usr/local/lib/python3.11/dist-packages (from requests>=2.19.0->evaluate) (2.4.0)\n",
            "Requirement already satisfied: certifi>=2017.4.17 in /usr/local/lib/python3.11/dist-packages (from requests>=2.19.0->evaluate) (2025.7.14)\n",
            "Requirement already satisfied: python-dateutil>=2.8.2 in /usr/local/lib/python3.11/dist-packages (from pandas->evaluate) (2.9.0.post0)\n",
            "Requirement already satisfied: pytz>=2020.1 in /usr/local/lib/python3.11/dist-packages (from pandas->evaluate) (2025.2)\n",
            "Requirement already satisfied: tzdata>=2022.7 in /usr/local/lib/python3.11/dist-packages (from pandas->evaluate) (2025.2)\n",
            "Requirement already satisfied: aiohappyeyeballs>=2.3.0 in /usr/local/lib/python3.11/dist-packages (from aiohttp->datasets>=2.0.0->evaluate) (2.6.1)\n",
            "Requirement already satisfied: aiosignal>=1.1.2 in /usr/local/lib/python3.11/dist-packages (from aiohttp->datasets>=2.0.0->evaluate) (1.4.0)\n",
            "Requirement already satisfied: attrs>=17.3.0 in /usr/local/lib/python3.11/dist-packages (from aiohttp->datasets>=2.0.0->evaluate) (25.3.0)\n",
            "Requirement already satisfied: frozenlist>=1.1.1 in /usr/local/lib/python3.11/dist-packages (from aiohttp->datasets>=2.0.0->evaluate) (1.7.0)\n",
            "Requirement already satisfied: multidict<7.0,>=4.5 in /usr/local/lib/python3.11/dist-packages (from aiohttp->datasets>=2.0.0->evaluate) (6.6.3)\n",
            "Requirement already satisfied: propcache>=0.2.0 in /usr/local/lib/python3.11/dist-packages (from aiohttp->datasets>=2.0.0->evaluate) (0.3.2)\n",
            "Requirement already satisfied: yarl<2.0,>=1.17.0 in /usr/local/lib/python3.11/dist-packages (from aiohttp->datasets>=2.0.0->evaluate) (1.20.1)\n",
            "Requirement already satisfied: six>=1.5 in /usr/local/lib/python3.11/dist-packages (from python-dateutil>=2.8.2->pandas->evaluate) (1.17.0)\n",
            "Downloading evaluate-0.4.6-py3-none-any.whl (84 kB)\n",
            "\u001b[2K   \u001b[90m━━━━━━━━━━━━━━━━━━━━━━━━━━━━━━━━━━━━━━━━\u001b[0m \u001b[32m84.1/84.1 kB\u001b[0m \u001b[31m5.5 MB/s\u001b[0m eta \u001b[36m0:00:00\u001b[0m\n",
            "\u001b[?25hDownloading jiwer-4.0.0-py3-none-any.whl (23 kB)\n",
            "Downloading rapidfuzz-3.14.1-cp311-cp311-manylinux_2_27_x86_64.manylinux_2_28_x86_64.whl (3.2 MB)\n",
            "\u001b[2K   \u001b[90m━━━━━━━━━━━━━━━━━━━━━━━━━━━━━━━━━━━━━━━━\u001b[0m \u001b[32m3.2/3.2 MB\u001b[0m \u001b[31m66.0 MB/s\u001b[0m eta \u001b[36m0:00:00\u001b[0m\n",
            "\u001b[?25hInstalling collected packages: rapidfuzz, jiwer, evaluate\n",
            "Successfully installed evaluate-0.4.6 jiwer-4.0.0 rapidfuzz-3.14.1\n"
          ]
        }
      ]
    },
    {
      "cell_type": "code",
      "source": [
        "!pip install datasets==4.2.0"
      ],
      "metadata": {
        "colab": {
          "base_uri": "https://localhost:8080/"
        },
        "id": "faDVNNKNk64J",
        "outputId": "6c8bea80-a3d2-4116-acf7-12112669293a"
      },
      "execution_count": 4,
      "outputs": [
        {
          "output_type": "stream",
          "name": "stdout",
          "text": [
            "Collecting datasets==4.2.0\n",
            "  Downloading datasets-4.2.0-py3-none-any.whl.metadata (18 kB)\n",
            "Requirement already satisfied: filelock in /usr/local/lib/python3.11/dist-packages (from datasets==4.2.0) (3.18.0)\n",
            "Requirement already satisfied: numpy>=1.17 in /usr/local/lib/python3.11/dist-packages (from datasets==4.2.0) (2.0.2)\n",
            "Collecting pyarrow>=21.0.0 (from datasets==4.2.0)\n",
            "  Downloading pyarrow-22.0.0-cp311-cp311-manylinux_2_28_x86_64.whl.metadata (3.2 kB)\n",
            "Requirement already satisfied: dill<0.4.1,>=0.3.0 in /usr/local/lib/python3.11/dist-packages (from datasets==4.2.0) (0.3.7)\n",
            "Requirement already satisfied: pandas in /usr/local/lib/python3.11/dist-packages (from datasets==4.2.0) (2.2.2)\n",
            "Requirement already satisfied: requests>=2.32.2 in /usr/local/lib/python3.11/dist-packages (from datasets==4.2.0) (2.32.3)\n",
            "Requirement already satisfied: httpx<1.0.0 in /usr/local/lib/python3.11/dist-packages (from datasets==4.2.0) (0.28.1)\n",
            "Requirement already satisfied: tqdm>=4.66.3 in /usr/local/lib/python3.11/dist-packages (from datasets==4.2.0) (4.67.1)\n",
            "Requirement already satisfied: xxhash in /usr/local/lib/python3.11/dist-packages (from datasets==4.2.0) (3.5.0)\n",
            "Requirement already satisfied: multiprocess<0.70.17 in /usr/local/lib/python3.11/dist-packages (from datasets==4.2.0) (0.70.15)\n",
            "Requirement already satisfied: fsspec<=2025.9.0,>=2023.1.0 in /usr/local/lib/python3.11/dist-packages (from fsspec[http]<=2025.9.0,>=2023.1.0->datasets==4.2.0) (2025.3.2)\n",
            "Requirement already satisfied: huggingface-hub<2.0,>=0.25.0 in /usr/local/lib/python3.11/dist-packages (from datasets==4.2.0) (0.33.4)\n",
            "Requirement already satisfied: packaging in /usr/local/lib/python3.11/dist-packages (from datasets==4.2.0) (24.2)\n",
            "Requirement already satisfied: pyyaml>=5.1 in /usr/local/lib/python3.11/dist-packages (from datasets==4.2.0) (6.0.2)\n",
            "Requirement already satisfied: aiohttp!=4.0.0a0,!=4.0.0a1 in /usr/local/lib/python3.11/dist-packages (from fsspec[http]<=2025.9.0,>=2023.1.0->datasets==4.2.0) (3.11.15)\n",
            "Requirement already satisfied: anyio in /usr/local/lib/python3.11/dist-packages (from httpx<1.0.0->datasets==4.2.0) (4.9.0)\n",
            "Requirement already satisfied: certifi in /usr/local/lib/python3.11/dist-packages (from httpx<1.0.0->datasets==4.2.0) (2025.7.14)\n",
            "Requirement already satisfied: httpcore==1.* in /usr/local/lib/python3.11/dist-packages (from httpx<1.0.0->datasets==4.2.0) (1.0.9)\n",
            "Requirement already satisfied: idna in /usr/local/lib/python3.11/dist-packages (from httpx<1.0.0->datasets==4.2.0) (3.10)\n",
            "Requirement already satisfied: h11>=0.16 in /usr/local/lib/python3.11/dist-packages (from httpcore==1.*->httpx<1.0.0->datasets==4.2.0) (0.16.0)\n",
            "Requirement already satisfied: typing-extensions>=3.7.4.3 in /usr/local/lib/python3.11/dist-packages (from huggingface-hub<2.0,>=0.25.0->datasets==4.2.0) (4.14.1)\n",
            "Requirement already satisfied: hf-xet<2.0.0,>=1.1.2 in /usr/local/lib/python3.11/dist-packages (from huggingface-hub<2.0,>=0.25.0->datasets==4.2.0) (1.1.5)\n",
            "Requirement already satisfied: charset-normalizer<4,>=2 in /usr/local/lib/python3.11/dist-packages (from requests>=2.32.2->datasets==4.2.0) (3.4.2)\n",
            "Requirement already satisfied: urllib3<3,>=1.21.1 in /usr/local/lib/python3.11/dist-packages (from requests>=2.32.2->datasets==4.2.0) (2.4.0)\n",
            "Requirement already satisfied: python-dateutil>=2.8.2 in /usr/local/lib/python3.11/dist-packages (from pandas->datasets==4.2.0) (2.9.0.post0)\n",
            "Requirement already satisfied: pytz>=2020.1 in /usr/local/lib/python3.11/dist-packages (from pandas->datasets==4.2.0) (2025.2)\n",
            "Requirement already satisfied: tzdata>=2022.7 in /usr/local/lib/python3.11/dist-packages (from pandas->datasets==4.2.0) (2025.2)\n",
            "Requirement already satisfied: aiohappyeyeballs>=2.3.0 in /usr/local/lib/python3.11/dist-packages (from aiohttp!=4.0.0a0,!=4.0.0a1->fsspec[http]<=2025.9.0,>=2023.1.0->datasets==4.2.0) (2.6.1)\n",
            "Requirement already satisfied: aiosignal>=1.1.2 in /usr/local/lib/python3.11/dist-packages (from aiohttp!=4.0.0a0,!=4.0.0a1->fsspec[http]<=2025.9.0,>=2023.1.0->datasets==4.2.0) (1.4.0)\n",
            "Requirement already satisfied: attrs>=17.3.0 in /usr/local/lib/python3.11/dist-packages (from aiohttp!=4.0.0a0,!=4.0.0a1->fsspec[http]<=2025.9.0,>=2023.1.0->datasets==4.2.0) (25.3.0)\n",
            "Requirement already satisfied: frozenlist>=1.1.1 in /usr/local/lib/python3.11/dist-packages (from aiohttp!=4.0.0a0,!=4.0.0a1->fsspec[http]<=2025.9.0,>=2023.1.0->datasets==4.2.0) (1.7.0)\n",
            "Requirement already satisfied: multidict<7.0,>=4.5 in /usr/local/lib/python3.11/dist-packages (from aiohttp!=4.0.0a0,!=4.0.0a1->fsspec[http]<=2025.9.0,>=2023.1.0->datasets==4.2.0) (6.6.3)\n",
            "Requirement already satisfied: propcache>=0.2.0 in /usr/local/lib/python3.11/dist-packages (from aiohttp!=4.0.0a0,!=4.0.0a1->fsspec[http]<=2025.9.0,>=2023.1.0->datasets==4.2.0) (0.3.2)\n",
            "Requirement already satisfied: yarl<2.0,>=1.17.0 in /usr/local/lib/python3.11/dist-packages (from aiohttp!=4.0.0a0,!=4.0.0a1->fsspec[http]<=2025.9.0,>=2023.1.0->datasets==4.2.0) (1.20.1)\n",
            "Requirement already satisfied: six>=1.5 in /usr/local/lib/python3.11/dist-packages (from python-dateutil>=2.8.2->pandas->datasets==4.2.0) (1.17.0)\n",
            "Requirement already satisfied: sniffio>=1.1 in /usr/local/lib/python3.11/dist-packages (from anyio->httpx<1.0.0->datasets==4.2.0) (1.3.1)\n",
            "Downloading datasets-4.2.0-py3-none-any.whl (506 kB)\n",
            "\u001b[2K   \u001b[90m━━━━━━━━━━━━━━━━━━━━━━━━━━━━━━━━━━━━━━━━\u001b[0m \u001b[32m506.3/506.3 kB\u001b[0m \u001b[31m15.7 MB/s\u001b[0m eta \u001b[36m0:00:00\u001b[0m\n",
            "\u001b[?25hDownloading pyarrow-22.0.0-cp311-cp311-manylinux_2_28_x86_64.whl (47.7 MB)\n",
            "\u001b[2K   \u001b[90m━━━━━━━━━━━━━━━━━━━━━━━━━━━━━━━━━━━━━━━━\u001b[0m \u001b[32m47.7/47.7 MB\u001b[0m \u001b[31m55.8 MB/s\u001b[0m eta \u001b[36m0:00:00\u001b[0m\n",
            "\u001b[?25hInstalling collected packages: pyarrow, datasets\n",
            "  Attempting uninstall: pyarrow\n",
            "    Found existing installation: pyarrow 18.1.0\n",
            "    Uninstalling pyarrow-18.1.0:\n",
            "      Successfully uninstalled pyarrow-18.1.0\n",
            "  Attempting uninstall: datasets\n",
            "    Found existing installation: datasets 2.14.4\n",
            "    Uninstalling datasets-2.14.4:\n",
            "      Successfully uninstalled datasets-2.14.4\n",
            "\u001b[31mERROR: pip's dependency resolver does not currently take into account all the packages that are installed. This behaviour is the source of the following dependency conflicts.\n",
            "cudf-cu12 25.2.1 requires pyarrow<20.0.0a0,>=14.0.0; platform_machine == \"x86_64\", but you have pyarrow 22.0.0 which is incompatible.\n",
            "pylibcudf-cu12 25.2.1 requires pyarrow<20.0.0a0,>=14.0.0; platform_machine == \"x86_64\", but you have pyarrow 22.0.0 which is incompatible.\u001b[0m\u001b[31m\n",
            "\u001b[0mSuccessfully installed datasets-4.2.0 pyarrow-22.0.0\n"
          ]
        }
      ]
    },
    {
      "cell_type": "code",
      "source": [
        "!pip install --no-deps trl==0.23.1 bitsandbytes==0.48.1"
      ],
      "metadata": {
        "colab": {
          "base_uri": "https://localhost:8080/"
        },
        "id": "h7BXv2m87YuN",
        "outputId": "1e5dc4da-a93c-4a58-b272-aa44eb53d286"
      },
      "execution_count": 6,
      "outputs": [
        {
          "output_type": "stream",
          "name": "stdout",
          "text": [
            "Collecting trl==0.23.1\n",
            "  Downloading trl-0.23.1-py3-none-any.whl.metadata (11 kB)\n",
            "Collecting bitsandbytes==0.48.1\n",
            "  Using cached bitsandbytes-0.48.1-py3-none-manylinux_2_24_x86_64.whl.metadata (10 kB)\n",
            "Downloading trl-0.23.1-py3-none-any.whl (564 kB)\n",
            "\u001b[?25l   \u001b[90m━━━━━━━━━━━━━━━━━━━━━━━━━━━━━━━━━━━━━━━━\u001b[0m \u001b[32m0.0/564.6 kB\u001b[0m \u001b[31m?\u001b[0m eta \u001b[36m-:--:--\u001b[0m\r\u001b[2K   \u001b[90m━━━━━━━━━━━━━━━━━━━━━━━━━━━━━━━━━━━━━━━━\u001b[0m \u001b[32m564.6/564.6 kB\u001b[0m \u001b[31m17.8 MB/s\u001b[0m eta \u001b[36m0:00:00\u001b[0m\n",
            "\u001b[?25hUsing cached bitsandbytes-0.48.1-py3-none-manylinux_2_24_x86_64.whl (60.1 MB)\n",
            "Installing collected packages: trl, bitsandbytes\n",
            "Successfully installed bitsandbytes-0.48.1 trl-0.23.1\n"
          ]
        }
      ]
    },
    {
      "cell_type": "code",
      "source": [
        "from huggingface_hub import login\n",
        "login()"
      ],
      "metadata": {
        "colab": {
          "base_uri": "https://localhost:8080/",
          "height": 17,
          "referenced_widgets": [
            "6cc35f8df89e45d9a4209dca1478c938",
            "6de26f751ffd41c68a0129d00e53ea5f",
            "e9127b13da534555843699b046d7f7b9",
            "dec3e854938c4377af3f858efe4a0858",
            "275f83e543f44dc9bff26f62bda36c55",
            "b71a2a8d73c449e582a3ca338af49527",
            "1ed5634d8e504c81b9f20a35c9d74faa",
            "21e0c12ce8a64067ab99b6b9d9040c81",
            "ac4e96fc7da04f29bf1f3a463db288f3",
            "30c63add7f454fb1a6dcfe5f819a54b2",
            "35bbfee3c7db488783bf6fc609cb1204",
            "5b6e986a575748dfa7c43a65cce71d4c",
            "57b66ac34b434ab9a5c9ce50762b0cb5",
            "f0256c226c334949983b8f0ae704ccdc",
            "b87c520edd2e41bb8b119c68d38758be",
            "450d6f298b8f4f8b90c8151ffcbb7e1e",
            "b0b375b3f0ff4ef28ff54a7a23710d5f",
            "12c2bb837b1d4e8693f5188eaefbc15f",
            "45f925693b7d455f812766d143a8d287",
            "1fad8399abf2405a881d9401e601f18b"
          ]
        },
        "id": "dzirL499nc2f",
        "outputId": "8c6f5601-e5d7-457d-d17a-b3611a72e379"
      },
      "execution_count": 7,
      "outputs": [
        {
          "output_type": "display_data",
          "data": {
            "text/plain": [
              "VBox(children=(HTML(value='<center> <img\\nsrc=https://huggingface.co/front/assets/huggingface_logo-noborder.sv…"
            ],
            "application/vnd.jupyter.widget-view+json": {
              "version_major": 2,
              "version_minor": 0,
              "model_id": "6cc35f8df89e45d9a4209dca1478c938"
            }
          },
          "metadata": {}
        }
      ]
    },
    {
      "cell_type": "markdown",
      "metadata": {
        "id": "iGeA_IVZf51S"
      },
      "source": [
        "## テキストの分類\n"
      ]
    },
    {
      "cell_type": "code",
      "execution_count": 8,
      "metadata": {
        "id": "C54ajpI0f51T"
      },
      "outputs": [],
      "source": [
        "import datasets\n",
        "import numpy as np\n",
        "import torch\n",
        "import transformers\n",
        "\n",
        "np.set_printoptions(edgeitems=10, linewidth=70)\n",
        "torch.set_printoptions(edgeitems=10, linewidth=70)\n",
        "\n",
        "\n",
        "transformers.logging.set_verbosity_warning()\n",
        "datasets.logging.set_verbosity_error()"
      ]
    },
    {
      "cell_type": "markdown",
      "metadata": {
        "id": "Xj4hO0-Wf51U"
      },
      "source": [
        "### データセットの特定\n"
      ]
    },
    {
      "cell_type": "code",
      "execution_count": 9,
      "metadata": {
        "colab": {
          "base_uri": "https://localhost:8080/",
          "height": 483,
          "referenced_widgets": [
            "b3ee961a93274574900bf422a5e6e33b",
            "dcd0561f2408470094eca6828668a002",
            "494566d7c5a444de8e0a6492b95a8819",
            "b23fb4d5401b4f8eac0ace101844e9c6",
            "39333363a3be4a1c9905b0b4833e71c5",
            "9b8b42e2fd1b401b9333c922fbced36d",
            "e95b8973265b470ba59ff579e2dd9c87",
            "aceb59209aca40e58a33d11f65194e75",
            "5ba9e0d29a454436af37a12bad988e83",
            "4917df12b4c54bc9ac35d79d98577872",
            "d9e668c4de8348e4b5aac5146bb5638a",
            "83d97cc2ae6142beb622a1cf11f73886",
            "885f806ce6124af5b4ee9275c19dce39",
            "e692db7e5daf4adaaf73c5e1bd7b14c0",
            "012628079f8e4dafaa8ff78e435cba74",
            "53423821f6fa4d7f9a74ce6b35ece976",
            "0ba8efeed2584c3eab9f13081863fcdc",
            "4b973d1d71b74eacb49abef94e0482e8",
            "3b6f14fcaecc4768b2affed6f0065192",
            "7557b4e0b4f8469e9b029aeb49d7e6fd",
            "fd03c6825d814657b808483d52be3dff",
            "c63e4acbf186427f9f8fe6b36ccc7301",
            "1945f49644444a419571c6606fa999bd",
            "ad1824c38490468ca921f18faeeaccc6",
            "e449c658e97f4323aefcd1ddcf62e095",
            "b0ced70d351845768a8981390e386485",
            "ff1bffdca13e4bbe9d538a93a9641368",
            "48bc7ab306b54ba798beb4b9286b8368",
            "95c2587a51e84810b81dabb534370bca",
            "aea17dd44d254713a04239f2abd4ab14",
            "0568b690c9ed48cfba486c11969b391d",
            "ce369658dbaf454db890a5de58b06bad",
            "7a3a71c0ea944b37a192076bb111d9ad",
            "cf96244c4ec443729b974c0f1942ddba",
            "b7cfb10652f645d4978f215e157476d6",
            "d7521a966a57475a87946ea678a58663",
            "763ccba8b6d64e0d89e730abcfa84e44",
            "dc6495dc0e3f41569f1a2ab051bc02ed",
            "bae14097bdbb4435b34fa8f2a999dd35",
            "a437ac18ab8e48d88ce43591d1e186fe",
            "e02c034b59a54471a3ea7ade2e510414",
            "a39e732b2cc54c81a5b6714f7127746f",
            "77ed672158b444e1affff416f4ba2aa8",
            "9f05231d559f4a20b8e4cf08e1cb6c12",
            "90d1ac47a84a4aeaa997b6ea000825b8",
            "f372be0ffb57470f9f79a97bf7a6a9d8",
            "287d2a1da814473ba364b04764ef4f55",
            "bff8c949f764410bae5b33b0e2489f40",
            "c084323164f64f3ca93bb6fea0c297c8",
            "5e5a3c10d64f4d9995e6cdedf8f28b3a",
            "61fa01638e254ae4af3741e7cea0ab99",
            "646ec135570c4df2bdbd83de8009773d",
            "0ec4d66c55d74b5fac32c54ce0969f36",
            "1bbcf71b924f4e9c98144c179aa5bf2e",
            "29f862f7f5e249dc8e5a9acee32fa54f"
          ]
        },
        "id": "0m4lfk7If51U",
        "outputId": "51a48357-499c-4bc9-fba7-dfbd71abbde6"
      },
      "outputs": [
        {
          "output_type": "stream",
          "name": "stderr",
          "text": [
            "/usr/local/lib/python3.11/dist-packages/huggingface_hub/utils/_auth.py:94: UserWarning: \n",
            "The secret `HF_TOKEN` does not exist in your Colab secrets.\n",
            "To authenticate with the Hugging Face Hub, create a token in your settings tab (https://huggingface.co/settings/tokens), set it as secret in your Google Colab and restart your session.\n",
            "You will be able to reuse this secret in all of your notebooks.\n",
            "Please note that authentication is recommended but still optional to access public models or datasets.\n",
            "  warnings.warn(\n"
          ]
        },
        {
          "output_type": "display_data",
          "data": {
            "text/plain": [
              "README.md: 0.00B [00:00, ?B/s]"
            ],
            "application/vnd.jupyter.widget-view+json": {
              "version_major": 2,
              "version_minor": 0,
              "model_id": "b3ee961a93274574900bf422a5e6e33b"
            }
          },
          "metadata": {}
        },
        {
          "output_type": "display_data",
          "data": {
            "text/plain": [
              "data/train-00000-of-00001.parquet:   0%|          | 0.00/18.6M [00:00<?, ?B/s]"
            ],
            "application/vnd.jupyter.widget-view+json": {
              "version_major": 2,
              "version_minor": 0,
              "model_id": "83d97cc2ae6142beb622a1cf11f73886"
            }
          },
          "metadata": {}
        },
        {
          "output_type": "display_data",
          "data": {
            "text/plain": [
              "data/test-00000-of-00001.parquet:   0%|          | 0.00/1.23M [00:00<?, ?B/s]"
            ],
            "application/vnd.jupyter.widget-view+json": {
              "version_major": 2,
              "version_minor": 0,
              "model_id": "1945f49644444a419571c6606fa999bd"
            }
          },
          "metadata": {}
        },
        {
          "output_type": "display_data",
          "data": {
            "text/plain": [
              "Generating train split:   0%|          | 0/120000 [00:00<?, ? examples/s]"
            ],
            "application/vnd.jupyter.widget-view+json": {
              "version_major": 2,
              "version_minor": 0,
              "model_id": "cf96244c4ec443729b974c0f1942ddba"
            }
          },
          "metadata": {}
        },
        {
          "output_type": "display_data",
          "data": {
            "text/plain": [
              "Generating test split:   0%|          | 0/7600 [00:00<?, ? examples/s]"
            ],
            "application/vnd.jupyter.widget-view+json": {
              "version_major": 2,
              "version_minor": 0,
              "model_id": "90d1ac47a84a4aeaa997b6ea000825b8"
            }
          },
          "metadata": {}
        },
        {
          "output_type": "execute_result",
          "data": {
            "text/plain": [
              "DatasetDict({\n",
              "    train: Dataset({\n",
              "        features: ['text', 'label'],\n",
              "        num_rows: 120000\n",
              "    })\n",
              "    test: Dataset({\n",
              "        features: ['text', 'label'],\n",
              "        num_rows: 7600\n",
              "    })\n",
              "})"
            ]
          },
          "metadata": {},
          "execution_count": 9
        }
      ],
      "source": [
        "from datasets import load_dataset\n",
        "\n",
        "raw_datasets = load_dataset(\"ag_news\")\n",
        "raw_datasets"
      ]
    },
    {
      "cell_type": "code",
      "execution_count": 10,
      "metadata": {
        "colab": {
          "base_uri": "https://localhost:8080/"
        },
        "id": "VEi-fwgDf51V",
        "outputId": "57772af3-536e-45a0-b876-02ff823a98a4"
      },
      "outputs": [
        {
          "output_type": "execute_result",
          "data": {
            "text/plain": [
              "{'text': \"Wall St. Bears Claw Back Into the Black (Reuters) Reuters - Short-sellers, Wall Street's dwindling\\\\band of ultra-cynics, are seeing green again.\",\n",
              " 'label': 2}"
            ]
          },
          "metadata": {},
          "execution_count": 10
        }
      ],
      "source": [
        "raw_train_dataset = raw_datasets[\"train\"]\n",
        "raw_train_dataset[0]"
      ]
    },
    {
      "cell_type": "code",
      "execution_count": 11,
      "metadata": {
        "colab": {
          "base_uri": "https://localhost:8080/"
        },
        "id": "ja5zD3uMf51W",
        "outputId": "5d830b62-f836-482e-e26b-dbfa8ddf0622"
      },
      "outputs": [
        {
          "output_type": "stream",
          "name": "stdout",
          "text": [
            "{'text': Value('string'), 'label': ClassLabel(names=['World', 'Sports', 'Business', 'Sci/Tech'])}\n"
          ]
        }
      ],
      "source": [
        "print(raw_train_dataset.features)"
      ]
    },
    {
      "cell_type": "markdown",
      "metadata": {
        "id": "l2_8K-aFf51X"
      },
      "source": [
        "### データセットの前処理"
      ]
    },
    {
      "cell_type": "code",
      "execution_count": 12,
      "metadata": {
        "colab": {
          "base_uri": "https://localhost:8080/",
          "height": 484,
          "referenced_widgets": [
            "538e53b10bea4769abf38f07dc797253",
            "b0e8d14a46d04fea926e6915276f0103",
            "e867902585174ea7aa1b5ca1a62a4a17",
            "da6d2075e2234733b5a78e1936ee9f16",
            "34b2dc241b1d4d2c985b6b47ab79d044",
            "3d12dab6b8d847bdb4415e36a6ea7f0d",
            "e7cbca6a9e9d49d3962a92703dd8d1ac",
            "64b2aca56427401e87c823d0c012e6a3",
            "b4fe481f13fd46d6b50d6f5aeca2ae28",
            "e9fa3837d35b4e3ba861dc210d54aac7",
            "de30554aad2a4ea88b2df91b78766f78",
            "4b2539e6e5d1438d8cc73a68dcc603d2",
            "ac94724b00124a41aeea9eb58ed759cc",
            "c24843caacc540f5b6d0ad8fe67fa93f",
            "49bd7b199cc543cfb137e9a7e27e5868",
            "6c3797154f774f738caef6d2d40523de",
            "a979cc513c89474da831b4b960074e66",
            "6476842186c54e8d8430e802cf476130",
            "8992b291abe64753b780024d4163e641",
            "ba220078338b4f24873344cd6947b2a9",
            "35caf36d89034501b0b8d5f914506e9c",
            "9f43e8d54dce453c99ee73f35c67b11b",
            "75fae535946e4f1d83c3cf077823adf4",
            "6c2eccf567a248d69c77e6aa6743ee77",
            "cdd3fbbb0ee84a008222a04da05cb9cc",
            "5d90ffc5c42842ea9de841918f87b13c",
            "114df5ce8f6d4a50ba5ea66f4e0392af",
            "70e99420738342169c63d70322065a20",
            "28ddc93dd5cb4760be7d05881d1167f1",
            "b6fa16883e5f4033b6ded39bd0542524",
            "aaed1a8b3888454f995ffd40cd2da3fb",
            "734452d7e90041778722bbe820082118",
            "fa3c0c0b949540f68188a59bcc6c3f21",
            "840c4add9f2e4313a959e13424210081",
            "cb0d292416fd4f71b452c0fa23c760f8",
            "c3b30ed83f5a4e4895e8921c34a2c4ea",
            "dbce033f172549a4a225fa3f2ba635b7",
            "0897294dbf29417f8c520dffc81e9520",
            "bec1da52afde407e8aff0e22b33c8735",
            "f408b72556bd40a49571693196b5e1ca",
            "d3f0f50bd21849a4a43a09c71df4d9a8",
            "9f080c1edc9144f6bcf9f8ea7ad67edb",
            "9705cad06bf54f4391e7eb709fb62db8",
            "dfeac420c805446a8d64c2d14c60232f"
          ]
        },
        "id": "hDfEsOSof51X",
        "outputId": "7cb0816a-ed8a-4858-a0e3-fe4f1aaa667e"
      },
      "outputs": [
        {
          "output_type": "display_data",
          "data": {
            "text/plain": [
              "tokenizer_config.json:   0%|          | 0.00/48.0 [00:00<?, ?B/s]"
            ],
            "application/vnd.jupyter.widget-view+json": {
              "version_major": 2,
              "version_minor": 0,
              "model_id": "538e53b10bea4769abf38f07dc797253"
            }
          },
          "metadata": {}
        },
        {
          "output_type": "display_data",
          "data": {
            "text/plain": [
              "config.json:   0%|          | 0.00/483 [00:00<?, ?B/s]"
            ],
            "application/vnd.jupyter.widget-view+json": {
              "version_major": 2,
              "version_minor": 0,
              "model_id": "4b2539e6e5d1438d8cc73a68dcc603d2"
            }
          },
          "metadata": {}
        },
        {
          "output_type": "display_data",
          "data": {
            "text/plain": [
              "vocab.txt: 0.00B [00:00, ?B/s]"
            ],
            "application/vnd.jupyter.widget-view+json": {
              "version_major": 2,
              "version_minor": 0,
              "model_id": "75fae535946e4f1d83c3cf077823adf4"
            }
          },
          "metadata": {}
        },
        {
          "output_type": "display_data",
          "data": {
            "text/plain": [
              "tokenizer.json: 0.00B [00:00, ?B/s]"
            ],
            "application/vnd.jupyter.widget-view+json": {
              "version_major": 2,
              "version_minor": 0,
              "model_id": "840c4add9f2e4313a959e13424210081"
            }
          },
          "metadata": {}
        },
        {
          "output_type": "execute_result",
          "data": {
            "text/plain": [
              "{'input_ids': tensor([[  101,  2813,  2358,  1012,  6468, 15020,  2067,  2046,\n",
              "          1996,  2304,  1006, 26665,  1007, 26665,  1011,  2460,\n",
              "          1011, 19041,  1010,  2813,  2395,  1005,  1055,  1040,\n",
              "         11101,  2989,  1032,  2316,  1997, 11087,  1011, 22330,\n",
              "          8713,  2015,  1010,  2024,  3773,  2665,  2153,  1012,\n",
              "           102,     0,     0,     0,     0,     0,     0,     0,\n",
              "             0,     0,     0,     0,     0],\n",
              "        [  101, 18431,  2571,  3504,  2646,  3293, 13395,  1006,\n",
              "         26665,  1007, 26665,  1011,  2797,  5211,  3813, 18431,\n",
              "          2571,  2177,  1010,  1032,  2029,  2038,  1037,  5891,\n",
              "          2005,  2437,  2092,  1011, 22313,  1998,  5681,  1032,\n",
              "          6801,  3248,  1999,  1996,  3639,  3068,  1010,  2038,\n",
              "          5168,  2872,  1032,  2049, 29475,  2006,  2178,  2112,\n",
              "          1997,  1996,  3006,  1012,   102]]), 'attention_mask': tensor([[1, 1, 1, 1, 1, 1, 1, 1, 1, 1, 1, 1, 1, 1, 1, 1, 1, 1, 1, 1,\n",
              "         1, 1, 1, 1, 1, 1, 1, 1, 1, 1, 1, 1, 1, 1, 1, 1, 1, 1, 1, 1,\n",
              "         1, 0, 0, 0, 0, 0, 0, 0, 0, 0, 0, 0, 0],\n",
              "        [1, 1, 1, 1, 1, 1, 1, 1, 1, 1, 1, 1, 1, 1, 1, 1, 1, 1, 1, 1,\n",
              "         1, 1, 1, 1, 1, 1, 1, 1, 1, 1, 1, 1, 1, 1, 1, 1, 1, 1, 1, 1,\n",
              "         1, 1, 1, 1, 1, 1, 1, 1, 1, 1, 1, 1, 1]])}"
            ]
          },
          "metadata": {},
          "execution_count": 12
        }
      ],
      "source": [
        "from transformers import AutoTokenizer\n",
        "\n",
        "checkpoint = \"distilbert/distilbert-base-uncased\"\n",
        "tokenizer = AutoTokenizer.from_pretrained(checkpoint)\n",
        "\n",
        "\n",
        "def tokenize_function(batch):\n",
        "    return tokenizer(\n",
        "        batch[\"text\"], truncation=True, padding=True, return_tensors=\"pt\"\n",
        "    )\n",
        "\n",
        "\n",
        "tokenize_function(raw_train_dataset[:2])"
      ]
    },
    {
      "cell_type": "code",
      "execution_count": 13,
      "metadata": {
        "colab": {
          "base_uri": "https://localhost:8080/",
          "height": 260,
          "referenced_widgets": [
            "d35c37f1ad774b59901f7d55dee86ebc",
            "9deb79bed0d14f14a9cafc3125bdfeac",
            "20d3b112ee614e809d7b8a32c94d6b80",
            "cdcce84825e94486b19a79e1372cf29c",
            "d0527186f2db4af093a078c71b614abd",
            "b60ebef1e514447aa3d4da2a6ead3447",
            "3ec2b80359f14b43b6bdef897dc865ab",
            "d206459f31ed44f3bc75282987d60669",
            "fec5cc7e4e3d408abe2cde84a77f3b1d",
            "7cce4d17d08e43f09303130727ece3e6",
            "c801ee6cb8af453bb022bf31586b494c",
            "cb153d2b12144cb891780f64300adb9b",
            "f8e95764eea745359c6500bfeb9f5a6f",
            "462afe762e5f4d56a95b25b16fc2f6bf",
            "04da55610d444c6cb146b6e4188d56f8",
            "819f4a68f0fa4bfbbb43cb464cf7944d",
            "5df569503afd4d0ab6698b29d1752c52",
            "24ea5582c7584ae3a23e8e1a02555181",
            "d753f03512e14b1092ca2d0c1309e010",
            "0f07deed533040f895ad0a181deac0a1",
            "529fd2df481044e5ba6a81f839084014",
            "6ab92be29dde409e81a10159524458c5"
          ]
        },
        "id": "wXG7loJ-f51-",
        "outputId": "41811255-b841-437b-d92d-683b640f3e4c"
      },
      "outputs": [
        {
          "output_type": "display_data",
          "data": {
            "text/plain": [
              "Map:   0%|          | 0/120000 [00:00<?, ? examples/s]"
            ],
            "application/vnd.jupyter.widget-view+json": {
              "version_major": 2,
              "version_minor": 0,
              "model_id": "d35c37f1ad774b59901f7d55dee86ebc"
            }
          },
          "metadata": {}
        },
        {
          "output_type": "display_data",
          "data": {
            "text/plain": [
              "Map:   0%|          | 0/7600 [00:00<?, ? examples/s]"
            ],
            "application/vnd.jupyter.widget-view+json": {
              "version_major": 2,
              "version_minor": 0,
              "model_id": "cb153d2b12144cb891780f64300adb9b"
            }
          },
          "metadata": {}
        },
        {
          "output_type": "execute_result",
          "data": {
            "text/plain": [
              "DatasetDict({\n",
              "    train: Dataset({\n",
              "        features: ['text', 'label', 'input_ids', 'attention_mask'],\n",
              "        num_rows: 120000\n",
              "    })\n",
              "    test: Dataset({\n",
              "        features: ['text', 'label', 'input_ids', 'attention_mask'],\n",
              "        num_rows: 7600\n",
              "    })\n",
              "})"
            ]
          },
          "metadata": {},
          "execution_count": 13
        }
      ],
      "source": [
        "tokenized_datasets = raw_datasets.map(tokenize_function, batched=True)\n",
        "tokenized_datasets"
      ]
    },
    {
      "cell_type": "markdown",
      "metadata": {
        "id": "VPv-hRp3f51_"
      },
      "source": [
        "### 評価指標の定義"
      ]
    },
    {
      "cell_type": "code",
      "execution_count": 14,
      "metadata": {
        "colab": {
          "base_uri": "https://localhost:8080/",
          "height": 228,
          "referenced_widgets": [
            "a976e94c1c7146eb9e0a0fc9ef39b459",
            "335be78f0ca449ada9e6c590b3c301fb",
            "b661f82879234b2cb0c0ee1b4a577b4c",
            "c48ebbb54bb04edd8c5fa9d236d2c1b7",
            "84a5253baa49481d83dee132f1dc4110",
            "26e7ed67d2144b6297ae6c6c7f8fb3cb",
            "e963a557ac09419dae3ccf1d2141069c",
            "b990225cbdeb4d2da4a9aeb1346fa523",
            "3b94f2682f0346428f548f75987787b8",
            "39f68633b0744b27a6b8e634d28192de",
            "ffb8f83492bd4b88a43e024aa128a920"
          ]
        },
        "id": "42bezG5vf51_",
        "outputId": "df6e2a5b-a1e5-4d4f-ea0d-d0da850ea23f"
      },
      "outputs": [
        {
          "output_type": "display_data",
          "data": {
            "text/plain": [
              "Downloading builder script: 0.00B [00:00, ?B/s]"
            ],
            "application/vnd.jupyter.widget-view+json": {
              "version_major": 2,
              "version_minor": 0,
              "model_id": "a976e94c1c7146eb9e0a0fc9ef39b459"
            }
          },
          "metadata": {}
        },
        {
          "output_type": "stream",
          "name": "stdout",
          "text": [
            "\n",
            "Accuracy is the proportion of correct predictions among the total number of cases processed. It can be computed with:\n",
            "Accuracy = (TP + TN) / (TP + TN + FP + FN)\n",
            " Where:\n",
            "TP: True positive\n",
            "TN: True negative\n",
            "FP: False positive\n",
            "FN: False negative\n",
            "\n",
            "{'accuracy': 0.5}\n"
          ]
        }
      ],
      "source": [
        "import evaluate\n",
        "\n",
        "accuracy = evaluate.load(\"accuracy\")\n",
        "print(accuracy.description)\n",
        "print(accuracy.compute(references=[0, 1, 0, 1], predictions=[1, 0, 0, 1]))"
      ]
    },
    {
      "cell_type": "code",
      "execution_count": 15,
      "metadata": {
        "colab": {
          "base_uri": "https://localhost:8080/",
          "height": 49,
          "referenced_widgets": [
            "121d3d8e396144edba833af145d0630e",
            "c44481659dd7445883006464bb098616",
            "e4fceed28bd3423593403bbe87199c66",
            "d14af5faedeb493fa2a4dc24752eb69f",
            "311ace2d52a0441ea6aef41b9dd64bf0",
            "cbb5f2acd1ce4032a95c0a66cb748331",
            "dfc9f4725b3f4d73b7dfd0f1973a9f5a",
            "d08b127342f04deea94315f5f79fb0a7",
            "b63ac95af75d415d8737894e3c05ba65",
            "bb09fb89d31b47488ee88c4439e8c872",
            "fa6c5d7d067243eabb120b337107a77c"
          ]
        },
        "id": "WBaCahjkf51_",
        "outputId": "7ae0099d-ba9f-4e95-e516-1fddbfde0c8a"
      },
      "outputs": [
        {
          "output_type": "display_data",
          "data": {
            "text/plain": [
              "Downloading builder script: 0.00B [00:00, ?B/s]"
            ],
            "application/vnd.jupyter.widget-view+json": {
              "version_major": 2,
              "version_minor": 0,
              "model_id": "121d3d8e396144edba833af145d0630e"
            }
          },
          "metadata": {}
        }
      ],
      "source": [
        "f1_score = evaluate.load(\"f1\")\n",
        "\n",
        "\n",
        "def compute_metrics(pred):\n",
        "    labels = pred.label_ids\n",
        "    preds = pred.predictions.argmax(-1)\n",
        "\n",
        "    # 精度とF1スコアを求める\n",
        "    acc_result = accuracy.compute(references=labels, predictions=preds)\n",
        "    acc = acc_result[\"accuracy\"]\n",
        "\n",
        "    f1_result = f1_score.compute(\n",
        "        references=labels, predictions=preds, average=\"weighted\"\n",
        "    )\n",
        "    f1 = f1_result[\"f1\"]\n",
        "\n",
        "    return {\"accuracy\": acc, \"f1\": f1}"
      ]
    },
    {
      "cell_type": "markdown",
      "metadata": {
        "id": "OZYiJmyuf52A"
      },
      "source": [
        "### モデルの訓練\n"
      ]
    },
    {
      "cell_type": "code",
      "execution_count": 16,
      "metadata": {
        "colab": {
          "base_uri": "https://localhost:8080/",
          "height": 105,
          "referenced_widgets": [
            "f34125b358de440f9beebd069e13232e",
            "1e0cb8fd94684cc38bed4d57942acfcc",
            "0fae5b3f12a0415a9289b2dea0c5c624",
            "e79395bf59a941919d28ba410daa8c3d",
            "99f7ab79eb8f4c21931cc1dc8a27e13b",
            "8f696447eb4e4b13bdc75e88c2050499",
            "22c0bfb6f2c74d36a1fb84d8f001067f",
            "d0079ba584354783872ac0d1eea1608f",
            "be071646f01848319731fffe8f7ef444",
            "7dac010e06a248878bed0f0d44ddf920",
            "69a4c4f4091d48ceaaaadb96ec01766c"
          ]
        },
        "id": "ftTzcLQWf52A",
        "outputId": "eca5d7db-893c-4ae2-bb55-0b71116c3c9a"
      },
      "outputs": [
        {
          "output_type": "display_data",
          "data": {
            "text/plain": [
              "model.safetensors:   0%|          | 0.00/268M [00:00<?, ?B/s]"
            ],
            "application/vnd.jupyter.widget-view+json": {
              "version_major": 2,
              "version_minor": 0,
              "model_id": "f34125b358de440f9beebd069e13232e"
            }
          },
          "metadata": {}
        },
        {
          "output_type": "stream",
          "name": "stderr",
          "text": [
            "Some weights of DistilBertForSequenceClassification were not initialized from the model checkpoint at distilbert/distilbert-base-uncased and are newly initialized: ['classifier.bias', 'classifier.weight', 'pre_classifier.bias', 'pre_classifier.weight']\n",
            "You should probably TRAIN this model on a down-stream task to be able to use it for predictions and inference.\n"
          ]
        }
      ],
      "source": [
        "import torch\n",
        "from transformers import AutoModelForSequenceClassification\n",
        "\n",
        "from genaibook.core import get_device\n",
        "\n",
        "device = get_device()\n",
        "num_labels = 4\n",
        "model = AutoModelForSequenceClassification.from_pretrained(\n",
        "    checkpoint, num_labels=num_labels\n",
        ").to(device)"
      ]
    },
    {
      "cell_type": "code",
      "execution_count": 17,
      "metadata": {
        "id": "sY4MQQO6f52A"
      },
      "outputs": [],
      "source": [
        "from transformers import TrainingArguments\n",
        "\n",
        "batch_size = 32  # GPUのサイズに合わせて値を変更してもよい\n",
        "training_args = TrainingArguments(\n",
        "    \"classifier-chapter4\",\n",
        "    push_to_hub=True,\n",
        "    num_train_epochs=2,\n",
        "    eval_strategy=\"epoch\",\n",
        "    per_device_train_batch_size=batch_size,\n",
        "    per_device_eval_batch_size=batch_size,\n",
        "    report_to=\"none\"\n",
        ")"
      ]
    },
    {
      "cell_type": "code",
      "execution_count": 18,
      "metadata": {
        "colab": {
          "base_uri": "https://localhost:8080/"
        },
        "id": "SCKCmMsTf52A",
        "outputId": "e034f398-d307-4cc1-d266-775d7a189998"
      },
      "outputs": [
        {
          "output_type": "stream",
          "name": "stderr",
          "text": [
            "/tmp/ipython-input-18-2703934497.py:8: FutureWarning: `tokenizer` is deprecated and will be removed in version 5.0.0 for `Trainer.__init__`. Use `processing_class` instead.\n",
            "  trainer = Trainer(\n"
          ]
        }
      ],
      "source": [
        "from transformers import Trainer\n",
        "\n",
        "# データセットをシャッフルし、訓練用に10,000件のサンプルを抽出する\n",
        "shuffled_dataset = tokenized_datasets[\"train\"].shuffle(seed=42)\n",
        "small_split = shuffled_dataset.select(range(10000))\n",
        "\n",
        "# Trainerを初期化する\n",
        "trainer = Trainer(\n",
        "    model=model,\n",
        "    args=training_args,\n",
        "    compute_metrics=compute_metrics,\n",
        "    train_dataset=small_split,\n",
        "    eval_dataset=tokenized_datasets[\"test\"],\n",
        "    tokenizer=tokenizer,\n",
        ")"
      ]
    },
    {
      "cell_type": "code",
      "execution_count": 19,
      "metadata": {
        "colab": {
          "base_uri": "https://localhost:8080/",
          "height": 174
        },
        "id": "Btvam6Ndf52A",
        "outputId": "b7feeb67-ab4d-4efe-e06d-7ca99d5bd4b3"
      },
      "outputs": [
        {
          "output_type": "display_data",
          "data": {
            "text/plain": [
              "<IPython.core.display.HTML object>"
            ],
            "text/html": [
              "\n",
              "    <div>\n",
              "      \n",
              "      <progress value='626' max='626' style='width:300px; height:20px; vertical-align: middle;'></progress>\n",
              "      [626/626 05:06, Epoch 2/2]\n",
              "    </div>\n",
              "    <table border=\"1\" class=\"dataframe\">\n",
              "  <thead>\n",
              " <tr style=\"text-align: left;\">\n",
              "      <th>Epoch</th>\n",
              "      <th>Training Loss</th>\n",
              "      <th>Validation Loss</th>\n",
              "      <th>Accuracy</th>\n",
              "      <th>F1</th>\n",
              "    </tr>\n",
              "  </thead>\n",
              "  <tbody>\n",
              "    <tr>\n",
              "      <td>1</td>\n",
              "      <td>No log</td>\n",
              "      <td>0.259340</td>\n",
              "      <td>0.912500</td>\n",
              "      <td>0.912211</td>\n",
              "    </tr>\n",
              "    <tr>\n",
              "      <td>2</td>\n",
              "      <td>0.300000</td>\n",
              "      <td>0.238382</td>\n",
              "      <td>0.922763</td>\n",
              "      <td>0.922788</td>\n",
              "    </tr>\n",
              "  </tbody>\n",
              "</table><p>"
            ]
          },
          "metadata": {}
        },
        {
          "output_type": "execute_result",
          "data": {
            "text/plain": [
              "TrainOutput(global_step=626, training_loss=0.2746467163768439, metrics={'train_runtime': 313.5634, 'train_samples_per_second': 63.783, 'train_steps_per_second': 1.996, 'total_flos': 1875180164398464.0, 'train_loss': 0.2746467163768439, 'epoch': 2.0})"
            ]
          },
          "metadata": {},
          "execution_count": 19
        }
      ],
      "source": [
        "trainer.train()"
      ]
    },
    {
      "cell_type": "code",
      "execution_count": 20,
      "metadata": {
        "colab": {
          "base_uri": "https://localhost:8080/",
          "height": 216,
          "referenced_widgets": [
            "efd9107cb7db408e8937f895501a42ce",
            "a16d450b0832405bb65dfc0766227a13",
            "f6e89b6ffeb84f32a7e1edc654d9791d",
            "ad9379916b674243bffcc740e2a7730b",
            "7b68f59c0bc649dbb46a9d2bc8ba76ab",
            "5c849f9b999e4e1c8ace9d7e927c5a2f",
            "f987db2c302e4d459d7df143d9462e97",
            "2ca0d7448040437996bece2c66aa8f3b",
            "62fc17d67e1045679f008385f1da1503",
            "3a51452c47c74fc1a17553b8f77f462e",
            "7d31ae2278424593b68e02add61b4945",
            "0851d4a9ff1f4a0083e4649d745be015",
            "b89665662506484da537be758859332d",
            "b4ebb5f4543247c7b3d2e5fd52c923cb",
            "b474f4fd3e454e81b57219b402f3c769",
            "3af26acc69d74d3a895e7c392717c1e0",
            "522880c2c1a84a5588a3db0f7fe1b4ca",
            "69e968a48adc44c68e17c0ec8ce69660",
            "61a668de36dc468b82f496d87eb44ac4",
            "9472b6f1c6b0405099e877c8d78aa066",
            "7c532c012fda4fee8be3499e3046aff5",
            "f5dd63669ecd43cd9da2fdba93ee7883",
            "921141c771214f378ad0bda2a90f1295",
            "5c614cc1e8a84fabb8696fb61fe6e952",
            "c96017a7a0dc474a94ebf34e3d52f850",
            "24c1787781a943bbacd4229c1492008c",
            "92e93f1b4a554a85a435959df7561936",
            "2ff9c5d9f711481d8d1d820873f053fb",
            "ea0103a2ffe447eebbc4732d5e3a1f79",
            "be998d00d537434a9791c21fecdefcdb",
            "245977eee6d24922913bcb3abd9c697f",
            "df3cd9198fa44185ba90342a60e95e40",
            "71096bf8905840fb8c2465f15467a98f",
            "f52b22fc9562497486286cc43c5e1807",
            "1445e71c209e4edb94b98db8ae45b4e1",
            "a6eea107a1ad414392568ff06187e28e",
            "edcdd37489b84a599d5fe52d558608fa",
            "6d0b2bfed5804451912b2664fa65bc72",
            "a8ea0c18d8bd4fd9ab858a4ada99b1bc",
            "9ce13a91c34c4215903c9e384e8ff4e5",
            "9d9b88d21bc3418285c9ab33d40c2ec8",
            "7bfab561a4fa412ebaf1c50d55e93b4c",
            "83024c66b28b4501b7e5410ece3409f1",
            "f053258d8b544a0fb0666231e6f79fef"
          ]
        },
        "id": "0EJRJgGqf52B",
        "outputId": "3589528d-2ec6-4c89-a29f-c7a4b46520e4"
      },
      "outputs": [
        {
          "output_type": "display_data",
          "data": {
            "text/plain": [
              "Processing Files (0 / 0)      : |          |  0.00B /  0.00B            "
            ],
            "application/vnd.jupyter.widget-view+json": {
              "version_major": 2,
              "version_minor": 0,
              "model_id": "efd9107cb7db408e8937f895501a42ce"
            }
          },
          "metadata": {}
        },
        {
          "output_type": "display_data",
          "data": {
            "text/plain": [
              "New Data Upload               : |          |  0.00B /  0.00B            "
            ],
            "application/vnd.jupyter.widget-view+json": {
              "version_major": 2,
              "version_minor": 0,
              "model_id": "0851d4a9ff1f4a0083e4649d745be015"
            }
          },
          "metadata": {}
        },
        {
          "output_type": "display_data",
          "data": {
            "text/plain": [
              "  ...hapter4/training_args.bin: 100%|##########| 5.84kB / 5.84kB            "
            ],
            "application/vnd.jupyter.widget-view+json": {
              "version_major": 2,
              "version_minor": 0,
              "model_id": "921141c771214f378ad0bda2a90f1295"
            }
          },
          "metadata": {}
        },
        {
          "output_type": "display_data",
          "data": {
            "text/plain": [
              "  ...hapter4/model.safetensors:  16%|#5        | 41.9MB /  268MB            "
            ],
            "application/vnd.jupyter.widget-view+json": {
              "version_major": 2,
              "version_minor": 0,
              "model_id": "f52b22fc9562497486286cc43c5e1807"
            }
          },
          "metadata": {}
        },
        {
          "output_type": "execute_result",
          "data": {
            "text/plain": [
              "CommitInfo(commit_url='https://huggingface.co/egglang/classifier-chapter4/commit/7fc83e4af5163ba831f24c1b9718441b1ba6f9c2', commit_message='End of training', commit_description='', oid='7fc83e4af5163ba831f24c1b9718441b1ba6f9c2', pr_url=None, repo_url=RepoUrl('https://huggingface.co/egglang/classifier-chapter4', endpoint='https://huggingface.co', repo_type='model', repo_id='egglang/classifier-chapter4'), pr_revision=None, pr_num=None)"
            ],
            "application/vnd.google.colaboratory.intrinsic+json": {
              "type": "string"
            }
          },
          "metadata": {},
          "execution_count": 20
        }
      ],
      "source": [
        "trainer.push_to_hub()"
      ]
    },
    {
      "cell_type": "code",
      "execution_count": 20,
      "metadata": {
        "colab": {
          "base_uri": "https://localhost:8080/",
          "height": 277,
          "referenced_widgets": [
            "5f5c067c5f4243888a60baaddb780f7e",
            "5dcae005a2564f0287dc364f1731d06d",
            "fbd366f2f5e04ba58ec551062ee1fd14",
            "27b6adecc456413eb6d1cdd57d4fa2eb",
            "4a43d9f016194f0f8457b2ecfdb54668",
            "ad99d7f10e0d4e279329a3569c9c2dfa",
            "83940cebbbe04d9187eab0936180a255",
            "a904c9730977403da08563a9b536cef5",
            "eb540bc859ab46e590466b290ebba000",
            "143233190ce44b5fa9e8d759b26fe6ef",
            "9915f31e46804b3386e539dccc6bbc7a",
            "478d15d2d9aa4287b22a577c9a6e1aa6",
            "557c52e3bc604b2db982c3b5198140ab",
            "29d9d35331bb4247af6956178dc70b97",
            "0285e38947a6467cb36171fc7e318cf4",
            "186eb4c61ac34ad09cbbb7918aefcbde",
            "195989463c5d4e0f85073aa7cc75ee91",
            "7fe3725dca284707b096090f0978ff5b",
            "a3fe328e7182408db7f6bdaded1ab1df",
            "fdfad3225f2a49cf8dbebdfcb33edc4f",
            "6bffbf60ce9d44088eee0a24fb54982b",
            "e5a41481c0bd450fb928cb290f2c1afa",
            "0db01eb3d2784f00b9393e822a61c23a",
            "e985422a90dc4938a734429d07027f6d",
            "949ee843a8c142c7a24eff84ec0b06cc",
            "137daa5f77c3426fb7b5349cf5193f95",
            "65fe7ab864d745919e78151460b09581",
            "90569d6257b34b3e8e2c8ac61f99c162",
            "c03c1407d30f4366883918606d852ab8",
            "a166d4f7f5304bc5af1e0457cb7beb32",
            "a1eb6a242d4a4d72b8604fd00f20f059",
            "0d61e75625404414bb1c5e301d8e5071",
            "c37f7173bb3e47ee83e21088dce9828e",
            "950833c4239f49058b4350c4036b194d",
            "0cecc4dd65d844c79fe8415f3e0d9b9a",
            "5ff31a87b1a14defb8cd45877477b31a",
            "05a1ea1e7e3f47de954ff56117da15e8",
            "8622ed9df0a8414ab783abaeddcee675",
            "6fac58c755cb44f58a832f83382c7779",
            "bd01ab38fa3c4629b00b2c0e499c864b",
            "23e7d5e4141749febb1fd18b2ee656f8",
            "00b91204f863430d97d348677b50b14f",
            "706ccf35b49b4be9a98a95ead762c118",
            "ccb76401f2464e20bc8ea018db544821",
            "d7811bd821f343489a98ee7b49f1c7ed",
            "4c5b5c9a50cb4deb88df44f59edffab0",
            "da0f66da05f7499dae6386a181e70f35",
            "16756d62b9a94e5aaf18bfe59117e552",
            "f18b43e4d7d34b78bc9f0d026defcd12",
            "3a421d835c0b4756a35744c791a3975a",
            "66c7e90703754c69b5bfbc00d3526a17",
            "393d7247a5ee4b399110370febe09b54",
            "1c5196dad83e4d3d9eb625b5c931a014",
            "22f154742c3d4ac0a254a6ca27bd0892",
            "648fb1bcb8114dfa9a70c687fb6473fb",
            "7edf259b1922465aa5613699dbd5f95f",
            "61cdce21f8ee454d8ca57f3162104046",
            "7039714326f24ae99a597dd589c00961",
            "62c558c4d16c4b49bd38c8897ed8d01d",
            "2359cd10fb844375ac2e58b3b4c771ce",
            "503d4fdcbd324127be77457a51d3db5d",
            "080cffaae6164a6bb23d1a7f4d3a08e8",
            "6799ba2049b34b7c9ff3b5d367267cdd",
            "dea1c1b62a4b4d9ea843ed785bb56f30",
            "bac4d4c903fb4a058ecc1d091ff86f88",
            "0db5802980a345f3a428767f7ac4a6bf",
            "e442d92ada0040d0a45636f04c4880c3",
            "0c153380299249d5b7877dc595f9ef66",
            "127bfc4cfcbb41eeab0af7d8b103e126",
            "c5cd3cb3610a49d9819737b0c495dde0",
            "420a5801d4a54aa18e21872737b5d2e1",
            "9dcad7e1797c4f60b4217ab9b324a41c",
            "b10a659b454c4547bcfc5930fdf1c909",
            "e366e0f63e9d41bb9e4679a8bc77f3c6",
            "6b45161b88564dc9bf3378dcddc10357",
            "2b2eb7283ca34b27b1ba63f68116daf7",
            "611c2a51c0114cb0bf92f854e41a5b00"
          ]
        },
        "id": "tSD75HDGf52B",
        "outputId": "6ab8a199-2618-42b1-f9c4-a1865a636e74"
      },
      "outputs": [
        {
          "output_type": "display_data",
          "data": {
            "text/plain": [
              "config.json:   0%|          | 0.00/805 [00:00<?, ?B/s]"
            ],
            "application/vnd.jupyter.widget-view+json": {
              "version_major": 2,
              "version_minor": 0,
              "model_id": "5f5c067c5f4243888a60baaddb780f7e"
            }
          },
          "metadata": {}
        },
        {
          "output_type": "display_data",
          "data": {
            "text/plain": [
              "pytorch_model.bin:   0%|          | 0.00/268M [00:00<?, ?B/s]"
            ],
            "application/vnd.jupyter.widget-view+json": {
              "version_major": 2,
              "version_minor": 0,
              "model_id": "478d15d2d9aa4287b22a577c9a6e1aa6"
            }
          },
          "metadata": {}
        },
        {
          "output_type": "display_data",
          "data": {
            "text/plain": [
              "tokenizer_config.json: 0.00B [00:00, ?B/s]"
            ],
            "application/vnd.jupyter.widget-view+json": {
              "version_major": 2,
              "version_minor": 0,
              "model_id": "0db01eb3d2784f00b9393e822a61c23a"
            }
          },
          "metadata": {}
        },
        {
          "output_type": "display_data",
          "data": {
            "text/plain": [
              "model.safetensors:   0%|          | 0.00/268M [00:00<?, ?B/s]"
            ],
            "application/vnd.jupyter.widget-view+json": {
              "version_major": 2,
              "version_minor": 0,
              "model_id": "950833c4239f49058b4350c4036b194d"
            }
          },
          "metadata": {}
        },
        {
          "output_type": "display_data",
          "data": {
            "text/plain": [
              "vocab.txt: 0.00B [00:00, ?B/s]"
            ],
            "application/vnd.jupyter.widget-view+json": {
              "version_major": 2,
              "version_minor": 0,
              "model_id": "d7811bd821f343489a98ee7b49f1c7ed"
            }
          },
          "metadata": {}
        },
        {
          "output_type": "display_data",
          "data": {
            "text/plain": [
              "tokenizer.json: 0.00B [00:00, ?B/s]"
            ],
            "application/vnd.jupyter.widget-view+json": {
              "version_major": 2,
              "version_minor": 0,
              "model_id": "7edf259b1922465aa5613699dbd5f95f"
            }
          },
          "metadata": {}
        },
        {
          "output_type": "display_data",
          "data": {
            "text/plain": [
              "special_tokens_map.json:   0%|          | 0.00/125 [00:00<?, ?B/s]"
            ],
            "application/vnd.jupyter.widget-view+json": {
              "version_major": 2,
              "version_minor": 0,
              "model_id": "e442d92ada0040d0a45636f04c4880c3"
            }
          },
          "metadata": {}
        },
        {
          "output_type": "stream",
          "name": "stderr",
          "text": [
            "Device set to use cuda\n"
          ]
        },
        {
          "output_type": "execute_result",
          "data": {
            "text/plain": [
              "[{'label': 'Sports', 'score': 0.8631356358528137}]"
            ]
          },
          "metadata": {},
          "execution_count": 20
        }
      ],
      "source": [
        "# パイプラインを使って高レベルに操作する\n",
        "from transformers import pipeline\n",
        "\n",
        "pipe = pipeline(\n",
        "    \"text-classification\",\n",
        "    model=\"genaibook/classifier-chapter4\",  # 自分が作成した名称に変更する\n",
        "    device=\"cuda\",\n",
        ")\n",
        "\n",
        "pipe(\n",
        "    \"\"\"The soccer match between Spain and\n",
        "Portugal ended in a terrible result for Portugal.\"\"\"\n",
        ")"
      ]
    },
    {
      "cell_type": "code",
      "source": [
        "# すべてのサンプルについて予測を得る\n",
        "# model_preds = pipe.predict(tokenized_datasets[\"test\"][\"text\"])\n",
        "texts = [str(t) for t in tokenized_datasets[\"test\"][\"text\"]]\n",
        "model_preds = pipe(texts)\n",
        "\n",
        "# データセットのラベルを得る\n",
        "references = tokenized_datasets[\"test\"][\"label\"]\n",
        "\n",
        "# ラベル名のリストを得る\n",
        "label_names = raw_train_dataset.features[\"label\"].names\n",
        "\n",
        "# 最初の3サンプルの結果を表示する\n",
        "samples = 3\n",
        "texts = tokenized_datasets[\"test\"][\"text\"][:samples]\n",
        "for pred, ref, text in zip(model_preds[:samples], references[:samples], texts):\n",
        "    print(f\"Predicted {pred['label']}; Actual {label_names[ref]};\")\n",
        "    print(text)"
      ],
      "metadata": {
        "colab": {
          "base_uri": "https://localhost:8080/"
        },
        "id": "s98fQc5vvUli",
        "outputId": "38a16d38-1bd3-47b3-bc7c-f33b678b9c30"
      },
      "execution_count": 22,
      "outputs": [
        {
          "output_type": "stream",
          "name": "stdout",
          "text": [
            "Predicted Business; Actual Business;\n",
            "Fears for T N pension after talks Unions representing workers at Turner   Newall say they are 'disappointed' after talks with stricken parent firm Federal Mogul.\n",
            "Predicted Sci/Tech; Actual Sci/Tech;\n",
            "The Race is On: Second Private Team Sets Launch Date for Human Spaceflight (SPACE.com) SPACE.com - TORONTO, Canada -- A second\\team of rocketeers competing for the  #36;10 million Ansari X Prize, a contest for\\privately funded suborbital space flight, has officially announced the first\\launch date for its manned rocket.\n",
            "Predicted Sci/Tech; Actual Sci/Tech;\n",
            "Ky. Company Wins Grant to Study Peptides (AP) AP - A company founded by a chemistry researcher at the University of Louisville won a grant to develop a method of producing better peptides, which are short chains of amino acids, the building blocks of proteins.\n"
          ]
        }
      ]
    },
    {
      "cell_type": "code",
      "execution_count": 23,
      "metadata": {
        "colab": {
          "base_uri": "https://localhost:8080/",
          "height": 596,
          "referenced_widgets": [
            "4fe7db77a96c413a850c8f49a3e2cc1c",
            "7aef848d62e847b5a4b2c153ce6f7955",
            "985fabd8f8cd40ef85d3c214aa078103",
            "1ec0a55eda4446c6b1a35b8468d8d9f8",
            "8bdbea65106a4f21b4b7a4856675f931",
            "3b2b53a60558463eb3073c89a5bf461b",
            "aa661e58dba54d299ac034dad400c941",
            "3c7638814c10402ea295e5ab2aabf042",
            "c84a210e9d554fcdbfda72bbe5559bdb",
            "ed70546d70714b68b2da6d6f3bf48110",
            "ff38c74b70b74c59bde40b32d03a5648"
          ]
        },
        "id": "0y1YRGHif52B",
        "outputId": "5ef06ffe-ba56-465f-9c9d-5c13302635b0"
      },
      "outputs": [
        {
          "output_type": "display_data",
          "data": {
            "text/plain": [
              "Downloading builder script: 0.00B [00:00, ?B/s]"
            ],
            "application/vnd.jupyter.widget-view+json": {
              "version_major": 2,
              "version_minor": 0,
              "model_id": "4fe7db77a96c413a850c8f49a3e2cc1c"
            }
          },
          "metadata": {}
        },
        {
          "output_type": "display_data",
          "data": {
            "text/plain": [
              "<Figure size 600x600 with 1 Axes>"
            ],
            "image/png": "[encoded data removed]"
          },
          "metadata": {}
        }
      ],
      "source": [
        "import matplotlib.pyplot as plt\n",
        "from sklearn.metrics import ConfusionMatrixDisplay\n",
        "\n",
        "# 予測されたラベルをIDに変換する\n",
        "label_to_id = {name: i for i, name in enumerate(label_names)}\n",
        "pred_labels = [label_to_id[pred[\"label\"]] for pred in model_preds]\n",
        "\n",
        "# 混同行列を求める\n",
        "confusion_matrix = evaluate.load(\"confusion_matrix\")\n",
        "cm = confusion_matrix.compute(\n",
        "    references=references, predictions=pred_labels, normalize=\"true\"\n",
        ")[\"confusion_matrix\"]\n",
        "\n",
        "# 混同行列をプロットする\n",
        "fig, ax = plt.subplots(figsize=(6, 6))\n",
        "disp = ConfusionMatrixDisplay(confusion_matrix=cm, display_labels=label_names)\n",
        "disp.plot(cmap=\"Blues\", values_format=\".2f\", ax=ax, colorbar=False)\n",
        "plt.title(\"Normalized confusion matrix\")\n",
        "plt.show()"
      ]
    },
    {
      "cell_type": "markdown",
      "metadata": {
        "id": "nbWhlJ31f52B"
      },
      "source": [
        "## テキスト生成\n"
      ]
    },
    {
      "cell_type": "code",
      "execution_count": 24,
      "metadata": {
        "colab": {
          "base_uri": "https://localhost:8080/",
          "height": 81,
          "referenced_widgets": [
            "cab02045fc1c4b1c9fd9bdebc1d30f79",
            "a9dbdeab31df47b2a3c5ad36843f890d",
            "0327f2403f6248239d1b58bb94425cb5",
            "3b1748a4c19041ec802773e1f9524dad",
            "82080d3499a24036b316389a2bf34b73",
            "15592a0cb88f4348b5a21df745a050d8",
            "28e88ef723d4445bb4880f1435d5aa3a",
            "479930fe59c940ce8d8da80f5c44e018",
            "dad2b509a7e14089bf687221cfa2aa24",
            "a3119fd7398f4a7d92657ccb4d1dcfd7",
            "9d8daa2d16b6415a85833c69d16cf4b0",
            "b71d81e2ab1647b5b22e7735da762f9e",
            "5e2044a5abe84c439cbee9e4d30dac20",
            "9e319d1313c545bc9b10d53fbf32ed94",
            "880f8fea54684a9c8a24e37f9700bad2",
            "2db35489b116492dabf28aa01ef7e1b4",
            "720095c1199a4afe9af886b64dfda775",
            "fa667a3be0e349f685c0bb380179ec59",
            "38b4ab1cdc6a461d9b0229cc0c5ac0ee",
            "9df3f529c2ca4dd7a9e355be401b1e13",
            "003d4f124039445eb1b934dad1905d60",
            "348650ce0c704d83b15658f2014bc42b"
          ]
        },
        "id": "nq9N4b2ff52C",
        "outputId": "547fc16d-cf87-46f5-eb8b-59d61c9f6b99"
      },
      "outputs": [
        {
          "output_type": "display_data",
          "data": {
            "text/plain": [
              "Filter:   0%|          | 0/120000 [00:00<?, ? examples/s]"
            ],
            "application/vnd.jupyter.widget-view+json": {
              "version_major": 2,
              "version_minor": 0,
              "model_id": "cab02045fc1c4b1c9fd9bdebc1d30f79"
            }
          },
          "metadata": {}
        },
        {
          "output_type": "display_data",
          "data": {
            "text/plain": [
              "Filter:   0%|          | 0/7600 [00:00<?, ? examples/s]"
            ],
            "application/vnd.jupyter.widget-view+json": {
              "version_major": 2,
              "version_minor": 0,
              "model_id": "b71d81e2ab1647b5b22e7735da762f9e"
            }
          },
          "metadata": {}
        }
      ],
      "source": [
        "filtered_datasets = raw_datasets.filter(lambda example: example[\"label\"] == 2)\n",
        "filtered_datasets = filtered_datasets.remove_columns(\"label\")"
      ]
    },
    {
      "cell_type": "markdown",
      "metadata": {
        "id": "8BC4DE1jf52C"
      },
      "source": [
        "### 生成モデルの訓練"
      ]
    },
    {
      "cell_type": "code",
      "execution_count": 25,
      "metadata": {
        "colab": {
          "base_uri": "https://localhost:8080/",
          "height": 273,
          "referenced_widgets": [
            "508ec213e9e348b2befc1a9c1e049210",
            "4421ffe5988342828431500931e6587d",
            "3be4e04f936a428b81f2a047e32ca84b",
            "7fb5728f9ca84e07b0f709af9b83e40d",
            "2c7b50f6db3e4607a9d8393a18aff796",
            "d6c4db06409b497bbd55908e977b0c02",
            "2abbd7925ae64b20abcfa0fa06b625ab",
            "309ad58a2573496ba6c32da32fcd769f",
            "5573c93c1e3d4641a4fe8a6e9fc3b148",
            "3baca28045d649cd8266e9b8d1a83e54",
            "627674893f504000a4db383fc3fdbad1",
            "1b9809c1f4f94db7aefe5e14ebfa8d84",
            "1af789077769448daa23ab32f900a685",
            "d9c1baf57b5c494e8cc5b124ec9213d6",
            "0015d863c40d478688dcadba32b85504",
            "8fe0851b47054879a1c5eac83803faec",
            "35d05b4dbc964b17bb49f9be0f8391ba",
            "c3d7bae5a86741e1a487286f82ca47c5",
            "27ff3b46a9e5430bad7f9b7a593ba87a",
            "6589b434b18a4150b848097f5b001656",
            "d42c1320ff2b40f39294319f41f746ba",
            "9a9e7fc05bd447d6bba007363c9acb40",
            "8879625f7eea422d86dd3368fe16b02c",
            "6f3db0667c0a4696894498329b6df556",
            "0e7228ac16c0426fb0f2ed0b5236b3d8",
            "6556608b991140b4b8badec23f6a13f6",
            "dcfd1c9eff9041df80cbc7cc60f65980",
            "b4a8cce348c34a61be340811472769f7",
            "ad90fbe30df4457e88897f422e8a130a",
            "631b239355b14753bd732cab81aa255e",
            "903e0cb2ae464141aa0d45f8d1a3d60c",
            "cb52f7484b57496fbe952173f39f3195",
            "d54a7f0330644ff6865b1580f5f7b0f5",
            "b53013bcaa1745fa871d0167aa3dafac",
            "db31c4089e954c81bec672ddcbc69e38",
            "eed354152c7149c0949ea46c302d93b0",
            "0b366705635243359edde7801cd09474",
            "5898f8e79c9e45abbc32855c2afe20d5",
            "f07dcbe2348d4e0b809e1f3c584901e1",
            "bbfe9f2ac09544bc9e609959c221282f",
            "dca1f78e45a44767ba7da8025bc96e08",
            "344be569f97b41cbb97811ee69a42291",
            "8dd14d7f395d4c6c882a101cf3c328a7",
            "30066b7b1b834925995feddd07c9de4f",
            "96510b5bc6db4466b11d3c817912acca",
            "8d106a9770f3413baed36beb21bea947",
            "eac06e22c4c64c97adc1771c920d5d60",
            "4e05c048d6e24491b92e2cf85747d9ed",
            "9341a8028dbb4e02bd112f60f69de7cc",
            "21a8fe9d62294ad5b4d27f2792da1dbe",
            "741be658a4834ca190c1373197be60e5",
            "20883bd1f8e3409b9538974bc397d0a8",
            "c941ada33e90421c8c3b06b0b3e414e5",
            "a376ac890ad4455a9aa18b70d45b3ffa",
            "dc7e124d4d664ee0b05a2bc260f69fa2",
            "9309ce8539ee4e78b9101a116130914b",
            "f7c8698a309b48ec9f7be6890f406981",
            "124de35905a5485cb71ff8367da602b1",
            "a61addabe1ad42378e4c9d5f2290df69",
            "823238562ef6461485acc30a67719697",
            "b81cf15bcd8f4a90866e5cd71e076987",
            "47950f8aea694205a1de37bc27bf689f",
            "f862eee989a3464bbdec32fdc6cc306a",
            "7bafdd5db605490492da8ad748afef20",
            "3864d719c7db47f28862393ad350e851",
            "36eaac9ee00b432ba4b3f6cae57fe2eb",
            "a4a93f024cd544bebd16893b0d7074c9",
            "7d9cb3c01f374f50ac9a7bba53acbd3e",
            "9c4c9dbee663455cae90b94a1cc795cf",
            "f192453748c54b7790d9ef9b9850264f",
            "e2c5f43bfe344196843b611a0c6abc92",
            "39c4ca83338b44628ecfc83728a454b9",
            "d4cdaeb751f6419caf5b734bc17f1a78",
            "51ad841b155a477fba5000fa1e7ffc7a",
            "8155784de62347e89f853df4073281f1",
            "0054ad8154794a37aa815aaa95ddf111",
            "971ed41924da49b2b0521e1a88f8a99f",
            "276a1d4c8caa45158d84f5d83e4a0a3a",
            "3072ff3110f44e298bb64a932a35afe2",
            "11d1890f86a4441b9d6a629eddf4181c",
            "745fc6778a814e49b19d4ad87ca923b0",
            "aa399497a8384ac79cec30d277abab7f",
            "ce747359edb84ccb9202e0743776fd27",
            "5bc87f8d51904376aa0dee974b5c5845",
            "d0ab35986b5945d9b0543cddb053412c",
            "2d4e01400bbc4d36b6bdecb42b90b1ab",
            "a567653ce5a74e0dbb8e8718833f808a",
            "9ce6bff6975446bb8568047cb70f23d0"
          ]
        },
        "id": "x59g7jSMf52C",
        "outputId": "5d573fa7-54ab-4c86-ac18-06c1be6860ac"
      },
      "outputs": [
        {
          "output_type": "display_data",
          "data": {
            "text/plain": [
              "tokenizer_config.json: 0.00B [00:00, ?B/s]"
            ],
            "application/vnd.jupyter.widget-view+json": {
              "version_major": 2,
              "version_minor": 0,
              "model_id": "508ec213e9e348b2befc1a9c1e049210"
            }
          },
          "metadata": {}
        },
        {
          "output_type": "display_data",
          "data": {
            "text/plain": [
              "vocab.json: 0.00B [00:00, ?B/s]"
            ],
            "application/vnd.jupyter.widget-view+json": {
              "version_major": 2,
              "version_minor": 0,
              "model_id": "1b9809c1f4f94db7aefe5e14ebfa8d84"
            }
          },
          "metadata": {}
        },
        {
          "output_type": "display_data",
          "data": {
            "text/plain": [
              "merges.txt: 0.00B [00:00, ?B/s]"
            ],
            "application/vnd.jupyter.widget-view+json": {
              "version_major": 2,
              "version_minor": 0,
              "model_id": "8879625f7eea422d86dd3368fe16b02c"
            }
          },
          "metadata": {}
        },
        {
          "output_type": "display_data",
          "data": {
            "text/plain": [
              "tokenizer.json: 0.00B [00:00, ?B/s]"
            ],
            "application/vnd.jupyter.widget-view+json": {
              "version_major": 2,
              "version_minor": 0,
              "model_id": "b53013bcaa1745fa871d0167aa3dafac"
            }
          },
          "metadata": {}
        },
        {
          "output_type": "display_data",
          "data": {
            "text/plain": [
              "special_tokens_map.json:   0%|          | 0.00/831 [00:00<?, ?B/s]"
            ],
            "application/vnd.jupyter.widget-view+json": {
              "version_major": 2,
              "version_minor": 0,
              "model_id": "96510b5bc6db4466b11d3c817912acca"
            }
          },
          "metadata": {}
        },
        {
          "output_type": "display_data",
          "data": {
            "text/plain": [
              "config.json:   0%|          | 0.00/724 [00:00<?, ?B/s]"
            ],
            "application/vnd.jupyter.widget-view+json": {
              "version_major": 2,
              "version_minor": 0,
              "model_id": "9309ce8539ee4e78b9101a116130914b"
            }
          },
          "metadata": {}
        },
        {
          "output_type": "display_data",
          "data": {
            "text/plain": [
              "model.safetensors:   0%|          | 0.00/538M [00:00<?, ?B/s]"
            ],
            "application/vnd.jupyter.widget-view+json": {
              "version_major": 2,
              "version_minor": 0,
              "model_id": "a4a93f024cd544bebd16893b0d7074c9"
            }
          },
          "metadata": {}
        },
        {
          "output_type": "display_data",
          "data": {
            "text/plain": [
              "generation_config.json:   0%|          | 0.00/111 [00:00<?, ?B/s]"
            ],
            "application/vnd.jupyter.widget-view+json": {
              "version_major": 2,
              "version_minor": 0,
              "model_id": "276a1d4c8caa45158d84f5d83e4a0a3a"
            }
          },
          "metadata": {}
        }
      ],
      "source": [
        "from transformers import AutoModelForCausalLM\n",
        "\n",
        "model_id = \"HuggingFaceTB/SmolLM-135M\"\n",
        "tokenizer = AutoTokenizer.from_pretrained(model_id)\n",
        "tokenizer.pad_token = (\n",
        "    tokenizer.eos_token\n",
        ")  # SmolLMはパディング用のトークンを指定していないため、明示的に設定する\n",
        "model = AutoModelForCausalLM.from_pretrained(model_id).to(device)"
      ]
    },
    {
      "cell_type": "code",
      "execution_count": 26,
      "metadata": {
        "colab": {
          "base_uri": "https://localhost:8080/",
          "height": 99,
          "referenced_widgets": [
            "c9daeac9c33345a9a7d34bf681f3b38e",
            "b4867afb787e44678bb256083b4ba064",
            "1ebbc00adf2e4513bfe8b6a4db399d9e",
            "8bec25cc6f1f48d1b9709cee259c8b01",
            "2319eedb870a42709390cb60ae64440a",
            "13abf98404694befa3d5db44b44052c9",
            "8d0c02683e034ad3b0baf6f8811423fb",
            "e4ef7db9b2e24d7380a06641b7aa8131",
            "09b4ecd1e6f44d8da440feec858f64ec",
            "152870d233bf4270b788c5b3eef11c68",
            "70dee310a7ce4a0e8fec2f461d8ed8f3",
            "452377d4b2f3438f8d821c757a5206d2",
            "1418c4bed40d4430b82c507630cde860",
            "202cfceb66174de99103c7471e7b5272",
            "177c09a7948f40259f4161a2553fe5d9",
            "37e1336c2a3a4ae2b19fded03e22dbb0",
            "8e6ea733291b4d1e91825d2cb45324fa",
            "7558df0d7c134e549af72ad63318020b",
            "7d418734177241fd80b54f7364f2d10e",
            "ce66e3fc9a5b4e17b30ffc7cb838fa7f",
            "9dea9ca36eb3494898dbd0f8e32191ab",
            "d276493abbf34a238b8cc92feea4eb84"
          ]
        },
        "id": "4ZVJ3cUIf52C",
        "outputId": "141d2e40-8ad8-4d03-b3ca-e274afe2fc68"
      },
      "outputs": [
        {
          "output_type": "display_data",
          "data": {
            "text/plain": [
              "Map:   0%|          | 0/30000 [00:00<?, ? examples/s]"
            ],
            "application/vnd.jupyter.widget-view+json": {
              "version_major": 2,
              "version_minor": 0,
              "model_id": "c9daeac9c33345a9a7d34bf681f3b38e"
            }
          },
          "metadata": {}
        },
        {
          "output_type": "stream",
          "name": "stderr",
          "text": [
            "Asking to truncate to max_length but no maximum length is provided and the model has no predefined maximum length. Default to no truncation.\n"
          ]
        },
        {
          "output_type": "display_data",
          "data": {
            "text/plain": [
              "Map:   0%|          | 0/1900 [00:00<?, ? examples/s]"
            ],
            "application/vnd.jupyter.widget-view+json": {
              "version_major": 2,
              "version_minor": 0,
              "model_id": "452377d4b2f3438f8d821c757a5206d2"
            }
          },
          "metadata": {}
        }
      ],
      "source": [
        "def tokenize_function(batch):\n",
        "    return tokenizer(batch[\"text\"], truncation=True)\n",
        "\n",
        "tokenized_datasets = filtered_datasets.map(\n",
        "    tokenize_function,\n",
        "    batched=True,\n",
        "    remove_columns=[\"text\"],  # input_idsとattention_maskのみ必要\n",
        ")"
      ]
    },
    {
      "cell_type": "code",
      "execution_count": 27,
      "metadata": {
        "colab": {
          "base_uri": "https://localhost:8080/"
        },
        "id": "-1jO4u4Af52C",
        "outputId": "a035d49d-92a6-46b7-96dd-98d996dc5d4f"
      },
      "outputs": [
        {
          "output_type": "execute_result",
          "data": {
            "text/plain": [
              "DatasetDict({\n",
              "    train: Dataset({\n",
              "        features: ['input_ids', 'attention_mask'],\n",
              "        num_rows: 30000\n",
              "    })\n",
              "    test: Dataset({\n",
              "        features: ['input_ids', 'attention_mask'],\n",
              "        num_rows: 1900\n",
              "    })\n",
              "})"
            ]
          },
          "metadata": {},
          "execution_count": 27
        }
      ],
      "source": [
        "tokenized_datasets"
      ]
    },
    {
      "cell_type": "code",
      "execution_count": 28,
      "metadata": {
        "id": "niY1rRi-f52C"
      },
      "outputs": [],
      "source": [
        "from transformers import DataCollatorForLanguageModeling\n",
        "\n",
        "# mlmはマスク付き言語モデル（masked language modeling）の略\n",
        "# 今回はマスク付き言語モデルを訓練するわけではなく、\n",
        "# 因果言語モデル（causal language model）を訓練するためFalseに設定する\n",
        "data_collator = DataCollatorForLanguageModeling(tokenizer=tokenizer, mlm=False)"
      ]
    },
    {
      "cell_type": "code",
      "execution_count": 29,
      "metadata": {
        "colab": {
          "base_uri": "https://localhost:8080/"
        },
        "id": "Ps6fas-Hf52D",
        "outputId": "209689d3-cd08-49b9-8083-303e49cdc187"
      },
      "outputs": [
        {
          "output_type": "stream",
          "name": "stdout",
          "text": [
            "input_ids shape: 39\n",
            "input_ids shape: 56\n",
            "input_ids shape: 51\n"
          ]
        }
      ],
      "source": [
        "samples = [tokenized_datasets[\"train\"][i] for i in range(3)]\n",
        "\n",
        "for sample in samples:\n",
        "    print(f\"input_ids shape: {len(sample['input_ids'])}\")"
      ]
    },
    {
      "cell_type": "code",
      "execution_count": 30,
      "metadata": {
        "colab": {
          "base_uri": "https://localhost:8080/"
        },
        "id": "fK4N88MIf52D",
        "outputId": "8249dbac-be9f-45e3-a04c-64d22dfda050"
      },
      "outputs": [
        {
          "output_type": "stream",
          "name": "stdout",
          "text": [
            "input_ids shape: torch.Size([3, 56])\n",
            "attention_mask shape: torch.Size([3, 56])\n",
            "labels shape: torch.Size([3, 56])\n"
          ]
        }
      ],
      "source": [
        "out = data_collator(samples)\n",
        "for key in out:\n",
        "    print(f\"{key} shape: {out[key].shape}\")"
      ]
    },
    {
      "cell_type": "code",
      "execution_count": 31,
      "metadata": {
        "id": "P_wmWbpMf52D"
      },
      "outputs": [],
      "source": [
        "training_args = TrainingArguments(\n",
        "    \"business-news-generator\",\n",
        "    push_to_hub=True,\n",
        "    per_device_train_batch_size=8,\n",
        "    weight_decay=0.1,\n",
        "    lr_scheduler_type=\"cosine\",\n",
        "    learning_rate=5e-4,\n",
        "    num_train_epochs=2,\n",
        "    eval_strategy=\"steps\",\n",
        "    eval_steps=200,\n",
        "    logging_steps=200,\n",
        "    report_to=\"none\"\n",
        ")"
      ]
    },
    {
      "cell_type": "code",
      "execution_count": 32,
      "metadata": {
        "colab": {
          "base_uri": "https://localhost:8080/"
        },
        "id": "zN18wXs8f52D",
        "outputId": "6fe9bd88-f9e4-46bb-c432-9d1fb2b765e2"
      },
      "outputs": [
        {
          "output_type": "stream",
          "name": "stderr",
          "text": [
            "/tmp/ipython-input-32-2651450017.py:1: FutureWarning: `tokenizer` is deprecated and will be removed in version 5.0.0 for `Trainer.__init__`. Use `processing_class` instead.\n",
            "  trainer = Trainer(\n"
          ]
        }
      ],
      "source": [
        "trainer = Trainer(\n",
        "    model=model,\n",
        "    tokenizer=tokenizer,\n",
        "    args=training_args,\n",
        "    data_collator=data_collator,\n",
        "    train_dataset=tokenized_datasets[\"train\"].select(range(5000)),\n",
        "    eval_dataset=tokenized_datasets[\"test\"],\n",
        ")"
      ]
    },
    {
      "cell_type": "code",
      "execution_count": 33,
      "metadata": {
        "colab": {
          "base_uri": "https://localhost:8080/",
          "height": 299
        },
        "id": "rwxHMxTQf52E",
        "outputId": "1b17e516-4e96-43f0-a26a-57600e7234b5"
      },
      "outputs": [
        {
          "output_type": "display_data",
          "data": {
            "text/plain": [
              "<IPython.core.display.HTML object>"
            ],
            "text/html": [
              "\n",
              "    <div>\n",
              "      \n",
              "      <progress value='1250' max='1250' style='width:300px; height:20px; vertical-align: middle;'></progress>\n",
              "      [1250/1250 05:38, Epoch 2/2]\n",
              "    </div>\n",
              "    <table border=\"1\" class=\"dataframe\">\n",
              "  <thead>\n",
              " <tr style=\"text-align: left;\">\n",
              "      <th>Step</th>\n",
              "      <th>Training Loss</th>\n",
              "      <th>Validation Loss</th>\n",
              "    </tr>\n",
              "  </thead>\n",
              "  <tbody>\n",
              "    <tr>\n",
              "      <td>200</td>\n",
              "      <td>3.144800</td>\n",
              "      <td>3.309854</td>\n",
              "    </tr>\n",
              "    <tr>\n",
              "      <td>400</td>\n",
              "      <td>2.832100</td>\n",
              "      <td>3.215111</td>\n",
              "    </tr>\n",
              "    <tr>\n",
              "      <td>600</td>\n",
              "      <td>2.664900</td>\n",
              "      <td>3.101406</td>\n",
              "    </tr>\n",
              "    <tr>\n",
              "      <td>800</td>\n",
              "      <td>1.693000</td>\n",
              "      <td>3.241511</td>\n",
              "    </tr>\n",
              "    <tr>\n",
              "      <td>1000</td>\n",
              "      <td>1.511900</td>\n",
              "      <td>3.226309</td>\n",
              "    </tr>\n",
              "    <tr>\n",
              "      <td>1200</td>\n",
              "      <td>1.459900</td>\n",
              "      <td>3.231992</td>\n",
              "    </tr>\n",
              "  </tbody>\n",
              "</table><p>"
            ]
          },
          "metadata": {}
        },
        {
          "output_type": "execute_result",
          "data": {
            "text/plain": [
              "TrainOutput(global_step=1250, training_loss=2.188173187255859, metrics={'train_runtime': 341.7104, 'train_samples_per_second': 29.265, 'train_steps_per_second': 3.658, 'total_flos': 618751530187776.0, 'train_loss': 2.188173187255859, 'epoch': 2.0})"
            ]
          },
          "metadata": {},
          "execution_count": 33
        }
      ],
      "source": [
        "trainer.train()"
      ]
    },
    {
      "cell_type": "code",
      "execution_count": null,
      "metadata": {
        "colab": {
          "base_uri": "https://localhost:8080/",
          "height": 138,
          "referenced_widgets": [
            "7bc9b90e29074b04945babd68514b789",
            "77733a20bc4643e59ab752a63546250e",
            "8081780806d449d89105195b156b676e",
            "6a85e2f8c70d4aabaaf78b44a52ca496",
            "3ecbf2a6e668421791ae589f0e925fcb",
            "d42784e37e4c42e986ea5e1505229b11",
            "8bfabf927e0c4218adb43f4e32438858",
            "5771234f88a34bceaa0273b6d0bc1ae0",
            "aa25242bdf23446a9ae40de18feeb724",
            "5b2116f425cb4c6aa6cb1038ce8ed071",
            "b9e5c23a27a2407ab891823477595251"
          ]
        },
        "id": "2RINiOKXf52E",
        "outputId": "238224c5-f247-44c3-9459-a3c04224840e"
      },
      "outputs": [
        {
          "output_type": "display_data",
          "data": {
            "text/plain": [
              "Uploading...:   0%|          | 0.00/538M [00:00<?, ?B/s]"
            ],
            "application/vnd.jupyter.widget-view+json": {
              "version_major": 2,
              "version_minor": 0,
              "model_id": "7bc9b90e29074b04945babd68514b789"
            }
          },
          "metadata": {}
        },
        {
          "output_type": "execute_result",
          "data": {
            "text/plain": [
              "CommitInfo(commit_url='https://huggingface.co/egglang/business-news-generator/commit/73531a15b211b7d5020feb4227265c7e8a23e45f', commit_message='End of training', commit_description='', oid='73531a15b211b7d5020feb4227265c7e8a23e45f', pr_url=None, repo_url=RepoUrl('https://huggingface.co/egglang/business-news-generator', endpoint='https://huggingface.co', repo_type='model', repo_id='egglang/business-news-generator'), pr_revision=None, pr_num=None)"
            ],
            "application/vnd.google.colaboratory.intrinsic+json": {
              "type": "string"
            }
          },
          "metadata": {},
          "execution_count": 41
        }
      ],
      "source": [
        "trainer.push_to_hub()"
      ]
    },
    {
      "cell_type": "code",
      "execution_count": 34,
      "metadata": {
        "colab": {
          "base_uri": "https://localhost:8080/",
          "height": 344,
          "referenced_widgets": [
            "17074907c711413e82881bb38006f3b1",
            "e4862e668f8944e8a20776516584eb8a",
            "efa128e86f2a413287110889e9c7f8b6",
            "392a06d6823341548d49a5aaaefa917c",
            "161d87a3888242d4ac6f11e408d404c0",
            "c6b36a20a99e4ee1a10b6f019e188fe1",
            "5bccabe85d3b4a05b684cc082f5de1c8",
            "c9fa7fa372d64e8a8af9f39303e766f6",
            "70cb92008c1e4fc59b3a9e59327afc76",
            "d506fbf9ed9f4153ab874171dbdfe1b0",
            "6a302d64058a437f86a3e7b44f0da2df",
            "6013787ca74e484eab75790ef9b32944",
            "909319cdc1734d348949c7677aa8931c",
            "3e6aa5c54e1445febf36353bebc06ca9",
            "c4f6539f66764981804e10e28915ca63",
            "0617bdb689324dca9bd114004ca1047f",
            "77dc8e24170842bbb7458604c136dd91",
            "8c5d95e5756749748d9ab9bce0b6e471",
            "c9f7e92b7e3748c181803b4305966900",
            "dca42900ebe8403fadfcf6f2bc207976",
            "7da2e34c4a60413c8efa97c45a190e82",
            "35fdbde9a22f4666a0b4d4d26e990d18",
            "dd723e0165e240aeb7828d8a6440c3ae",
            "0a13125eb3b9416f863f7fbb9aa6c642",
            "7da694af948f49e9a0161bbb28b6ec0e",
            "eb6fc2f261b048dc8321dd44017c9e35",
            "73d9429522124d209e161e20ef912b4e",
            "21baba002098443db29907089e896a46",
            "7810223db2df42988849faab0ebaa2c5",
            "dfd3f2d7eb0445c08b605adab1c01428",
            "1de2cc26f96a40c490735744db1abaf2",
            "74570002149e4a45988ca421b020de18",
            "eebccbf560d646838c354efdb1b235b9",
            "4fa0c32385c54df089d9a0995de22f84",
            "0055de8b377d4aa28de10d61525af2b2",
            "f89632d6a8944ec59f985451e06ec6e5",
            "645c56c174d64962bf4a4fa5f38d9e30",
            "394eecfeb78e44db919da930f83322df",
            "9e5e3a503d574e8bb0204fee45e70586",
            "139dce5388ea459a9e043965ba8cd8f3",
            "50208a244c464383821a299b73083d4a",
            "4a294e2bdafa4a9a8667647c8d2cbcb1",
            "b608464be57a4e5aaca82de5d5624599",
            "8c990a73f6e54e0d95172f7f38da27a3",
            "ef4f55db04f84b9ab9e4bc55987dc973",
            "34ab73571b704612900d4aa543b5d1a5",
            "614f446fb4c14539a9a4205270ca6891",
            "62819b9f7c974cbc92b4386efcf40efc",
            "b81227ac84074b9fb8053d7cda5147c8",
            "210968b8e7bd41d7959f2d9c7d1cc4c7",
            "954a693bafeb464e8f5857e9466a1b4c",
            "bd981b48b6764fbcbac4d1b4eedb54d6",
            "e5f2754e753e47869ac04410649edf42",
            "9747bab5e9144c858bddd703954b7cc4",
            "281a9224b9984aef8a6e848944982237",
            "116c609337084aa2af404ac9b58b618b",
            "032fc5404280473c8ab0be24b4f97b6b",
            "33dc4d0a4e094381a4d219ef7d643465",
            "4868ccb4e27a4f099e2e0a7e455c5953",
            "7471adc7f0954f81a1a9f75421b2fcfb",
            "fdba31d8119c4885bf93e42be81b1cc7",
            "259f8c58d66a46faaf12982a5cbeb1ac",
            "696af82b0ca44825b51f1482cbadc722",
            "8e4c02fbfc264f019000d2e033c1b859",
            "8d373aa8fef74aa4b1f0689f37533690",
            "929f3a73041049b3872794e99aed71fc",
            "6a8187d3fe3440bda7c704c5c14768a5",
            "25c40bf8a5574eca81188d8f4d50d21c",
            "3df136b097ce4f53b3abe07e35e75f93",
            "ae5e47855d054ef99a16380eba741421",
            "bb39e57ef1f54f60aad6270881791d39",
            "251267ba72164dc883e0865fac92a676",
            "68518f43b12b45efb852e9b7768b651e",
            "2b0cf81e9df04362b6e8a092e6eb97f3",
            "d21c3162fc514fa8beb048d4831fce2b",
            "3bf06165f5bc454fae2e5f83f7483a4b",
            "e55bd655fc4a4c3c9869b3b1e3692961",
            "73d3236d33b647fbbb6d17a29b249471",
            "08e9b913aedd4485a688012447ec5adf",
            "67f831c2b4774310aef36d5c8cb5962a",
            "61b9331412894f5680e50e44a89e801f",
            "13b71a37635f4aa69a1078f494bcf4ff",
            "9b45429c453448ef90b9c1a283850c7d",
            "02baeaf6ab154080aca6f4eed5c70c7e",
            "d3fe414483594ed0b5a9da6a2e8cbe7a",
            "0cc7b3bb5d114b53b18df259be07babe",
            "8690ed9fadf34e33b79c99fbb5cf7d8d",
            "32346fef0c5e48e4aac2fae776f6754b"
          ]
        },
        "id": "Hd5JzfJof52E",
        "outputId": "c40bcbce-b707-45e9-92fd-d04fdc15d67d"
      },
      "outputs": [
        {
          "output_type": "display_data",
          "data": {
            "text/plain": [
              "config.json:   0%|          | 0.00/701 [00:00<?, ?B/s]"
            ],
            "application/vnd.jupyter.widget-view+json": {
              "version_major": 2,
              "version_minor": 0,
              "model_id": "17074907c711413e82881bb38006f3b1"
            }
          },
          "metadata": {}
        },
        {
          "output_type": "display_data",
          "data": {
            "text/plain": [
              "model.safetensors:   0%|          | 0.00/538M [00:00<?, ?B/s]"
            ],
            "application/vnd.jupyter.widget-view+json": {
              "version_major": 2,
              "version_minor": 0,
              "model_id": "6013787ca74e484eab75790ef9b32944"
            }
          },
          "metadata": {}
        },
        {
          "output_type": "display_data",
          "data": {
            "text/plain": [
              "generation_config.json:   0%|          | 0.00/111 [00:00<?, ?B/s]"
            ],
            "application/vnd.jupyter.widget-view+json": {
              "version_major": 2,
              "version_minor": 0,
              "model_id": "dd723e0165e240aeb7828d8a6440c3ae"
            }
          },
          "metadata": {}
        },
        {
          "output_type": "display_data",
          "data": {
            "text/plain": [
              "tokenizer_config.json: 0.00B [00:00, ?B/s]"
            ],
            "application/vnd.jupyter.widget-view+json": {
              "version_major": 2,
              "version_minor": 0,
              "model_id": "4fa0c32385c54df089d9a0995de22f84"
            }
          },
          "metadata": {}
        },
        {
          "output_type": "display_data",
          "data": {
            "text/plain": [
              "vocab.json: 0.00B [00:00, ?B/s]"
            ],
            "application/vnd.jupyter.widget-view+json": {
              "version_major": 2,
              "version_minor": 0,
              "model_id": "ef4f55db04f84b9ab9e4bc55987dc973"
            }
          },
          "metadata": {}
        },
        {
          "output_type": "display_data",
          "data": {
            "text/plain": [
              "merges.txt: 0.00B [00:00, ?B/s]"
            ],
            "application/vnd.jupyter.widget-view+json": {
              "version_major": 2,
              "version_minor": 0,
              "model_id": "116c609337084aa2af404ac9b58b618b"
            }
          },
          "metadata": {}
        },
        {
          "output_type": "display_data",
          "data": {
            "text/plain": [
              "tokenizer.json: 0.00B [00:00, ?B/s]"
            ],
            "application/vnd.jupyter.widget-view+json": {
              "version_major": 2,
              "version_minor": 0,
              "model_id": "6a8187d3fe3440bda7c704c5c14768a5"
            }
          },
          "metadata": {}
        },
        {
          "output_type": "display_data",
          "data": {
            "text/plain": [
              "special_tokens_map.json:   0%|          | 0.00/863 [00:00<?, ?B/s]"
            ],
            "application/vnd.jupyter.widget-view+json": {
              "version_major": 2,
              "version_minor": 0,
              "model_id": "73d3236d33b647fbbb6d17a29b249471"
            }
          },
          "metadata": {}
        },
        {
          "output_type": "stream",
          "name": "stderr",
          "text": [
            "Device set to use cuda\n"
          ]
        },
        {
          "output_type": "stream",
          "name": "stdout",
          "text": [
            "Q1: China #39;s Airline Unions Reject Offer China #39;s Airline Group, the world #39;\n",
            "Wall Street Seen Flat After Jobless Data  NEW YORK (Reuters) - Wall Street was seen looking flat on  Friday after a report showed\n",
            "Google IPO Imminent Google #39;s long-awaited stock sale is imminent, and the company is already weighing whether to sell its\n"
          ]
        }
      ],
      "source": [
        "from transformers import pipeline\n",
        "\n",
        "pipe = pipeline(\n",
        "    \"text-generation\",\n",
        "    model=\"genaibook/business-news-generator\",   # 自分が作成した名称に変更する\n",
        "    device=device,\n",
        ")\n",
        "print(\n",
        "    pipe(\"Q1\", do_sample=True, temperature=0.1, max_new_tokens=30)[0][\n",
        "        \"generated_text\"\n",
        "    ]\n",
        ")\n",
        "print(\n",
        "    pipe(\"Wall\", do_sample=True, temperature=0.1, max_new_tokens=30)[0][\n",
        "        \"generated_text\"\n",
        "    ]\n",
        ")\n",
        "print(\n",
        "    pipe(\"Google\", do_sample=True, temperature=0.1, max_new_tokens=30)[0][\n",
        "        \"generated_text\"\n",
        "    ]\n",
        ")"
      ]
    },
    {
      "cell_type": "markdown",
      "metadata": {
        "id": "q_eW82Ppf52E"
      },
      "source": [
        "## アダプターの概要"
      ]
    },
    {
      "cell_type": "code",
      "execution_count": 35,
      "metadata": {
        "colab": {
          "base_uri": "https://localhost:8080/"
        },
        "id": "XrrNO4LDf52E",
        "outputId": "7451b9a3-6db0-412a-b385-5d8218fde73d"
      },
      "outputs": [
        {
          "output_type": "stream",
          "name": "stdout",
          "text": [
            "trainable params: 460,800 || all params: 134,975,808 || trainable%: 0.3414\n"
          ]
        }
      ],
      "source": [
        "from peft import LoraConfig, get_peft_model\n",
        "\n",
        "peft_config = LoraConfig(\n",
        "    r=8, lora_alpha=32, lora_dropout=0.05, task_type=\"CAUSAL_LM\"\n",
        ")\n",
        "\n",
        "model = AutoModelForCausalLM.from_pretrained(\"HuggingFaceTB/SmolLM-135M\")\n",
        "peft_model = get_peft_model(model, peft_config)\n",
        "peft_model.print_trainable_parameters()"
      ]
    },
    {
      "cell_type": "markdown",
      "metadata": {
        "id": "5mnADpabf52F"
      },
      "source": [
        "## 量子化の簡単な紹介"
      ]
    },
    {
      "cell_type": "code",
      "execution_count": 36,
      "metadata": {
        "colab": {
          "base_uri": "https://localhost:8080/",
          "height": 113,
          "referenced_widgets": [
            "e359ea5739cd456cbfe996addacc6d97",
            "8de74fdd2444464b8567ad2d0d375087",
            "048590f219ac48bba987a9e7ccfc0b85",
            "ff7b429698654b4f83a5bfb49eb58eab",
            "7566d2e07e01401d9c450685c67a868f",
            "473a9808147f49d5b2ddcfd8e126b317",
            "e69c82e735c14d51a25579b63097a32c",
            "9a8481fce46f4161ac7789593122da25",
            "0a08c27455b9429f8d1c507510580ce1",
            "9dcf586e4dd9490da57afc1677d36bd7",
            "6733077f30cd438684f099d19969b8b9",
            "0420866d71df477dad71d09eac48ea91",
            "6d0274127de64c9c98fbee9913995f0b",
            "0d70c9aa8bff4201b97061f5b7ffbb58",
            "1f3a939cfb7d4446811e01a50f5d6923",
            "6216f89ec4674f399af324fc979a4b1f",
            "dd4dcce467574f8cad87dfa7689ee1a1",
            "be097c9ee1244b6bb321f81adb926674",
            "679edd4d4ede41fe96789813dbf0350a",
            "c296d1c4dd7840289ce0780a42a78351",
            "fa6f834b7a7d469fa07de028932f113d",
            "3de74edc27c54d38bf03f2b620b53991",
            "c7f7c86eb2f148d5a34ac2a25655492f",
            "7001c863cb0a4c77a9a78e02eae850bf",
            "4fad3df6a40d46818d47acac62fe2d39",
            "81d2e54ce7b845878ab140fbe5631d12",
            "84bcd7d9457646ecaf971adb9f28f2af",
            "1cc5509269c842158475508bbbdb6770",
            "8fd04e09d8e441dbba6e2364c5afcaf4",
            "b037147b616a4387b3d076735ca48e36",
            "d7107ee5b6ec445697c94163a7e33ba1",
            "76259d45cf474b89ae06b711ddfa5807",
            "7b129a87784a47e1bd5685a4363db2e5"
          ]
        },
        "id": "4qt98Brrf52J",
        "outputId": "fa4c4d13-c0be-48ea-a58b-34a8d9d4d7db"
      },
      "outputs": [
        {
          "output_type": "display_data",
          "data": {
            "text/plain": [
              "config.json:   0%|          | 0.00/665 [00:00<?, ?B/s]"
            ],
            "application/vnd.jupyter.widget-view+json": {
              "version_major": 2,
              "version_minor": 0,
              "model_id": "e359ea5739cd456cbfe996addacc6d97"
            }
          },
          "metadata": {}
        },
        {
          "output_type": "display_data",
          "data": {
            "text/plain": [
              "model.safetensors:   0%|          | 0.00/548M [00:00<?, ?B/s]"
            ],
            "application/vnd.jupyter.widget-view+json": {
              "version_major": 2,
              "version_minor": 0,
              "model_id": "0420866d71df477dad71d09eac48ea91"
            }
          },
          "metadata": {}
        },
        {
          "output_type": "display_data",
          "data": {
            "text/plain": [
              "generation_config.json:   0%|          | 0.00/124 [00:00<?, ?B/s]"
            ],
            "application/vnd.jupyter.widget-view+json": {
              "version_major": 2,
              "version_minor": 0,
              "model_id": "c7f7c86eb2f148d5a34ac2a25655492f"
            }
          },
          "metadata": {}
        }
      ],
      "source": [
        "model = AutoModelForCausalLM.from_pretrained(\"gpt2\", torch_dtype=torch.float16)"
      ]
    },
    {
      "cell_type": "code",
      "execution_count": 37,
      "metadata": {
        "colab": {
          "base_uri": "https://localhost:8080/"
        },
        "id": "_05SHTcqf52v",
        "outputId": "4cec3bf6-129d-4af2-82f9-5c026922911b"
      },
      "outputs": [
        {
          "output_type": "stream",
          "name": "stdout",
          "text": [
            "Scaling factor: 23.518518518518515\n",
            "Quantized array: [  28  -12 -101   28  -73   19   56  127    7]\n",
            "Dequantized array: [ 1.19055118 -0.51023622 -4.29448819  1.19055118 -3.10393701\n",
            "  0.80787402  2.38110236  5.4         0.2976378 ]\n",
            "Difference: [ 0.00944882  0.01023622 -0.00551181  0.00944882  0.00393701\n",
            " -0.00787402  0.01889764  0.          0.0023622 ]\n"
          ]
        }
      ],
      "source": [
        "import numpy as np\n",
        "\n",
        "def scaling_factor(vector):\n",
        "    # ベクトルの最大値を得る\n",
        "    m = np.max(np.abs(vector))\n",
        "\n",
        "    # 係数を求める\n",
        "    return 127 / m\n",
        "\n",
        "\n",
        "array = [1.2, -0.5, -4.3, 1.2, -3.1, 0.8, 2.4, 5.4, 0.3]\n",
        "alpha = scaling_factor(array)\n",
        "quantized_array = np.round(alpha * np.array(array)).astype(np.int8)\n",
        "dequantized_array = quantized_array / alpha\n",
        "\n",
        "print(f\"Scaling factor: {alpha}\")\n",
        "print(f\"Quantized array: {quantized_array}\")\n",
        "print(f\"Dequantized array: {dequantized_array}\")\n",
        "print(f\"Difference: {array - dequantized_array}\")"
      ]
    },
    {
      "cell_type": "code",
      "execution_count": 38,
      "metadata": {
        "id": "BfRn9eJSf52w"
      },
      "outputs": [],
      "source": [
        "from transformers import AutoModelForCausalLM, BitsAndBytesConfig\n",
        "\n",
        "quantization_config = BitsAndBytesConfig(load_in_8bit=True)\n",
        "model = AutoModelForCausalLM.from_pretrained(\n",
        "    \"gpt2\",\n",
        "    quantization_config=quantization_config\n",
        ")"
      ]
    },
    {
      "cell_type": "markdown",
      "metadata": {
        "id": "yM9X2lwdf52w"
      },
      "source": [
        "## すべてをまとめる\n"
      ]
    },
    {
      "cell_type": "code",
      "execution_count": 39,
      "metadata": {
        "colab": {
          "base_uri": "https://localhost:8080/",
          "height": 273,
          "referenced_widgets": [
            "0d14ace872304dc48533ee9ce8ad73f2",
            "0ef796afd99c45f990d9b1c5c004d08d",
            "30217ec87f624108932bcb005b5347d6",
            "0e9dbea98e3742b78d534c046c2d6ac9",
            "6ff8860eda9f49ebb9f2d6760c3e675b",
            "3f31144f49b74f8cb3d9b0304a4c571e",
            "a94e009287fa4ee8b9b03c0bc046e6ce",
            "02de7865b4e3455ba432d296bdcabe58",
            "3c880a11b6304298aa66d370585b1669",
            "a700e6c13d8f4cb3af14be3396d976bf",
            "9663d7cd78c24d65b45c64f580895c2f",
            "0a6b59dbd9a44c4fa5a682cfdc8aa1cc",
            "7fa7cdd1418c4056a9ca208f395cd773",
            "5a2ef9e3a7494b6193bb695a23b0c89e",
            "2830f026f77d453a888ec275d3c44197",
            "a6dfcd51a79f4e40a78699ea17fc41d6",
            "3c937906e8a94fe6932d7124d9fa4568",
            "cb2f0e2df1244d2ca1713f35904429e5",
            "5d8dc65073a64a7c8178f78d9add4c91",
            "38a35fd9dbd345e9afea3a64aba25b05",
            "8cf440870ac340fba9b04f69c0509010",
            "2da67df954a64e1abb2051dde22aa47b",
            "d286880ec2584621a220eaf1b89b423c",
            "55e3c22f229f47fb96283c8e8c0696b9",
            "8f8daced901a484da48d8484a710177f",
            "e91b122f05af4e219164f0b926bf7229",
            "30fb1cf5f7e14dcea2ae2074ca99ce99",
            "0dd80df1b5ae4ea98dce7a20b7e8c9ef",
            "65cf03c98a264a5584caaaf59fd8e6f1",
            "0a54a794901c4123900a95c5915ce227",
            "375fe6d61c214549a453ec9d8d36253b",
            "8e4f83be49ac4c339b3f10c8203fc4b9",
            "951e130143f9436fa0cb9444b5cede0e",
            "a5de7accdb9b4294a42eb1097bb5746b",
            "405cf4357daa4c9da009f82e01b1706b",
            "13dac2f7a3294c67969915eba7862e28",
            "e2dab8ff9ad14396a0dcc7572f1cd192",
            "9ac1917721d24c0280201ee427b5245c",
            "d965e60732724d1a941fd68853995d79",
            "4a207563486843d391a8d934d5104ba9",
            "e4a111f0eb6f4cce9b2d6e27db94b6f7",
            "1f28fb9b87374877ab16c062a0ec5cc4",
            "db2456e3d113467e9c2a19bc6583ce8f",
            "583d786b584b4e7e9be1629827e3acdb",
            "380a287fff1b4c42acb7d5cd956151b7",
            "6966a5de94a24cbbb120c482b2fcd63a",
            "095885e728d9409ea58b922600cec863",
            "867a506d8d3247c7a5f8e92c2b32bee4",
            "6b6065dfcba14c649461eb10e84bb758",
            "b36e9143f8234153b3e004d210af6a5d",
            "92f9bfa8678c4302ae577778359d4843",
            "b14e06a60f3940fc8f16d5b15d44c514",
            "a0d49a60962046dd82ddbc8908b3c03d",
            "3a44b8c4b1eb4df196dd6041d7bb59ee",
            "9be3803cf35442258770b1272cc6ab59",
            "482cde2490de45abb6e91822eb93f613",
            "7dac955421ee4cbabfa4f1382958cd13",
            "a0bff168528a40549c4830a3ffa23946",
            "e02bf45a30dd40059c018d5bab766de7",
            "84eeade08c164608af8e631404d16abf",
            "3fa349817f804daeb12478f61499779f",
            "c9ab29653ccb40a1ac4b6332ebaecf5d",
            "67353ee8a60f401eac94be687f045010",
            "40b8a5c2853744aea20747e8839a1bf7",
            "9cc77c6f8dda4604ac26182e35102ac4",
            "e5bce813594e48c18e789086d1c6f633",
            "596a9987171a4357be5f817c1887b57b",
            "8c7c37f5d5654ae6815be647d3f016ac",
            "6470608d4a88432698d498d59b2fa4ee",
            "4cb66c4c645741cb9b1b59992493795e",
            "cb0a555d6047404b9b08b928df369c1a",
            "c50abd0c85114568be918c1ebd7b3542",
            "285f11867d2d430d86c41705457b8b5f",
            "f49aa36097f74820bc31fc8a08e3ff51",
            "b46f652ccf01489ba7145b345cde234d",
            "b392826d7736464695e5645a0967a2c1",
            "5cef7f064b0e494e8954c7fd6fc0e3a0",
            "e4e0849514274b53913c6fde3bf637fb",
            "40e39e7263c34e3ba0b56590df2e59bd",
            "2625a531dfcd4cee89be159b8dc80725",
            "2dd01f52db514ec5beda455cb5ffdf2e",
            "c8df4166fa0a49ff99effc3839164ff1",
            "1a5f181bd229488481a98eec57445687",
            "a29db7a4656948dfa354274c36ca5625",
            "fe2ef2e3c2ef49be99c82fcca3dc9d0c",
            "304214a89d924fc7abad2c146df33eb2",
            "88d2c88526f84c649b4c7f4fc9a92f3e",
            "68ee043cb8244826b6473190df4cf4b4"
          ]
        },
        "id": "iIfMJvSMf52w",
        "outputId": "9df22343-01b4-44e7-914c-65682e76945b"
      },
      "outputs": [
        {
          "output_type": "display_data",
          "data": {
            "text/plain": [
              "config.json:   0%|          | 0.00/601 [00:00<?, ?B/s]"
            ],
            "application/vnd.jupyter.widget-view+json": {
              "version_major": 2,
              "version_minor": 0,
              "model_id": "0d14ace872304dc48533ee9ce8ad73f2"
            }
          },
          "metadata": {}
        },
        {
          "output_type": "display_data",
          "data": {
            "text/plain": [
              "model.safetensors.index.json: 0.00B [00:00, ?B/s]"
            ],
            "application/vnd.jupyter.widget-view+json": {
              "version_major": 2,
              "version_minor": 0,
              "model_id": "0a6b59dbd9a44c4fa5a682cfdc8aa1cc"
            }
          },
          "metadata": {}
        },
        {
          "output_type": "display_data",
          "data": {
            "text/plain": [
              "Fetching 3 files:   0%|          | 0/3 [00:00<?, ?it/s]"
            ],
            "application/vnd.jupyter.widget-view+json": {
              "version_major": 2,
              "version_minor": 0,
              "model_id": "d286880ec2584621a220eaf1b89b423c"
            }
          },
          "metadata": {}
        },
        {
          "output_type": "display_data",
          "data": {
            "text/plain": [
              "model-00001-of-00003.safetensors:   0%|          | 0.00/4.95G [00:00<?, ?B/s]"
            ],
            "application/vnd.jupyter.widget-view+json": {
              "version_major": 2,
              "version_minor": 0,
              "model_id": "a5de7accdb9b4294a42eb1097bb5746b"
            }
          },
          "metadata": {}
        },
        {
          "output_type": "display_data",
          "data": {
            "text/plain": [
              "model-00002-of-00003.safetensors:   0%|          | 0.00/5.00G [00:00<?, ?B/s]"
            ],
            "application/vnd.jupyter.widget-view+json": {
              "version_major": 2,
              "version_minor": 0,
              "model_id": "380a287fff1b4c42acb7d5cd956151b7"
            }
          },
          "metadata": {}
        },
        {
          "output_type": "display_data",
          "data": {
            "text/plain": [
              "model-00003-of-00003.safetensors:   0%|          | 0.00/4.55G [00:00<?, ?B/s]"
            ],
            "application/vnd.jupyter.widget-view+json": {
              "version_major": 2,
              "version_minor": 0,
              "model_id": "482cde2490de45abb6e91822eb93f613"
            }
          },
          "metadata": {}
        },
        {
          "output_type": "display_data",
          "data": {
            "text/plain": [
              "Loading checkpoint shards:   0%|          | 0/3 [00:00<?, ?it/s]"
            ],
            "application/vnd.jupyter.widget-view+json": {
              "version_major": 2,
              "version_minor": 0,
              "model_id": "596a9987171a4357be5f817c1887b57b"
            }
          },
          "metadata": {}
        },
        {
          "output_type": "display_data",
          "data": {
            "text/plain": [
              "generation_config.json:   0%|          | 0.00/116 [00:00<?, ?B/s]"
            ],
            "application/vnd.jupyter.widget-view+json": {
              "version_major": 2,
              "version_minor": 0,
              "model_id": "e4e0849514274b53913c6fde3bf637fb"
            }
          },
          "metadata": {}
        }
      ],
      "source": [
        "quantization_config = BitsAndBytesConfig(load_in_4bit=True)\n",
        "\n",
        "model = AutoModelForCausalLM.from_pretrained(\n",
        "    \"mistralai/Mistral-7B-v0.3\",\n",
        "    quantization_config=quantization_config,\n",
        "    device_map=\"auto\",\n",
        ")"
      ]
    },
    {
      "cell_type": "code",
      "execution_count": 41,
      "metadata": {
        "colab": {
          "base_uri": "https://localhost:8080/",
          "height": 630,
          "referenced_widgets": [
            "bb4960ad1ff340f6bd9f33d01ab2f1b0",
            "edfc92964ea54bf59bc5a18b353f151f",
            "c1f56828c7fa423f90cbb6655062f068",
            "2f52621b7db24690ab811be665800fc7",
            "77d25ab13445408e832e80b96bf0e35c",
            "5a91d10adae64478a8e19c6ca1c9fca4",
            "a666186de7934d7485ebe286cfb0131d",
            "5b984ccc97e946d0bf893c862aca7958",
            "e7bdf92681234012aafe3a65856ae3a6",
            "9124936a21524933baa1d1add8d20e5b",
            "bc27750df1764c28b4cc36f6e00fd7d7",
            "f8def3e989964e13b07229bd767b2f45",
            "47c6b693e4cc443aac50f04c8a5a9ccf",
            "aa27ad9781224af7b19ba85a37175f81",
            "023d39a97b904742ae7a27258e034408",
            "76a95eb3f11b4886ba75b0fa13e84cca",
            "7de400d7f8ea4be092212b83caeca331",
            "23f6b0b230ab442d87bf078462d1ef8d",
            "5d58a14f12e148c5ac012b2c48b5c7ef",
            "0878b7a439d541ed951970b9f669d643",
            "909199ab469049daac9f0d24ba2c85b0",
            "5c25cf65ebc24a34bd3a08d617270d1c",
            "ef2eba5dce6c40e1b719676a51f95aed",
            "047b1306d33c47c7ad9ae27d653a017a",
            "b765e810c29142e4a68c7f7a6c7ca554",
            "8a11b9285751422ca6a6e37e1bdceb85",
            "9d6424247d5d4499ac276d489742b01b",
            "a751d8f9f5c04b4d80448bf35eef9d60",
            "2f3fd0a5f68545eb9cdcaa85d2fcf960",
            "0e388ef9c3fb4225b2a2c8c44552ba5f",
            "1803b7a14c214884a7405d115cf6154f",
            "90c0c8ba1bf245aeaee6e95300dbc7dc",
            "28d466a3a5614d198242344367b93f17",
            "e239b3d1b80840c4b48972e3ef058213",
            "2a684e04c021420b8da6065ab80b7d1d",
            "a9814172838c42f5ba54bebf1178275b",
            "835ddcb78b1e492ba844611d27f46638",
            "35988beb28cd42859a11211f582bd6b0",
            "034a17dfac074f9ca5c1743eaa77ca59",
            "890d7eb73b984e468f715852926ea592",
            "df8976a7b76b4a0fb072712d0ff7ded6",
            "8d04a7759cbe4b4c8cb5eed4045fea14",
            "0872cbf4b6484853b2d147fe48787333",
            "2d1cd25c928544b69d5d2c28db9317e4",
            "1b03f2048a1d46ff8b9e582debd345ab",
            "36915dae30304a32b450c8f62e691812",
            "6d4884a20afa4469be1299d5e903c95a",
            "743b120a8b104c2e880c637bf63ba4cb",
            "4119f9c456ea455ca9b8c1585e6d407a",
            "caa2fc79e63c4d88a0bfe9a65e7a771b",
            "28b722cb27d846329a75d75a1351c3df",
            "c5db18150926439bab3db865b1ae2202",
            "b0e5d82e7ece42bc806681deda6e1bad",
            "88355281e0fb47c0a33beda9fd7be20a",
            "3a46393a8343474086c4b019d0089ca4",
            "c6c0f10acaa44c5d97d859059e53e9c6",
            "7db485ba099b4d1ba6dc6290a9554b96",
            "c8d23d3729a94a2e99701cdf27af63ed",
            "98ff2d5e99e448d6a2655f1f0416ae7b",
            "e8e07a3adb5f46be9f247515db6f95b8",
            "777da3fedfac4f20bae0978edeb07486",
            "10c40ccfb7c94e18a298c379e1b2bf9b",
            "d9a776898bd54711b322d64147e98d98",
            "9f57fa49670e4678a84e2a4ad2a67559",
            "e9556247682a49edaaa2b0bdba896ea4",
            "bbe4a498dbf7458baa78f652f6ad15c5",
            "1cc18270e4ed4b3ab4da689eac6a1d1b",
            "4bc5996d4a4c4bcd875444379583e245",
            "429849dafcbd49fcb69cf4313927f191",
            "35b76c872b684afba6a7daafdc481b45",
            "29a14c63d3e4492db9e54abd1bd777c0",
            "2fe7781d2e8b48e89613d4f397a5fda9",
            "59a3b1153d5f42e59ea86bad34757957",
            "b9976315bf4c4b0cb89b3fae3cd38022",
            "e9c388a7234247339a485c1a73b843d9",
            "5ddc968827c54b64b1bb0d93bdb8b488",
            "8a83a631db9047cea6b30354b9024dba",
            "8b1e215d759e4bf99ef240a21b80051b",
            "95257e29ff1e4bd5a90b086378891dd4",
            "bff67a325d2c492a8171bfad2ea6f378",
            "9e5fe69b82ac40c5bbd9593008427a7a",
            "348b704db9f64069b0fd728a75ebc498",
            "d4dd8f44b60842fa8f48d2e9cd04e661",
            "f06585a7144d4ac59467d8b6fc9017db",
            "014b4cbcd59f4ede831d18e625c3aa02",
            "cbbc3827d88f4b37a23c99aae23ae579",
            "952628b1c9584702a3e67b266acacb4d",
            "ae4611a14185444396751f7256797e16",
            "15397fdeaa264939a550ed78c0c30fb8",
            "912fd035df2946e5905fffea737eaee2",
            "a7d492ab996d47bb8dc59d3ba1fdb352",
            "fdef82822bf242e4947b800182cd6ce4",
            "bdafa196e69e4d9f8c9a23f5a8b8bd89",
            "b707cd3ee1f64762a459431abe1013d8",
            "55389c1404424b2da41f4bb4874b790a",
            "796f28052c0746d99fb8efe8ad08a551",
            "e3d7f25bbcec47018d2490563067c2cd",
            "44645e8a84aa4d28807fd3e7cfe96ef7",
            "bfab81217d7744efb5b028a3e0dd9f3d",
            "dbbe8641d4cd42c3b4d93569b52f8b4a",
            "29753d7f20224e4a8d6dfc30d7e3a0ab",
            "be05d3ac457d4e848f3a2620a69758b0",
            "8677e5962ba640d9be63de50d20e92e4",
            "2dffb6889f144eb8995b4837bfdbcb1f",
            "c9cbe0b7a2fb4ed7808a4fe2ffd866ca",
            "fc19cdb4fe224e569bbc6fac5c0d3771",
            "1605d0e5fd9c42d9ac98aec831b90b9f",
            "eb645e9380334d71a006ee0a39574ff9",
            "a64410fd098841039682c601b821e1d8",
            "191ee7e95734478eb926fe6cd7a46f15"
          ]
        },
        "id": "_IU7_e_lf52w",
        "outputId": "27ab4b56-3a8b-4cfa-ac35-88133e91375f"
      },
      "outputs": [
        {
          "output_type": "stream",
          "name": "stderr",
          "text": [
            "Repo card metadata block was not found. Setting CardData to empty.\n",
            "WARNING:huggingface_hub.repocard:Repo card metadata block was not found. Setting CardData to empty.\n",
            "Repo card metadata block was not found. Setting CardData to empty.\n",
            "WARNING:huggingface_hub.repocard:Repo card metadata block was not found. Setting CardData to empty.\n"
          ]
        },
        {
          "output_type": "display_data",
          "data": {
            "text/plain": [
              "tokenizer_config.json: 0.00B [00:00, ?B/s]"
            ],
            "application/vnd.jupyter.widget-view+json": {
              "version_major": 2,
              "version_minor": 0,
              "model_id": "bb4960ad1ff340f6bd9f33d01ab2f1b0"
            }
          },
          "metadata": {}
        },
        {
          "output_type": "display_data",
          "data": {
            "text/plain": [
              "tokenizer.model:   0%|          | 0.00/587k [00:00<?, ?B/s]"
            ],
            "application/vnd.jupyter.widget-view+json": {
              "version_major": 2,
              "version_minor": 0,
              "model_id": "f8def3e989964e13b07229bd767b2f45"
            }
          },
          "metadata": {}
        },
        {
          "output_type": "display_data",
          "data": {
            "text/plain": [
              "tokenizer.json: 0.00B [00:00, ?B/s]"
            ],
            "application/vnd.jupyter.widget-view+json": {
              "version_major": 2,
              "version_minor": 0,
              "model_id": "ef2eba5dce6c40e1b719676a51f95aed"
            }
          },
          "metadata": {}
        },
        {
          "output_type": "display_data",
          "data": {
            "text/plain": [
              "special_tokens_map.json:   0%|          | 0.00/414 [00:00<?, ?B/s]"
            ],
            "application/vnd.jupyter.widget-view+json": {
              "version_major": 2,
              "version_minor": 0,
              "model_id": "e239b3d1b80840c4b48972e3ef058213"
            }
          },
          "metadata": {}
        },
        {
          "output_type": "stream",
          "name": "stderr",
          "text": [
            "WARNING:trl.trainer.sft_trainer:Padding-free training is enabled, but the attention implementation is not set to a supported flash attention variant. Padding-free training flattens batches into a single sequence, and only the following implementations are known to reliably support this: flash_attention_2, flash_attention_3, kernels-community/flash-attn, kernels-community/flash-attn3, kernels-community/vllm-flash-attn3. Using other implementations may lead to unexpected behavior. To ensure compatibility, set `attn_implementation` in the model configuration to one of these supported options or verify that your attention mechanism can handle flattened sequences.\n",
            "WARNING:trl.trainer.sft_trainer:You are using packing, but the attention implementation is not set to a supported flash attention variant. Packing gathers multiple samples into a single sequence, and only the following implementations are known to reliably support this: flash_attention_2, flash_attention_3, kernels-community/flash-attn, kernels-community/flash-attn3, kernels-community/vllm-flash-attn3. Using other implementations may lead to cross-contamination between samples. To avoid this, either disable packing by setting `packing=False`, or set `attn_implementation` in the model configuration to one of these supported options.\n"
          ]
        },
        {
          "output_type": "display_data",
          "data": {
            "text/plain": [
              "Adding EOS to train dataset:   0%|          | 0/300 [00:00<?, ? examples/s]"
            ],
            "application/vnd.jupyter.widget-view+json": {
              "version_major": 2,
              "version_minor": 0,
              "model_id": "1b03f2048a1d46ff8b9e582debd345ab"
            }
          },
          "metadata": {}
        },
        {
          "output_type": "display_data",
          "data": {
            "text/plain": [
              "Tokenizing train dataset:   0%|          | 0/300 [00:00<?, ? examples/s]"
            ],
            "application/vnd.jupyter.widget-view+json": {
              "version_major": 2,
              "version_minor": 0,
              "model_id": "c6c0f10acaa44c5d97d859059e53e9c6"
            }
          },
          "metadata": {}
        },
        {
          "output_type": "display_data",
          "data": {
            "text/plain": [
              "Packing train dataset:   0%|          | 0/300 [00:00<?, ? examples/s]"
            ],
            "application/vnd.jupyter.widget-view+json": {
              "version_major": 2,
              "version_minor": 0,
              "model_id": "1cc18270e4ed4b3ab4da689eac6a1d1b"
            }
          },
          "metadata": {}
        },
        {
          "output_type": "display_data",
          "data": {
            "text/plain": [
              "Adding EOS to eval dataset:   0%|          | 0/100 [00:00<?, ? examples/s]"
            ],
            "application/vnd.jupyter.widget-view+json": {
              "version_major": 2,
              "version_minor": 0,
              "model_id": "8b1e215d759e4bf99ef240a21b80051b"
            }
          },
          "metadata": {}
        },
        {
          "output_type": "display_data",
          "data": {
            "text/plain": [
              "Tokenizing eval dataset:   0%|          | 0/100 [00:00<?, ? examples/s]"
            ],
            "application/vnd.jupyter.widget-view+json": {
              "version_major": 2,
              "version_minor": 0,
              "model_id": "15397fdeaa264939a550ed78c0c30fb8"
            }
          },
          "metadata": {}
        },
        {
          "output_type": "display_data",
          "data": {
            "text/plain": [
              "Packing eval dataset:   0%|          | 0/100 [00:00<?, ? examples/s]"
            ],
            "application/vnd.jupyter.widget-view+json": {
              "version_major": 2,
              "version_minor": 0,
              "model_id": "dbbe8641d4cd42c3b4d93569b52f8b4a"
            }
          },
          "metadata": {}
        },
        {
          "output_type": "stream",
          "name": "stderr",
          "text": [
            "No label_names provided for model class `PeftModelForCausalLM`. Since `PeftModel` hides base models input arguments, if label_names is not given, label_names can't be set automatically within `Trainer`. Note that empty label_names list will be used instead.\n",
            "/usr/local/lib/python3.11/dist-packages/torch/_dynamo/eval_frame.py:745: UserWarning: torch.utils.checkpoint: the use_reentrant parameter should be passed explicitly. In version 2.5 we will raise an exception if use_reentrant is not passed. use_reentrant=False is recommended, but if you need to preserve the current default behavior, you can pass use_reentrant=True. Refer to docs for more details on the differences between the two variants.\n",
            "  return fn(*args, **kwargs)\n"
          ]
        },
        {
          "output_type": "display_data",
          "data": {
            "text/plain": [
              "<IPython.core.display.HTML object>"
            ],
            "text/html": [
              "\n",
              "    <div>\n",
              "      \n",
              "      <progress value='52' max='52' style='width:300px; height:20px; vertical-align: middle;'></progress>\n",
              "      [52/52 07:34, Epoch 2/2]\n",
              "    </div>\n",
              "    <table border=\"1\" class=\"dataframe\">\n",
              "  <thead>\n",
              " <tr style=\"text-align: left;\">\n",
              "      <th>Step</th>\n",
              "      <th>Training Loss</th>\n",
              "      <th>Validation Loss</th>\n",
              "    </tr>\n",
              "  </thead>\n",
              "  <tbody>\n",
              "  </tbody>\n",
              "</table><p>"
            ]
          },
          "metadata": {}
        },
        {
          "output_type": "execute_result",
          "data": {
            "text/plain": [
              "TrainOutput(global_step=52, training_loss=1.129592748788687, metrics={'train_runtime': 464.1161, 'train_samples_per_second': 0.896, 'train_steps_per_second': 0.112, 'total_flos': 8830013875224576.0, 'train_loss': 1.129592748788687, 'entropy': 1.182284658918014, 'num_tokens': 206776.0, 'mean_token_accuracy': 0.7142275376961782, 'epoch': 2.0})"
            ]
          },
          "metadata": {},
          "execution_count": 41
        }
      ],
      "source": [
        "from datasets import load_dataset\n",
        "from trl import SFTConfig, SFTTrainer\n",
        "from peft import LoraConfig, get_peft_model\n",
        "\n",
        "dataset = load_dataset(\"timdettmers/openassistant-guanaco\", split=\"train\")\n",
        "eval_dataset = load_dataset(\"timdettmers/openassistant-guanaco\", split=\"test\")\n",
        "\n",
        "peft_config = LoraConfig(\n",
        "    r=8,\n",
        "    lora_alpha=16,\n",
        "    lora_dropout=0.05,\n",
        "    task_type=\"CAUSAL_LM\",\n",
        ")\n",
        "\n",
        "sft_config = SFTConfig(\n",
        "    \"fine_tune_e2e\",\n",
        "    push_to_hub=True,\n",
        "    per_device_train_batch_size=8,\n",
        "    weight_decay=0.1,\n",
        "    lr_scheduler_type=\"cosine\",\n",
        "    learning_rate=5e-4,\n",
        "    num_train_epochs=2,\n",
        "    eval_strategy=\"steps\",\n",
        "    eval_steps=200,\n",
        "    logging_steps=200,\n",
        "    gradient_checkpointing=True,\n",
        "    # max_seq_length=512,\n",
        "    max_length=512,\n",
        "    # 新たなパラメーター\n",
        "    dataset_text_field=\"text\",\n",
        "    packing=True,\n",
        "    report_to=\"none\",\n",
        ")\n",
        "\n",
        "trainer = SFTTrainer(\n",
        "    model,\n",
        "    args=sft_config,\n",
        "    train_dataset=dataset.select(range(300)),\n",
        "    eval_dataset=eval_dataset.select(range(100)),\n",
        "    peft_config=peft_config,\n",
        ")\n",
        "\n",
        "trainer.train()"
      ]
    },
    {
      "cell_type": "code",
      "execution_count": null,
      "metadata": {
        "id": "ymD4cEw-f52x",
        "colab": {
          "base_uri": "https://localhost:8080/",
          "height": 176,
          "referenced_widgets": [
            "565922d8c1424080b6b9052ec670feee",
            "91b06293ec3b44e8bbe5b7fbb63a982d",
            "8caac24d38bd465ea538f109db5df23d",
            "f1d52233c58e4b8a817831e3c312495c",
            "04cc539c627e4f7ab8d1c7cff208d2c6",
            "2a1d5f9240ae46d8a500d0d493f88e11",
            "976ce4df5c064cb9833d18a4f48a7e0d",
            "051f505a6b2a4990acc50eec7278b94e",
            "d6544052df104ef28d3410da301fa787",
            "53abbdd737a24310aeae6076c6881ce2",
            "32e03cbf6cb24136ad15723b21fdf735"
          ]
        },
        "outputId": "d7cadedc-df87-449e-b176-1892964b37d9"
      },
      "outputs": [
        {
          "output_type": "display_data",
          "data": {
            "text/plain": [
              "Uploading...:   0%|          | 0.00/14.2M [00:00<?, ?B/s]"
            ],
            "application/vnd.jupyter.widget-view+json": {
              "version_major": 2,
              "version_minor": 0,
              "model_id": "565922d8c1424080b6b9052ec670feee"
            }
          },
          "metadata": {}
        },
        {
          "output_type": "stream",
          "name": "stderr",
          "text": [
            "No files have been modified since last commit. Skipping to prevent empty commit.\n",
            "WARNING:huggingface_hub.hf_api:No files have been modified since last commit. Skipping to prevent empty commit.\n"
          ]
        },
        {
          "output_type": "execute_result",
          "data": {
            "text/plain": [
              "CommitInfo(commit_url='https://huggingface.co/egglang/fine_tune_e2e/commit/b059b8d17413bf5e2fd0ea5834c554d51b2ca975', commit_message='End of training', commit_description='', oid='b059b8d17413bf5e2fd0ea5834c554d51b2ca975', pr_url=None, repo_url=RepoUrl('https://huggingface.co/egglang/fine_tune_e2e', endpoint='https://huggingface.co', repo_type='model', repo_id='egglang/fine_tune_e2e'), pr_revision=None, pr_num=None)"
            ],
            "application/vnd.google.colaboratory.intrinsic+json": {
              "type": "string"
            }
          },
          "metadata": {},
          "execution_count": 12
        }
      ],
      "source": [
        "trainer.push_to_hub()"
      ]
    },
    {
      "cell_type": "code",
      "execution_count": 42,
      "metadata": {
        "colab": {
          "referenced_widgets": [
            "9c51b6242247460fad088a6caf136592",
            "67389cd3c4bb4ff389785b807960eaa8",
            "1823bf6d2ad34abda886c9b921c3aad2",
            "d1fb27370e294cd4bd2dab465e99c63f",
            "6b12ff78ac33422695a4a09cdf169636",
            "c8908cf4371a4a4789c7d7d467edfb31",
            "58b9d041515b4cfea8d4a73c57635b62",
            "4be95bfef01d477f8e31a9936223002c",
            "0ad3ddd71f994afe99933f0a83f4dd69",
            "6b79e1cd12b543ec8deb0059c32dffc0",
            "3e05a7e588c240d2bcc47cdc12e9719e",
            "ad19b91d067d4878965122bbbef50f1c",
            "12b7cae53ef44624ac85476f59c6faf7",
            "578c792b199d47dd8823c7d574b0491e",
            "944c70a1170a485ead8b2651e758941e",
            "e7602961bc08402ebfadb48f2a7e7a17",
            "308e78f311ac49fa8f4c3643ebec14f7",
            "6117d7c14b82454d80e6991ad1897c35",
            "192458ce6d0749f7b408209520e0865e",
            "35f4c7c43d5f40c0bff6b8d53904866d",
            "51eb4918757f4a55899dd094f42efa34",
            "2dd4a9ddcb3a467796e1e32c92a67fac",
            "29135706761f49c49e73b91b74dc1c19",
            "1a71f35ca1f0451e8c135f6a269709e8",
            "0209e8b2ba4f46a482cc50494a43573a",
            "d453517642454b2cb575ed36106b6913",
            "b06d83d234df4e3d987cd23aa4ec5b43",
            "206141891e6243a79c2971493e10c2ca",
            "454f6ec9b2744afba011662ac08093ff",
            "caecd350119244dc9b971f780c748e3c",
            "5b0a72b409e648b98347b0bf209abd8b",
            "134b2da7eeb447b19ef1d1039358532f",
            "a27180f744164433a1cad44c8999121c"
          ],
          "base_uri": "https://localhost:8080/",
          "height": 167
        },
        "id": "znfAvaX0f52x",
        "outputId": "6b2aacb0-c0a7-4298-cfc6-5f00c5e514c9"
      },
      "outputs": [
        {
          "output_type": "display_data",
          "data": {
            "text/plain": [
              "Loading checkpoint shards:   0%|          | 0/3 [00:00<?, ?it/s]"
            ],
            "application/vnd.jupyter.widget-view+json": {
              "version_major": 2,
              "version_minor": 0,
              "model_id": "9c51b6242247460fad088a6caf136592"
            }
          },
          "metadata": {}
        },
        {
          "output_type": "display_data",
          "data": {
            "text/plain": [
              "adapter_config.json:   0%|          | 0.00/650 [00:00<?, ?B/s]"
            ],
            "application/vnd.jupyter.widget-view+json": {
              "version_major": 2,
              "version_minor": 0,
              "model_id": "ad19b91d067d4878965122bbbef50f1c"
            }
          },
          "metadata": {}
        },
        {
          "output_type": "display_data",
          "data": {
            "text/plain": [
              "adapter_model.safetensors:   0%|          | 0.00/13.6M [00:00<?, ?B/s]"
            ],
            "application/vnd.jupyter.widget-view+json": {
              "version_major": 2,
              "version_minor": 0,
              "model_id": "29135706761f49c49e73b91b74dc1c19"
            }
          },
          "metadata": {}
        },
        {
          "output_type": "stream",
          "name": "stderr",
          "text": [
            "Device set to use cuda:0\n",
            "Setting `pad_token_id` to `eos_token_id`:2 for open-end generation.\n"
          ]
        },
        {
          "output_type": "execute_result",
          "data": {
            "text/plain": [
              "[{'generated_text': '### Human: Hello!### Assistant: Hi, how can I help you?'}]"
            ]
          },
          "metadata": {},
          "execution_count": 42
        }
      ],
      "source": [
        "from transformers import AutoTokenizer\n",
        "import torch\n",
        "from transformers import pipeline\n",
        "from genaibook.core import get_device\n",
        "\n",
        "device = get_device()\n",
        "\n",
        "# 先ほどと同様にベースモデルを読み込む\n",
        "tokenizer = AutoTokenizer.from_pretrained(\"mistralai/Mistral-7B-v0.3\")\n",
        "model = AutoModelForCausalLM.from_pretrained(\n",
        "    \"mistralai/Mistral-7B-v0.3\",\n",
        "    torch_dtype=torch.float16,\n",
        "    device_map=\"auto\",\n",
        ")\n",
        "\n",
        "# `load_adapter`でアダプターを読み込む\n",
        "model.load_adapter(\"genaibook/fine_tune_e2e\")  # 自分が作成した名称に変更する\n",
        "\n",
        "# あるいは、アダプター名を使って`from_pretrained`を呼び出すだけでも\n",
        "# ベースモデルとアダプターモデルの両方を自動的に読み込んでくれる\n",
        "# model = AutoModelForCausalLM.from_pretrained(\"genaibook/fine_tune_e2e\"...\n",
        "\n",
        "pipe = pipeline(\"text-generation\", model=model, tokenizer=tokenizer)\n",
        "pipe(\"### Human: Hello!### Assistant:\", max_new_tokens=100)"
      ]
    },
    {
      "cell_type": "code",
      "execution_count": 43,
      "metadata": {
        "id": "vVZL97mqf52x",
        "outputId": "45ec4308-6015-48d6-9ee9-7bfbc67c9448",
        "colab": {
          "base_uri": "https://localhost:8080/",
          "height": 329,
          "referenced_widgets": [
            "6a5ff4112c834bbba95908eeec7dfa49",
            "82dce1ef92b1464aaeda7752c1ac72dd",
            "858011557abf4fe0b79c29b659ad297c",
            "73f39312602141f3b3b0571d2d6f6b9a",
            "7cc602320fb24480882f7bb066635a9c",
            "6210fcca74514476877be1c227b6b168",
            "2a9ce6b5e4f24aa38175125bf576edc1",
            "8f42d75feba54fc7941a05ae531626cf",
            "ec87b7d167d24487a2571274f30d006a",
            "f9e8662c7a434d8cb7a036ffa69249f9",
            "a79cf368d2154618ae34b02284bc3ff0",
            "9407cb77f9d74d0dbecbce0334063eeb",
            "3ca1f513f6a448829639be8e9d26672b",
            "dd3f955df5af4e459b9086670eec374f",
            "9ad1f2a4285f449996e66b5a264722ef",
            "c54d95c5efeb482e97b6ac203390927c",
            "51dd2f1d521248da9a44ee9a49669d0f",
            "2085306e508e4df8978dc6cf49c8e999",
            "d843130ae1f2410b9343bc55ee712525",
            "4a32ea71968b456fbb328b9a8c4e826e",
            "da49c678e4b140b8a01b7e3909c52140",
            "36009cd1474648fdaba2a2e6bc67cede",
            "30066421212b46c2ad39ad875aa59a8d",
            "456dd5eb7a04462198769f637b6bcbb2",
            "ea491aeb3fe741dc8ac28c38d70c1384",
            "927b269e318b40a09a9702287e31a0f1",
            "26632cb3acb1442fa46e90848dbe7ba1",
            "4542ba33fe2a498591a64143c93a5b4a",
            "752be8dc769c4dea81763b4f42de4eda",
            "aea2246af5e84da4a27b5b70151ad996",
            "ff429f9c00c5487299d01426580ae267",
            "448dda0b68104c11baa7b919639ebab2",
            "2ae2625a44d74cddaa46aafb2a5b636d",
            "de1152cd9c824489928205d6614a67ac",
            "ff03601966084c888583b99f243cfea3",
            "54d26698d2684b33ae22221692da3773",
            "86bef4a3e1b84399a4ae636bc31f112d",
            "08326787d149485e8685e074aa65f6f0",
            "0785ddf530aa497bb99a12aff7f1e1cf",
            "3683255629814e9f9b11ce2a0591bd2d",
            "5f2bfec19a4f4d4d934ff3127197d764",
            "8a5b882fcaf84a1da09efe868000b3b0",
            "db1924acf90a4f6fbf084d55016d309c",
            "0da10b4b4082408aa583689c951974b3",
            "ce807666043f4f2b814004a3927a8e9e",
            "07e0f509e089491fa9ebcf4f50044820",
            "e86f40ee8c2b43dba49049804c5769b8",
            "466fd65435a8467faadf19fb576c363b",
            "1e292990480d44d2b95cadabb044a0bc",
            "cda39a570b6140a392aed5b3215d7e51",
            "65a160550a2d439ab0bc8293bd2d0fec",
            "1821f05c15924ad6ba15276d09be135d",
            "831058b1a675478da2cef64735265f6e",
            "7fa92b0f5f1e474ca858b232d7b24a30",
            "a2ca54cb93304b129d5c49922e9520f8",
            "deb41d2ef4274640a43a5d82a62df87e",
            "6e9edc0fbf2c4ad6958ebf3fd107b487",
            "05ae12179a2c4ff891885267b32878e9",
            "6e33c532fb274ae3bc0a14c7ccb966aa",
            "81d4a0efe3d44908964eb2db18edf23a",
            "b13d6c466e83496393d48d1cfebf4dfa",
            "3290d9b121c34fc0a57ccb4bd0d7a358",
            "7dc236bc1cfe4da3b76937337aea8ed8",
            "da2dd744ee194c17a47cfc53aa278fe1",
            "25ee5984662a49b282ed52a01dede6a1",
            "598e4de65954417eba1f348980aa585e",
            "c82601c2e17b4f8287493ddd67db9ad2",
            "2c0904f2ea334c4c88c060488674f26a",
            "7a0f8e1ada83408a80fa9a6e8be06ba9",
            "8fced1183acd45c288d1db2c7cc36f38",
            "2d62746bd7bc4914a4d6f8ee922bd949",
            "210225066486454ab44dfbd5857c911c",
            "2b486953eaff4d178aca7fb1d1f4840e",
            "f96eaf9c3af84f9a9b6e982ec092f068",
            "2ecd413678d04ff8bbf3560626fe9441",
            "4bbc2ab10f4e400f83359945c4d970fb",
            "23a22dd161c74e428d00766c9c1a384b",
            "0c876571f531452b851ef5954195e85b",
            "a02d0f194a4644468b01a8527d300c17",
            "c8805df62dea4a33b0c22a8e82b2ea9d",
            "78dd416dbf684110a33ec26d9e9305b2",
            "4dbc38e0b9704f1e800e01a8a5d22a5c",
            "c3df92ee183645ce8ffa126de6ef7534",
            "fa116e087f074f9a8061a819cbd824b4",
            "bdfe201ab9534df68169624cc6ef2814",
            "9cb6c1b25da446799ba77e7cc5b37a94",
            "fed63546381e4e2baad74e60d6519171",
            "a776f9334a4e48d7a0238ff4882ced37"
          ]
        }
      },
      "outputs": [
        {
          "output_type": "display_data",
          "data": {
            "text/plain": [
              "config.json:   0%|          | 0.00/723 [00:00<?, ?B/s]"
            ],
            "application/vnd.jupyter.widget-view+json": {
              "version_major": 2,
              "version_minor": 0,
              "model_id": "6a5ff4112c834bbba95908eeec7dfa49"
            }
          },
          "metadata": {}
        },
        {
          "output_type": "display_data",
          "data": {
            "text/plain": [
              "model.safetensors:   0%|          | 0.00/269M [00:00<?, ?B/s]"
            ],
            "application/vnd.jupyter.widget-view+json": {
              "version_major": 2,
              "version_minor": 0,
              "model_id": "9407cb77f9d74d0dbecbce0334063eeb"
            }
          },
          "metadata": {}
        },
        {
          "output_type": "display_data",
          "data": {
            "text/plain": [
              "generation_config.json:   0%|          | 0.00/156 [00:00<?, ?B/s]"
            ],
            "application/vnd.jupyter.widget-view+json": {
              "version_major": 2,
              "version_minor": 0,
              "model_id": "30066421212b46c2ad39ad875aa59a8d"
            }
          },
          "metadata": {}
        },
        {
          "output_type": "display_data",
          "data": {
            "text/plain": [
              "tokenizer_config.json: 0.00B [00:00, ?B/s]"
            ],
            "application/vnd.jupyter.widget-view+json": {
              "version_major": 2,
              "version_minor": 0,
              "model_id": "de1152cd9c824489928205d6614a67ac"
            }
          },
          "metadata": {}
        },
        {
          "output_type": "display_data",
          "data": {
            "text/plain": [
              "vocab.json: 0.00B [00:00, ?B/s]"
            ],
            "application/vnd.jupyter.widget-view+json": {
              "version_major": 2,
              "version_minor": 0,
              "model_id": "ce807666043f4f2b814004a3927a8e9e"
            }
          },
          "metadata": {}
        },
        {
          "output_type": "display_data",
          "data": {
            "text/plain": [
              "merges.txt: 0.00B [00:00, ?B/s]"
            ],
            "application/vnd.jupyter.widget-view+json": {
              "version_major": 2,
              "version_minor": 0,
              "model_id": "deb41d2ef4274640a43a5d82a62df87e"
            }
          },
          "metadata": {}
        },
        {
          "output_type": "display_data",
          "data": {
            "text/plain": [
              "tokenizer.json: 0.00B [00:00, ?B/s]"
            ],
            "application/vnd.jupyter.widget-view+json": {
              "version_major": 2,
              "version_minor": 0,
              "model_id": "c82601c2e17b4f8287493ddd67db9ad2"
            }
          },
          "metadata": {}
        },
        {
          "output_type": "display_data",
          "data": {
            "text/plain": [
              "special_tokens_map.json:   0%|          | 0.00/565 [00:00<?, ?B/s]"
            ],
            "application/vnd.jupyter.widget-view+json": {
              "version_major": 2,
              "version_minor": 0,
              "model_id": "0c876571f531452b851ef5954195e85b"
            }
          },
          "metadata": {}
        },
        {
          "output_type": "stream",
          "name": "stderr",
          "text": [
            "Device set to use cuda\n"
          ]
        },
        {
          "output_type": "stream",
          "name": "stdout",
          "text": [
            "{'role': 'assistant', 'content': \"The age-old question of helicopter feeding!\\n\\nAccording to various sources, including the United States Navy, the International Committee of the Red Cross, and the World Health Organization, a human can only consume a limited number of helicopters per sitting. Here's a breakdown of the current guidelines and the limitations:\\n\\n**Microlight Helicopters:**\\n\\n* The United States Navy has established a maximum number of Microlight Helicopters as of 2022.\\n* A Microlight Helicopter can live up to 10 minutes in the air.\\n* To avoid overcrowding, the Navy has prohibited Mic\"}\n"
          ]
        }
      ],
      "source": [
        "pipe = pipeline(\n",
        "    \"text-generation\", \"HuggingFaceTB/SmolLM-135M-Instruct\", device=device\n",
        ")\n",
        "messages = [\n",
        "    {\n",
        "        \"role\": \"system\",\n",
        "        \"content\": \"\"\"You are a friendly chatbot who always responds\n",
        "        in the style of a pirate\"\"\",\n",
        "    },\n",
        "    {\n",
        "        \"role\": \"user\",\n",
        "        \"content\": \"How many helicopters can a human eat in one sitting?\",\n",
        "    },\n",
        "]\n",
        "print(pipe(messages, max_new_tokens=128)[0][\"generated_text\"][-1])"
      ]
    },
    {
      "cell_type": "code",
      "execution_count": 44,
      "metadata": {
        "id": "l1paud4Ef52x",
        "outputId": "379f149e-5298-4d21-99c6-d74330951380",
        "colab": {
          "base_uri": "https://localhost:8080/",
          "height": 53
        }
      },
      "outputs": [
        {
          "output_type": "execute_result",
          "data": {
            "text/plain": [
              "\"<|im_start|>user\\nHello, how are you?<|im_end|>\\n<|im_start|>assistant\\nI'm doing great. How can I help you today?<|im_end|>\\n<|im_start|>user\\nI'd like to show off how chat templating works!<|im_end|>\\n\""
            ],
            "application/vnd.google.colaboratory.intrinsic+json": {
              "type": "string"
            }
          },
          "metadata": {},
          "execution_count": 44
        }
      ],
      "source": [
        "tokenizer = AutoTokenizer.from_pretrained(\"HuggingFaceTB/SmolLM-135M-Instruct\")\n",
        "\n",
        "chat = [\n",
        "    {\"role\": \"user\", \"content\": \"Hello, how are you?\"},\n",
        "    {\n",
        "        \"role\": \"assistant\",\n",
        "        \"content\": \"I'm doing great. How can I help you today?\",\n",
        "    },\n",
        "    {\n",
        "        \"role\": \"user\",\n",
        "        \"content\": \"I'd like to show off how chat templating works!\",\n",
        "    },\n",
        "]\n",
        "\n",
        "tokenizer.apply_chat_template(chat, tokenize=False)"
      ]
    },
    {
      "cell_type": "code",
      "execution_count": 45,
      "metadata": {
        "id": "nmVhsHv9f52x",
        "outputId": "835fa938-d738-40f7-9a07-108c6ceefd07",
        "colab": {
          "base_uri": "https://localhost:8080/"
        }
      },
      "outputs": [
        {
          "output_type": "stream",
          "name": "stdout",
          "text": [
            "<|im_start|>user\n",
            "Hello, how are you?<|im_end|>\n",
            "<|im_start|>assistant\n",
            "I'm doing great. How can I help you today?<|im_end|>\n",
            "<|im_start|>user\n",
            "I'd like to show off how chat templating works!<|im_end|>\n",
            "\n"
          ]
        }
      ],
      "source": [
        "print(tokenizer.apply_chat_template(chat, tokenize=False))"
      ]
    },
    {
      "cell_type": "markdown",
      "metadata": {
        "id": "h3xtyKWef52y"
      },
      "source": [
        "## 解答"
      ]
    },
    {
      "cell_type": "markdown",
      "metadata": {
        "id": "z1AOol_kf520"
      },
      "source": [
        "### 演習"
      ]
    },
    {
      "cell_type": "markdown",
      "metadata": {
        "id": "XjECbyhef520"
      },
      "source": [
        "**1. ベースモデルとファインチューニング済みモデルの違いは何か。また、会話型モデルとはどのようなモデルか。**\n",
        "\n",
        "* **ベースモデル:** ベースモデルとは、大規模なデータセットで一般的な言語モデルタスクをこなせるように事前訓練されたモデルである。このモデルをベースにさらに特定のタスクに適応させることができる。\n",
        "* **ファインチューニング済みモデル:**  ファインチューニング済みモデルとは、ベースモデルをさらに小規模かつ特定用途向けのデータセットで追加学習させたものである。パラメータを調整することで、特定の分野やタスクでの性能を高めることができる。要約、テキスト分類、固有表現抽出などに特化したモデルが例として挙げられる。\n",
        "* **会話型モデル:** 会話型モデルとは、特に会話の文脈で応答を生成できるようにファインチューニングされたモデルである。対話やチャット形式のデータセットで追加学習されており、会話のやりとりに適した一貫性のある応答を生成することができる。"
      ]
    },
    {
      "cell_type": "markdown",
      "metadata": {
        "id": "oos3DeJ2f520"
      },
      "source": [
        "**2. どのような場合にエンコーダーベースのモデルをファインチューニングするべきか。**\n",
        "\n",
        "ファインチューニングは、分類、固有表現抽出、質問応答など、文章の理解を要するタスクで有効である。BERTのようなエンコーダモデルは、文脈に応じた埋め込み表現を生成でき、計算効率も高いため、しばしばベースモデルとして利用される。\n",
        "\n",
        "ただし、以下のような場合は、ファインチューニングを行わずにベースエンコーダーモデルをそのまま使うこともある。\n",
        "\n",
        "* **ゼロショット・少数ショットの能力が強力な場合** こうした能力があれば、追加の訓練なしでも特定タスクで十分な性能が得られる場合がある。\n",
        "* **リソースに制約がある場合** ファインチューニングには追加の計算リソースや時間が必要となる。\n",
        "* **一般的なタスクの場合** タスク自体が一般的で、事前学習とほぼ同じ内容である場合は、ベースモデルのみでも十分な場合がある。"
      ]
    },
    {
      "cell_type": "markdown",
      "metadata": {
        "id": "ZoFTN51Wf520"
      },
      "source": [
        "**3. ファインチューニング、インストラクションチューニング、QLoRAの違いを説明せよ。**\n",
        "\n",
        "* **ファインチューニング:** 事前訓練済みモデルを選び、タスクやドメインに特化させるために追加で訓練させる手法である。モデルのパラメーターを調整し、対象タスクでの性能向上を図る。\n",
        "* **インストラクションチューニング:** ファインチューニングの一種で、インストラクション形式（命令形式）のデータセットを使う。さまざまなタスクを命令として与え、モデルが新しいタスクにも柔軟に対応できるようにする。\n",
        "* **QLoRA:** LoRAは、モデル本体は凍結したまま、アダプター（追加の小規模パラメーター群）のみを更新するファインチューニング手法である。QLoRAはLoRAの一種で、ベースモデルを量子化（低ビット化）してGPUメモリ消費を削減する手法である。"
      ]
    },
    {
      "cell_type": "markdown",
      "metadata": {
        "id": "3govtM4Tf520"
      },
      "source": [
        "**4. アダプターを使うと、モデルのサイズは大きくなるか。**\n",
        "\n",
        "アダプターは、モデルサイズにごく小さなオーバーヘッドを加えるのみである。アダプターの重みをベースモデルにマージして元のサイズに戻すことができる。これには`merge_and_unload`を利用できる。\n"
      ]
    },
    {
      "cell_type": "markdown",
      "metadata": {
        "id": "_8VRn_rPf520"
      },
      "source": [
        "**5. 70Bモデルをハーフ精度、8ビット量子化、4ビット量子化でロードする場合、それぞれどの程度のGPUメモリが必要か。**\n",
        "\n",
        "おおまかな数値は以下の通りである。厳密ではないが目安にはなるだろう。\n",
        "\n",
        "* **フル精度**: 70Bパラメータ × 4バイト（32ビット）＝ 280GB\n",
        "* **半精度**: 70Bパラメータ×2バイト（16ビット）＝140GB\n",
        "* **8ビット量子化**: 70Bパラメータ×1バイト（8ビット）＝70GB\n",
        "* **4ビット量子化**: 70Bパラメータ×0.5バイト（4ビット）＝35GB\n",
        "\n",
        "なお、GPUにロードする際に追加のオーバーヘッドも発生する場合がある。\n"
      ]
    },
    {
      "cell_type": "markdown",
      "metadata": {
        "id": "sxaI4s7Nf521"
      },
      "source": [
        "**6. なぜQLoRAは訓練が遅いのか。**\n",
        "\n",
        "QLoRAはメモリ使用量を削減できる一方で、訓練中に追加の量子化・逆量子化処理が入るため計算負荷が増す。そのため、これらの余分な処理が原因で訓練の速度が低下する。"
      ]
    },
    {
      "cell_type": "markdown",
      "metadata": {
        "id": "Ou_FEaplf521"
      },
      "source": [
        "**7. ファインチューニング時にモデルの重みを凍結するのはどのような場合か。**\n",
        "\n",
        "Transformerモデルのファインチューニングにおいて、通常は重みを凍結しない。しかし、PEFTのような一部の手法や特徴抽出器としてモデルを使いたい場合には重みを凍結することが有効である。たとえば、事前訓練済みモデルを特徴抽出器として利用し、その出力をSVMやランダムフォレストなどの従来型モデルに入力するなどの用途が考えられる。また、極めて限られたデータしかない場合には、モデル全体のほとんどを凍結し、最後の層のみをファインチューニングする方法も有効である。\n"
      ]
    },
    {
      "cell_type": "markdown",
      "metadata": {
        "id": "i7Fs9gdnf521"
      },
      "source": [
        "### 課題\n",
        "\n",
        "**8. 画像分類** 本章では自然言語処理タスクにおけるTransformerモデルのファインチューニングに焦点を当ててきたが、Transformerは音声や画像処理といった他の形式にも応用できる。この課題の目標は、画像分類向けにTransformerモデルをファインチューニングすることだ。次のような方法がある。\n",
        "\n",
        "* [google/vit-base-patch16-224-in21k](https://huggingface.co/google/vit-base-patch16-224-in21k)のような事前訓練済みのViTモデルを使う\n",
        "* [food101](https://data.vision.ee.ethz.ch/cvl/datasets_extra/food-101/)のような画像とラベルのデータセットを使う\n"
      ]
    },
    {
      "cell_type": "markdown",
      "metadata": {
        "id": "k_zqztkDf521"
      },
      "source": [
        "\n",
        "`food101`データセットには101種類の食品カテゴリが含まれており、合計101,000枚の画像が存在する。ここではファインチューニングのプロセスが正しく動作するかどうかを検証するため、データのごく一部（5,000枚の画像）のみを使用するが、もっと多くのデータを使ったり、追加の実験を行ったりしても構わない。"
      ]
    },
    {
      "cell_type": "code",
      "execution_count": null,
      "metadata": {
        "id": "GBKIBsjzf522",
        "colab": {
          "base_uri": "https://localhost:8080/",
          "height": 773,
          "referenced_widgets": [
            "004922bc1a0f43b7bf344b83807f484d",
            "2357fdc6c5ea40d4990fa46c6a81872d",
            "260a1454d436409c895d0c935d755055",
            "90cade3439a348ca9c48e462d3016e5d",
            "d1d51dd0c106417dba0df74517694c72",
            "c13dfb778eff49d3b6fb1bbd6bfc38d2",
            "1a4161b9fcbb4c76b547151abac7d8cc",
            "8ea20861051a4a9eaa81f68dfb5e95e9",
            "8eab06fc59ee486eb33a0c2da24a3f80",
            "40d9bfbd83d94aacb50c0625c6fb14cf",
            "1f9fd0753afd433b990698d6449764ef",
            "d7a97cca9e774912aefb5042d6ec9d08",
            "63d043be3d89480ba2690c6aefc28104",
            "f53d15b9a4bc41c78a8c36b1455cfd21",
            "0960b63b20864c0abec455bacee00382",
            "fb9a8940f4ed4a2d9a72dfd8059aa3cb",
            "bf4d7e74031641e281c95f8e46024a4d",
            "0ed65c85a95a4d5b9fa5aaf558d4d6d5",
            "12700027a5fa49ae888acfde12ecc36e",
            "78f3442fd2984640951a0474d5920c71",
            "7e4b881c046e4660be89ba149b03ab26",
            "29d85d15f6004922850e950998bb1d4d",
            "adcc5283c8ce47ca8c28db1c52ecb4d3",
            "baba4c914be94e5a85b72252f348c09d",
            "09e3e8877bcf44dab7567adb988beb8d",
            "9fbd74dd167840738828de39bdc2f5e9",
            "3c71d5b74a33402a8140a2f5de9e9470",
            "d5ab5042f76642a39ff9ddf200963d81",
            "ab86dff295a14197bb95c50a9b1d7a35",
            "b5a17b9df3494f9abddd188fc5713890",
            "449cd52c16ea41ebbddbfa191aaab742",
            "1da8041e64b147d6b51750b4809b28b7",
            "b51faa9e6c8a4bf181c4926ab9085516",
            "0c6ab51ceab94261989abc0f01b3d128",
            "24bf7ed8a0e8451b82c40cb18f1908a0",
            "ce8951331d64499fbf1168392c2979e7",
            "570cb985e9ff4403aea2985d58e5d507",
            "47f84b281542423c891b326448d7e6ae",
            "7a5223b6730c458b9045b12e87407871",
            "3497246d38c44664aecfed795c6ec46f",
            "f75b87e01b674607b75c415576f720d2",
            "95d5fbe0ffa04875b43304a251182cb9",
            "279b943ad19041219a75a760db745755",
            "445baa5ece8449ebb6b5df32d5723165",
            "ca0a04aa528c43ef858d8c424c9df517",
            "04b024fa79e14bb7a140ec7d8c747fa0",
            "2831bf1f7c154d17a88384657175eb22",
            "238fda21ef3241fc852845eb0eafb5ab",
            "0484dd87125d44bdbc382b9303a0818e",
            "26820f98689b4af49e139582e0afb846",
            "4fd0e73e07b74d08a3e80948bebfb06f",
            "ae2de0d70a11458e84879be5e1ee5ae1",
            "dcf028ef0577465da165a814d6864b35",
            "853a33d3fed64b6cabfb9243740ff4cc",
            "d28def29646b4be6a1d5cff1aa7feced",
            "4fbd6d8f4b48462e92f35cf3f38b1f44",
            "4992a8f7385745d09bb34daa1746d956",
            "9bd2070b9d354c4e8ad969eeecaa3f19",
            "3812da4b84134491a2de2801747ef82c",
            "4ba3f3154bb6466ebb7ae6a93d08cc5f",
            "86f541a1be4e4cbe932a16a2baa65a3b",
            "8845f8f0c6964a4ba176249be8bf7ea5",
            "161629e8cf964a91a8d93d123caa4d33",
            "b209929e198a48909c8e20d32ec93b92",
            "286f9a6d34484e6ca632583cbc79ef3d",
            "a40b836dfe5340489198603f00255c13",
            "305b03d4210b4a71962b7da7c0d69f6f",
            "66f5e15a00d042a1bf287445d77da5f4",
            "5dd98ef8fb744c769e8b4d0094059674",
            "84209f43adf94b1190520bf4f55c26bb",
            "03f4e68d107d45ed8a6d1888b01a29ab",
            "7fc32fbb165e4c03b1aa23a155b30d5d",
            "528a4b4d80f14a4c897e2d5d4bda32f6",
            "a6c1a6594bad4d508e4ade50c01f3c53",
            "0676f9cd49a7421cb53500ec33f68625",
            "cde0780c89ef4167aa2339fe65e07def",
            "2ca0fde2b0764e91b48b967efd109dcb",
            "2b17b454a27a4ce591aab02d0626d4d7",
            "fcaa6e689f2543c4b2ec2036f4e0bd36",
            "8cffda3877564aefa927c1f5bd816971",
            "2d13dfb56b3d44768a5b0c6006b4fe0c",
            "0c4951bffcc540e2844c9242da214852",
            "e43c5b048f9342eda7e60c128e9fa655",
            "adb336dc552e451881a0779be1af95ad",
            "c1f8b0d6402d4fb696c0eaa2c0d58bd3",
            "d801292ee1f842b0918a84cc45ce8854",
            "201de76cc7cd41d681a480b6d7a9ea9e",
            "4208addb348d4cfd8af50f48ae6dd035",
            "7aa75db4e78a41ea9153bc750110954d",
            "7cce98d52f0e470e9ddf3ad1b7669c7c",
            "4c8df8b18ad4438798514bb2d43b75b4",
            "e80c68b83ef54979b4df4ac99f64c344",
            "6c33b75ba8234e5e89fdc6cba9ddafbc",
            "dcdbfa8d1dc34ee6a0540cb0f6bb7e58",
            "c71b9d8fab634d2d82f537841c5c8f6f",
            "168da9c0f65c468ba940075d5ad9ef9f",
            "dcbf86e5cfa44a658472c4e3cc9a5535",
            "989ac22b58eb4a68a5f777dc97d43cf3",
            "d84af507fddf4c8d8c68cce8d307e2ae",
            "fa790fe57af54374be96b26ae0a4e140",
            "16b4d8aac3144acebf25e5f85af26038",
            "369ca317342549faa1deff2b6747fea9",
            "7b57f47da96349fd952257194fd3b2ac",
            "3c8ab01410d7435f8d037656fd1843c4",
            "65583a3d32e543cdb8addf5361bad088",
            "ddf818d7491a4ebba1e9188cdbe2c41e",
            "a4c57be5ccba452d83419408069b4f8d",
            "76dc2c559fc24d5983d0e4d57144744d",
            "a53d6bfadf2b4fe6929b2ad77a036e78",
            "bae7b47cdfe14e5ba1ce2b077ddd51bf",
            "a476fe8aa40744fb8fbb02a26b1cfb5e",
            "a922fa5165eb445684a09d5d898b58fa",
            "83af2b2f6cb54767a165b06ae0d42889",
            "3d9b83ad418f493db2538736a8ccbe3d",
            "c2da87891ea44a6f8aa46e80916699cc",
            "b91c5c5cb23f4cf4a36a1ccc87968afd",
            "aec3778aa9af445d9c51f8b9e3e04f1f",
            "c90ecbd4c2e44e96977099a4a8c2f277",
            "411d17958d11417a84c9e347c08c0603",
            "4f492cc378754bb7ac82b8d9429ab46f",
            "6a4ca8d56f5b4d3e971f945cf613aa52",
            "cdf82d82d67b43e5924adae857eb4076",
            "c55ba57a1eaf4cf0af32a506dbee8012",
            "a9ec09efd21647dc8cdfd298d1eeab53",
            "3ad9d9639a6c4eb1bdab9453433d3ab3",
            "f993b1b4494d43859b94964d9138d19d",
            "dde4bd69b4eb4b4693df5a7d10e41f9c",
            "8d20cb4283714b85aa84856b15aacb0b",
            "9308a78ccf484238838cf14c71805393",
            "09621c09165d4829a22112e4ee4655ab",
            "12141cd642c2405992e5ffd2b3150607",
            "f0d4ee0073ea4d8a9def78aec413a103",
            "6b0c81f74af940e6a21ebaf0cffeaf29",
            "2edd4a3ee8374cccab6f511ec3c05fc0",
            "7f934e7f50b1496b9c79d2189afbb5b2",
            "7409777abcc64011bd7224fd9910af0b",
            "a6af721208194858b2b7f70f8544f6a0",
            "6542550981e34652b5c1bda3dd2476be",
            "4d7d8c736b03497d9ba5d911ca6038c7",
            "08e0eefb81604db3a822713b31e88b03",
            "63523c9a603e4e3d8136a9bc9e293cc1",
            "2c0082fad381442883cd4e1e34fd96e4",
            "da55364eddae4d23b66cb8589498e176",
            "09f05b4f21aa4913a1d14ed33ada3d55",
            "72705e378af34ca69fbf4cf3b392d43f",
            "bc961337af4f4aada8aa3d753aa572c5",
            "c85e4e55f5fa43829786049bf6712e50",
            "e1b233d5550040a1b3b81c08097d58c4",
            "0dd3557acc0244e0bda454d3146ec028",
            "205bc7befb8646899b568db172d95339",
            "ebbe10721bbd48dd8eb6e0f09641fb4d",
            "cdda22d0f302421a99ddc43d8debdf2f",
            "c72f07ee9ea14e7886a31180b1a58594",
            "4544d56255074c3eae2dee08627b3393"
          ]
        },
        "outputId": "1e1ff3e7-b5fc-41bd-c080-0f3c5ddca106"
      },
      "outputs": [
        {
          "output_type": "display_data",
          "data": {
            "text/plain": [
              "README.md: 0.00B [00:00, ?B/s]"
            ],
            "application/vnd.jupyter.widget-view+json": {
              "version_major": 2,
              "version_minor": 0,
              "model_id": "004922bc1a0f43b7bf344b83807f484d"
            }
          },
          "metadata": {}
        },
        {
          "output_type": "display_data",
          "data": {
            "text/plain": [
              "train-00000-of-00008.parquet:   0%|          | 0.00/490M [00:00<?, ?B/s]"
            ],
            "application/vnd.jupyter.widget-view+json": {
              "version_major": 2,
              "version_minor": 0,
              "model_id": "d7a97cca9e774912aefb5042d6ec9d08"
            }
          },
          "metadata": {}
        },
        {
          "output_type": "display_data",
          "data": {
            "text/plain": [
              "train-00001-of-00008.parquet:   0%|          | 0.00/464M [00:00<?, ?B/s]"
            ],
            "application/vnd.jupyter.widget-view+json": {
              "version_major": 2,
              "version_minor": 0,
              "model_id": "adcc5283c8ce47ca8c28db1c52ecb4d3"
            }
          },
          "metadata": {}
        },
        {
          "output_type": "display_data",
          "data": {
            "text/plain": [
              "train-00002-of-00008.parquet:   0%|          | 0.00/472M [00:00<?, ?B/s]"
            ],
            "application/vnd.jupyter.widget-view+json": {
              "version_major": 2,
              "version_minor": 0,
              "model_id": "0c6ab51ceab94261989abc0f01b3d128"
            }
          },
          "metadata": {}
        },
        {
          "output_type": "display_data",
          "data": {
            "text/plain": [
              "train-00003-of-00008.parquet:   0%|          | 0.00/464M [00:00<?, ?B/s]"
            ],
            "application/vnd.jupyter.widget-view+json": {
              "version_major": 2,
              "version_minor": 0,
              "model_id": "ca0a04aa528c43ef858d8c424c9df517"
            }
          },
          "metadata": {}
        },
        {
          "output_type": "display_data",
          "data": {
            "text/plain": [
              "train-00004-of-00008.parquet:   0%|          | 0.00/475M [00:00<?, ?B/s]"
            ],
            "application/vnd.jupyter.widget-view+json": {
              "version_major": 2,
              "version_minor": 0,
              "model_id": "4fbd6d8f4b48462e92f35cf3f38b1f44"
            }
          },
          "metadata": {}
        },
        {
          "output_type": "display_data",
          "data": {
            "text/plain": [
              "train-00005-of-00008.parquet:   0%|          | 0.00/470M [00:00<?, ?B/s]"
            ],
            "application/vnd.jupyter.widget-view+json": {
              "version_major": 2,
              "version_minor": 0,
              "model_id": "305b03d4210b4a71962b7da7c0d69f6f"
            }
          },
          "metadata": {}
        },
        {
          "output_type": "display_data",
          "data": {
            "text/plain": [
              "train-00006-of-00008.parquet:   0%|          | 0.00/478M [00:00<?, ?B/s]"
            ],
            "application/vnd.jupyter.widget-view+json": {
              "version_major": 2,
              "version_minor": 0,
              "model_id": "2b17b454a27a4ce591aab02d0626d4d7"
            }
          },
          "metadata": {}
        },
        {
          "output_type": "display_data",
          "data": {
            "text/plain": [
              "train-00007-of-00008.parquet:   0%|          | 0.00/486M [00:00<?, ?B/s]"
            ],
            "application/vnd.jupyter.widget-view+json": {
              "version_major": 2,
              "version_minor": 0,
              "model_id": "7aa75db4e78a41ea9153bc750110954d"
            }
          },
          "metadata": {}
        },
        {
          "output_type": "display_data",
          "data": {
            "text/plain": [
              "validation-00000-of-00003.parquet:   0%|          | 0.00/423M [00:00<?, ?B/s]"
            ],
            "application/vnd.jupyter.widget-view+json": {
              "version_major": 2,
              "version_minor": 0,
              "model_id": "fa790fe57af54374be96b26ae0a4e140"
            }
          },
          "metadata": {}
        },
        {
          "output_type": "display_data",
          "data": {
            "text/plain": [
              "validation-00001-of-00003.parquet:   0%|          | 0.00/413M [00:00<?, ?B/s]"
            ],
            "application/vnd.jupyter.widget-view+json": {
              "version_major": 2,
              "version_minor": 0,
              "model_id": "a476fe8aa40744fb8fbb02a26b1cfb5e"
            }
          },
          "metadata": {}
        },
        {
          "output_type": "display_data",
          "data": {
            "text/plain": [
              "validation-00002-of-00003.parquet:   0%|          | 0.00/426M [00:00<?, ?B/s]"
            ],
            "application/vnd.jupyter.widget-view+json": {
              "version_major": 2,
              "version_minor": 0,
              "model_id": "cdf82d82d67b43e5924adae857eb4076"
            }
          },
          "metadata": {}
        },
        {
          "output_type": "display_data",
          "data": {
            "text/plain": [
              "Generating train split:   0%|          | 0/75750 [00:00<?, ? examples/s]"
            ],
            "application/vnd.jupyter.widget-view+json": {
              "version_major": 2,
              "version_minor": 0,
              "model_id": "6b0c81f74af940e6a21ebaf0cffeaf29"
            }
          },
          "metadata": {}
        },
        {
          "output_type": "display_data",
          "data": {
            "text/plain": [
              "Generating validation split:   0%|          | 0/25250 [00:00<?, ? examples/s]"
            ],
            "application/vnd.jupyter.widget-view+json": {
              "version_major": 2,
              "version_minor": 0,
              "model_id": "09f05b4f21aa4913a1d14ed33ada3d55"
            }
          },
          "metadata": {}
        }
      ],
      "source": [
        "from datasets import load_dataset\n",
        "\n",
        "food = load_dataset(\"food101\", split=\"train[:5000]\")"
      ]
    },
    {
      "cell_type": "code",
      "execution_count": null,
      "metadata": {
        "id": "mvfufSI0f522",
        "outputId": "bfda07ee-ff70-4f02-e64b-1cb11f098303",
        "colab": {
          "base_uri": "https://localhost:8080/"
        }
      },
      "outputs": [
        {
          "output_type": "execute_result",
          "data": {
            "text/plain": [
              "Dataset({\n",
              "    features: ['image', 'label'],\n",
              "    num_rows: 5000\n",
              "})"
            ]
          },
          "metadata": {},
          "execution_count": 15
        }
      ],
      "source": [
        "food"
      ]
    },
    {
      "cell_type": "markdown",
      "metadata": {
        "id": "47RtNfONf522"
      },
      "source": [
        "このデータセットを訓練用とテスト用に分割しよう。"
      ]
    },
    {
      "cell_type": "code",
      "execution_count": null,
      "metadata": {
        "id": "Cq_zgpr1f522"
      },
      "outputs": [],
      "source": [
        "food = food.train_test_split(test_size=0.2, seed=42)"
      ]
    },
    {
      "cell_type": "code",
      "execution_count": null,
      "metadata": {
        "id": "mFhlPGxsf523",
        "outputId": "87990cac-e903-4b65-a63c-99d265b84bbb",
        "colab": {
          "base_uri": "https://localhost:8080/"
        }
      },
      "outputs": [
        {
          "output_type": "execute_result",
          "data": {
            "text/plain": [
              "{'image': <PIL.Image.Image image mode=RGB size=512x512>, 'label': 6}"
            ]
          },
          "metadata": {},
          "execution_count": 17
        }
      ],
      "source": [
        "sample = food[\"train\"][1]\n",
        "sample"
      ]
    },
    {
      "cell_type": "code",
      "execution_count": null,
      "metadata": {
        "id": "vO3mY2FVf523",
        "outputId": "33bc1664-1f0c-4320-ecc0-4bff6c4b7d95",
        "colab": {
          "base_uri": "https://localhost:8080/",
          "height": 529
        }
      },
      "outputs": [
        {
          "output_type": "execute_result",
          "data": {
            "text/plain": [
              "<PIL.Image.Image image mode=RGB size=512x512>"
            ],
            "image/png": "[encoded data removed]",
            "image/jpeg": "[encoded data removed]"
          },
          "metadata": {},
          "execution_count": 18
        }
      ],
      "source": [
        "sample[\"image\"]"
      ]
    },
    {
      "cell_type": "markdown",
      "metadata": {
        "id": "yMVHNP0bf523"
      },
      "source": [
        "美味しそうだが、これは何だろうか。データセット内でラベル6は何に対応しているか確認しよう。"
      ]
    },
    {
      "cell_type": "code",
      "execution_count": null,
      "metadata": {
        "id": "sruxn_99f523",
        "outputId": "d652949b-c31a-4121-ce46-a85a81a596b2",
        "colab": {
          "base_uri": "https://localhost:8080/",
          "height": 35
        }
      },
      "outputs": [
        {
          "output_type": "execute_result",
          "data": {
            "text/plain": [
              "'beignets'"
            ],
            "application/vnd.google.colaboratory.intrinsic+json": {
              "type": "string"
            }
          },
          "metadata": {},
          "execution_count": 19
        }
      ],
      "source": [
        "labels = food[\"train\"].features[\"label\"].names\n",
        "labels[6]"
      ]
    },
    {
      "cell_type": "markdown",
      "metadata": {
        "id": "_FbzoFKUf523"
      },
      "source": [
        "なお、今回使用する5,000サンプルのサブセットには、101カテゴリすべてが含まれているわけではなく、そのうちの一部しか含まれていない。実際に、訓練用データセットとテスト用データセットにどのクラスが含まれているかを確認してみる。"
      ]
    },
    {
      "cell_type": "code",
      "execution_count": null,
      "metadata": {
        "id": "arBeqJvNf524",
        "outputId": "c7c78e2e-5347-4799-9ff6-267b6cd645a5",
        "colab": {
          "base_uri": "https://localhost:8080/"
        }
      },
      "outputs": [
        {
          "output_type": "execute_result",
          "data": {
            "text/plain": [
              "(array([ 6, 10, 20, 53, 77, 79, 81]),\n",
              " array([611, 607, 596, 602, 389, 584, 611]))"
            ]
          },
          "metadata": {},
          "execution_count": 20
        }
      ],
      "source": [
        "import numpy as np\n",
        "np.unique(np.array(food[\"train\"][\"label\"]), return_counts=True)"
      ]
    },
    {
      "cell_type": "code",
      "execution_count": null,
      "metadata": {
        "id": "avnX-J1Wf524",
        "outputId": "ccb18730-6ad6-4838-beb5-09c103cd99e1",
        "colab": {
          "base_uri": "https://localhost:8080/"
        }
      },
      "outputs": [
        {
          "output_type": "execute_result",
          "data": {
            "text/plain": [
              "(array([ 6, 10, 20, 53, 77, 79, 81]),\n",
              " array([139, 143, 154, 148, 111, 166, 139]))"
            ]
          },
          "metadata": {},
          "execution_count": 21
        }
      ],
      "source": [
        "np.unique(np.array(food[\"test\"][\"label\"]), return_counts=True)"
      ]
    },
    {
      "cell_type": "markdown",
      "metadata": {
        "id": "YcyhHje-f524"
      },
      "source": [
        "\n",
        "元のデータセットにある101クラスのうち、今回使うのは7クラスのみである。これら7クラスの中から写真を識別できるように分類器を訓練する。そのためには、クラスIDとして0から6までの連番を使う必要がある。これは、分類器が出力セルの順序（確率が最も高いセル）でクラスを選択するため、連続した番号で0から始まる必要があるためである。\n",
        "\n",
        "別の方法としては、101クラスすべてを出力の候補として設定し、サブセットに含まれる7クラスだけをサンプルとして与える方法も考えられる。この場合でもモデルの訓練は可能だ（実際に試してみてもよい）が、やや難易度が上がる。"
      ]
    },
    {
      "cell_type": "markdown",
      "metadata": {
        "id": "e0A42lCMf524"
      },
      "source": [
        "それでは、新しいラベルからクラス名への辞書、およびその逆の辞書を作成しよう。また、元のラベルID（データセット内のすべてのクラス）から、今回ファインチューニングで使う0～6の新しいラベルIDへの対応表も作成する。\n"
      ]
    },
    {
      "cell_type": "code",
      "execution_count": null,
      "metadata": {
        "id": "3074EuX-f524"
      },
      "outputs": [],
      "source": [
        "label2id, id2label, original2id = dict(), dict(), dict()\n",
        "finetuning_label_ids = np.unique(np.array(food[\"test\"][\"label\"]))\n",
        "for i, old_label_id in enumerate(finetuning_label_ids):\n",
        "    label = labels[old_label_id]\n",
        "    label2id[label] = str(i)\n",
        "    id2label[str(i)] = label\n",
        "    original2id[old_label_id] = i"
      ]
    },
    {
      "cell_type": "code",
      "execution_count": null,
      "metadata": {
        "id": "9XqhLyQQf524",
        "outputId": "47632a8c-3da5-485d-96ef-f1632fa5a90c",
        "colab": {
          "base_uri": "https://localhost:8080/"
        }
      },
      "outputs": [
        {
          "output_type": "execute_result",
          "data": {
            "text/plain": [
              "{'0': 'beignets',\n",
              " '1': 'bruschetta',\n",
              " '2': 'chicken_wings',\n",
              " '3': 'hamburger',\n",
              " '4': 'pork_chop',\n",
              " '5': 'prime_rib',\n",
              " '6': 'ramen'}"
            ]
          },
          "metadata": {},
          "execution_count": 23
        }
      ],
      "source": [
        "id2label"
      ]
    },
    {
      "cell_type": "markdown",
      "metadata": {
        "id": "K39tvSuTf525"
      },
      "source": [
        "次に、データセットを前処理する。画像の前処理には`AutoTokenizer`ではなく、`AutoImageProcessor`を使用する。トークナイザーと同様に、プロセッサーもモデルに紐づいている。"
      ]
    },
    {
      "cell_type": "code",
      "execution_count": null,
      "metadata": {
        "id": "edDL3_nSf525",
        "outputId": "661da767-1a7d-4dc9-b425-cf01d0d2e118",
        "colab": {
          "base_uri": "https://localhost:8080/",
          "height": 119,
          "referenced_widgets": [
            "707842e4a2e54243886d4e366a2b74b9",
            "507d2165d7774ebca158d030ebb40758",
            "a4fcd6efe99948d7959e3d37cb76ef99",
            "269a35c025254a879b5f52f22021b0fd",
            "91b47517f7c341969ac3b5c465c1da29",
            "f0066553f7eb4222a9278532d9e4b7ce",
            "7755e0d80066447ba74895db592d9ce6",
            "3e00ef8a98244551bc5b1ae3910e7290",
            "d3a85a98dcda434392733c7c276c9f20",
            "b643e4fd471a42c8a74bf5e23fe950db",
            "0c281f49d6f1416f8e574e4198bd7676",
            "92a770c22be545908dc39f66cfd51093",
            "9ae9b382814144e8bf08c303f82a197a",
            "3b34389ea9d84380bd886e05b36b42a8",
            "8087aa6f63924f6fb035f43c95736bcd",
            "6d7882bfadc04428bc76dc5d1332ebd5",
            "e2210ad2a47c4e878cbfa988a2a625ff",
            "0f1b3e3c8fc34a94a2d8b20212d8c2fe",
            "0dcdeb95df604291ae50fddc0d9b5ae2",
            "2387e97aff5a43c29ccd45064bb20b3f",
            "b7eb3a6be5d64624a742f1637ce88e96",
            "69bb9a472e144382ab8cbb37787e326c"
          ]
        }
      },
      "outputs": [
        {
          "output_type": "display_data",
          "data": {
            "text/plain": [
              "preprocessor_config.json:   0%|          | 0.00/160 [00:00<?, ?B/s]"
            ],
            "application/vnd.jupyter.widget-view+json": {
              "version_major": 2,
              "version_minor": 0,
              "model_id": "707842e4a2e54243886d4e366a2b74b9"
            }
          },
          "metadata": {}
        },
        {
          "output_type": "display_data",
          "data": {
            "text/plain": [
              "config.json:   0%|          | 0.00/502 [00:00<?, ?B/s]"
            ],
            "application/vnd.jupyter.widget-view+json": {
              "version_major": 2,
              "version_minor": 0,
              "model_id": "92a770c22be545908dc39f66cfd51093"
            }
          },
          "metadata": {}
        },
        {
          "output_type": "stream",
          "name": "stderr",
          "text": [
            "Fast image processor class <class 'transformers.models.vit.image_processing_vit_fast.ViTImageProcessorFast'> is available for this model. Using slow image processor class. To use the fast image processor class set `use_fast=True`.\n"
          ]
        }
      ],
      "source": [
        "from transformers import AutoImageProcessor\n",
        "\n",
        "model_id = \"google/vit-base-patch16-224-in21k\"\n",
        "image_processor = AutoImageProcessor.from_pretrained(model_id)"
      ]
    },
    {
      "cell_type": "markdown",
      "metadata": {
        "id": "7bX1vMJtf525"
      },
      "source": [
        "[プリプロセッサーの設定](https://huggingface.co/google/vit-base-patch16-224-in21k/blob/main/preprocessor_config.json)を見ると、入力画像を224x224にリサイズし、値を-1から1の範囲に正規化することがわかる。また、PIL画像からPyTorchのテンソルへの変換も自動的に行ってくれる。\n"
      ]
    },
    {
      "cell_type": "code",
      "execution_count": null,
      "metadata": {
        "id": "H9uSvRaRf525",
        "outputId": "c912b282-110d-49d1-a85b-6e9a1da4d159",
        "colab": {
          "base_uri": "https://localhost:8080/"
        }
      },
      "outputs": [
        {
          "output_type": "execute_result",
          "data": {
            "text/plain": [
              "(torch.Size([3, 224, 224]), tensor(-1.), tensor(1.))"
            ]
          },
          "metadata": {},
          "execution_count": 25
        }
      ],
      "source": [
        "preprocessed = image_processor(images=[sample[\"image\"]], return_tensors=\"pt\")[\"pixel_values\"][0]\n",
        "preprocessed.shape, preprocessed.min(), preprocessed.max()"
      ]
    },
    {
      "cell_type": "markdown",
      "metadata": {
        "id": "mBY-7-t8f525"
      },
      "source": [
        "組み込みのプロセッサーを利用することで、入力データが事前訓練時に適用されたものと同じ手順で変換される。もちろん、タスクに応じて他の変換を検討してもよい。たとえば、アスペクト比を維持したい場合はリサイズ前に正方形にクロップする、またはデータ拡張を行うなどが考えられる。\n",
        "\n",
        "変換処理のもう一つのステップとして、元のクラスIDを新しいクラスIDにマッピングする必要がある。\n"
      ]
    },
    {
      "cell_type": "code",
      "execution_count": null,
      "metadata": {
        "id": "HOsdXRIsf525"
      },
      "outputs": [],
      "source": [
        "def preprocess(examples):\n",
        "    examples.update(image_processor(examples[\"image\"], return_tensors=\"pt\"))\n",
        "    examples[\"label\"] = [original2id[x] for x in examples[\"label\"]]\n",
        "    del examples[\"image\"]\n",
        "    return examples"
      ]
    },
    {
      "cell_type": "code",
      "execution_count": null,
      "metadata": {
        "id": "XOTpFfQIf526"
      },
      "outputs": [],
      "source": [
        "food = food.with_transform(preprocess)"
      ]
    },
    {
      "cell_type": "markdown",
      "metadata": {
        "id": "MqoEwB7mf526"
      },
      "source": [
        "また、データをバッチ化するために`DefaultDataCollator`を使用する。このコレーターは前処理は一切行わず、単にデータをまとめてバッチ化するだけだ。今回の例のように、すべての入力テンソルがすでに同じ形状を持っている場合に利用できる。\n"
      ]
    },
    {
      "cell_type": "code",
      "execution_count": null,
      "metadata": {
        "id": "Dqz4Z-kBf526"
      },
      "outputs": [],
      "source": [
        "from transformers import DefaultDataCollator\n",
        "\n",
        "data_collator = DefaultDataCollator()"
      ]
    },
    {
      "cell_type": "markdown",
      "metadata": {
        "id": "HZyx5gqMf526"
      },
      "source": [
        "モデルの評価にaccuracyを確認してみよう。"
      ]
    },
    {
      "cell_type": "code",
      "execution_count": null,
      "metadata": {
        "id": "hCHqi6ogf526"
      },
      "outputs": [],
      "source": [
        "from transformers import Trainer, TrainingArguments\n",
        "import evaluate"
      ]
    },
    {
      "cell_type": "code",
      "execution_count": null,
      "metadata": {
        "id": "ZRz3TUpwf526",
        "colab": {
          "base_uri": "https://localhost:8080/",
          "height": 49,
          "referenced_widgets": [
            "4ba99808068645c88aee9b98d4adabf6",
            "18d06ea1e0dc44449fe705c97530d961",
            "e0310bc6f5ab493382ce8dc9e0f739ad",
            "77ed1ec702bf41df9477ced07fa9a340",
            "a10718f4bef945709dbe0a8ef0977d11",
            "859688dcbd794ac3a101d9be53ea5f8c",
            "ca8450652d1746d887a9247b09cd55bc",
            "a78365ebdfa84a72b3e8fcc325496092",
            "0ce0e5885dd44e2fa8046c89a5c7e529",
            "fd60efbc538b4198bf3091b29320d1dd",
            "5083f32319f543de8b51f04950889d4a"
          ]
        },
        "outputId": "52f5751f-0454-4da1-cb0a-86e0f6356423"
      },
      "outputs": [
        {
          "output_type": "display_data",
          "data": {
            "text/plain": [
              "Downloading builder script: 0.00B [00:00, ?B/s]"
            ],
            "application/vnd.jupyter.widget-view+json": {
              "version_major": 2,
              "version_minor": 0,
              "model_id": "4ba99808068645c88aee9b98d4adabf6"
            }
          },
          "metadata": {}
        }
      ],
      "source": [
        "accuracy = evaluate.load(\"accuracy\")"
      ]
    },
    {
      "cell_type": "code",
      "execution_count": null,
      "metadata": {
        "id": "ChCu4ttvf526"
      },
      "outputs": [],
      "source": [
        "def compute_metrics(eval_pred):\n",
        "    predictions, labels = eval_pred\n",
        "    predictions = np.argmax(predictions, axis=1)\n",
        "    return accuracy.compute(predictions=predictions, references=labels)"
      ]
    },
    {
      "cell_type": "markdown",
      "metadata": {
        "id": "8P9SIcypf526"
      },
      "source": [
        "最後にベースモデルを読み込む。必須ではないが、`id2label`や`label2id`をモデルに追加することもできる。これによりクラス名とラベルの相互変換が容易になり、`config.json`にもこの情報が追加される。"
      ]
    },
    {
      "cell_type": "code",
      "execution_count": null,
      "metadata": {
        "id": "4YI5aMVRf527",
        "outputId": "c26ff58c-f6b3-48c6-8e23-a3c45fb81fd7",
        "colab": {
          "base_uri": "https://localhost:8080/",
          "height": 105,
          "referenced_widgets": [
            "0556ca2c7e1d4d748e5f7a02bf7f6747",
            "6fd48e9f26864fa78099d6f654999181",
            "ebd1447887dd4dfc8d60e0ec18f3e5af",
            "32fcc929706c453eabbc839cb00a384d",
            "4c3fa666fe0f46839643a55d140aa688",
            "c162dd8c759a4d34a035a07208b79845",
            "68c034ee901e44d09034b4ba7f415c63",
            "fa084bd5da0a4ec2ba789baa98511956",
            "c7363755db5043fcaae5b557c71447bb",
            "2a362286f4bd4eab953e7a6047d00045",
            "5d0cc68ed8fd44d4859f3cf8d4c10008"
          ]
        }
      },
      "outputs": [
        {
          "output_type": "display_data",
          "data": {
            "text/plain": [
              "model.safetensors:   0%|          | 0.00/346M [00:00<?, ?B/s]"
            ],
            "application/vnd.jupyter.widget-view+json": {
              "version_major": 2,
              "version_minor": 0,
              "model_id": "0556ca2c7e1d4d748e5f7a02bf7f6747"
            }
          },
          "metadata": {}
        },
        {
          "output_type": "stream",
          "name": "stderr",
          "text": [
            "Some weights of ViTForImageClassification were not initialized from the model checkpoint at google/vit-base-patch16-224-in21k and are newly initialized: ['classifier.bias', 'classifier.weight']\n",
            "You should probably TRAIN this model on a down-stream task to be able to use it for predictions and inference.\n"
          ]
        }
      ],
      "source": [
        "from transformers import AutoModelForImageClassification\n",
        "\n",
        "model = AutoModelForImageClassification.from_pretrained(\n",
        "    model_id,\n",
        "    num_labels=len(id2label),\n",
        "    id2label=id2label,\n",
        "    label2id=label2id,\n",
        ")"
      ]
    },
    {
      "cell_type": "markdown",
      "metadata": {
        "id": "Wfv38tDJf527"
      },
      "source": [
        "訓練を開始しよう。手順はこれまでとほぼ同じだ。"
      ]
    },
    {
      "cell_type": "code",
      "execution_count": null,
      "metadata": {
        "id": "AC4TW1R_f527",
        "outputId": "5c597075-b505-4c44-ddf9-62819ddfd81a",
        "colab": {
          "base_uri": "https://localhost:8080/",
          "height": 279
        }
      },
      "outputs": [
        {
          "output_type": "stream",
          "name": "stderr",
          "text": [
            "/tmp/ipython-input-33-864076306.py:20: FutureWarning: `tokenizer` is deprecated and will be removed in version 5.0.0 for `Trainer.__init__`. Use `processing_class` instead.\n",
            "  trainer = Trainer(\n"
          ]
        },
        {
          "output_type": "display_data",
          "data": {
            "text/plain": [
              "<IPython.core.display.HTML object>"
            ],
            "text/html": [
              "\n",
              "    <div>\n",
              "      \n",
              "      <progress value='375' max='375' style='width:300px; height:20px; vertical-align: middle;'></progress>\n",
              "      [375/375 02:35, Epoch 3/3]\n",
              "    </div>\n",
              "    <table border=\"1\" class=\"dataframe\">\n",
              "  <thead>\n",
              " <tr style=\"text-align: left;\">\n",
              "      <th>Epoch</th>\n",
              "      <th>Training Loss</th>\n",
              "      <th>Validation Loss</th>\n",
              "      <th>Accuracy</th>\n",
              "    </tr>\n",
              "  </thead>\n",
              "  <tbody>\n",
              "    <tr>\n",
              "      <td>1</td>\n",
              "      <td>0.449400</td>\n",
              "      <td>0.455021</td>\n",
              "      <td>0.927000</td>\n",
              "    </tr>\n",
              "    <tr>\n",
              "      <td>2</td>\n",
              "      <td>0.231000</td>\n",
              "      <td>0.303287</td>\n",
              "      <td>0.940000</td>\n",
              "    </tr>\n",
              "    <tr>\n",
              "      <td>3</td>\n",
              "      <td>0.143100</td>\n",
              "      <td>0.274087</td>\n",
              "      <td>0.937000</td>\n",
              "    </tr>\n",
              "  </tbody>\n",
              "</table><p>"
            ]
          },
          "metadata": {}
        },
        {
          "output_type": "execute_result",
          "data": {
            "text/plain": [
              "TrainOutput(global_step=375, training_loss=0.504115966796875, metrics={'train_runtime': 157.2371, 'train_samples_per_second': 76.318, 'train_steps_per_second': 2.385, 'total_flos': 9.29945547546624e+17, 'train_loss': 0.504115966796875, 'epoch': 3.0})"
            ]
          },
          "metadata": {},
          "execution_count": 33
        }
      ],
      "source": [
        "batch_size = 32 # GPUに合わせて変更する\n",
        "\n",
        "training_args = TrainingArguments(\n",
        "    \"my-food-model\",\n",
        "    num_train_epochs=3,\n",
        "    remove_unused_columns=False,\n",
        "    eval_strategy=\"epoch\",\n",
        "    save_strategy=\"epoch\",\n",
        "    per_device_train_batch_size=batch_size,\n",
        "    per_device_eval_batch_size=batch_size,\n",
        "    learning_rate=5e-5,\n",
        "    gradient_accumulation_steps=1,\n",
        "    warmup_ratio=0.1,\n",
        "    logging_steps=10,\n",
        "    load_best_model_at_end=True,\n",
        "    push_to_hub=True,\n",
        "    report_to=\"none\",\n",
        ")\n",
        "\n",
        "trainer = Trainer(\n",
        "    model=model,\n",
        "    args=training_args,\n",
        "    data_collator=data_collator,\n",
        "    train_dataset=food[\"train\"],\n",
        "    eval_dataset=food[\"test\"],\n",
        "    tokenizer=image_processor,\n",
        "    compute_metrics=compute_metrics,\n",
        ")\n",
        "\n",
        "trainer.train()"
      ]
    },
    {
      "cell_type": "markdown",
      "metadata": {
        "id": "qbjY0opmf53h"
      },
      "source": [
        "3エポックでの精度は約94%となった"
      ]
    },
    {
      "cell_type": "code",
      "execution_count": null,
      "metadata": {
        "id": "cl9IMftJf53i",
        "outputId": "fdebe716-11da-420e-f87d-5a9fbb8d99c5",
        "colab": {
          "base_uri": "https://localhost:8080/",
          "height": 138,
          "referenced_widgets": [
            "e4abf0ecc90141baaaa35d847183929c",
            "9b66d40f16e34f4cb9655ad302878d0a",
            "8859ae9933b340a7b8d5ab8784cd38a3",
            "270ee905819147d5b98437175cab6d36",
            "a6081a5d4762439ab1d9d863f8a1633e",
            "69cdbb385a04477994e01f89d2999a0e",
            "0f190edf02554e22a08e966753b82ad2",
            "256dded98ae7488daf96e13e7ca03fe8",
            "5d17511e42ed4fbdb4f1a9e7176e6fab",
            "b37a777166fc4209b36a5cebd6e4f56f",
            "5a997a9bfe4949ad97239d7cedd8d929"
          ]
        }
      },
      "outputs": [
        {
          "output_type": "display_data",
          "data": {
            "text/plain": [
              "Uploading...:   0%|          | 0.00/343M [00:00<?, ?B/s]"
            ],
            "application/vnd.jupyter.widget-view+json": {
              "version_major": 2,
              "version_minor": 0,
              "model_id": "e4abf0ecc90141baaaa35d847183929c"
            }
          },
          "metadata": {}
        },
        {
          "output_type": "execute_result",
          "data": {
            "text/plain": [
              "CommitInfo(commit_url='https://huggingface.co/egglang/my-food-model/commit/dd6c5836ea5bcc1d404ae3148bc03a60471264e2', commit_message='End of training', commit_description='', oid='dd6c5836ea5bcc1d404ae3148bc03a60471264e2', pr_url=None, repo_url=RepoUrl('https://huggingface.co/egglang/my-food-model', endpoint='https://huggingface.co', repo_type='model', repo_id='egglang/my-food-model'), pr_revision=None, pr_num=None)"
            ],
            "application/vnd.google.colaboratory.intrinsic+json": {
              "type": "string"
            }
          },
          "metadata": {},
          "execution_count": 34
        }
      ],
      "source": [
        "trainer.push_to_hub()"
      ]
    },
    {
      "cell_type": "markdown",
      "metadata": {
        "id": "3gX_jDVzf53i"
      },
      "source": [
        "次に、`image-classification`パイプラインを利用して、冒頭の画像を分類してみる。"
      ]
    },
    {
      "cell_type": "code",
      "execution_count": null,
      "metadata": {
        "colab": {
          "referenced_widgets": [
            "220c2f136d2c42a19e2edb08d3d9799d",
            "8e010e30af3b41a185e244c7a9bfb0d8",
            "d36bbf7a65c54877bf2b8e3d320a04e9",
            "b5093c9ed15a4b7b9e1aefa3d7763460",
            "653fb4d04016404dbec3b6c87dacb1d5",
            "00effa1b5a964c95a3a702c1608903dd",
            "f1dbc740649f41a993cc4717553ad693",
            "7687fb2afcf947a19ebc6a30425b570f",
            "85b16fab43164e93a4d58e29fde25cf0",
            "dc1554d20bad46be81980ce0e9fa0835",
            "8911f6b3acfc4669888bb50b27a4d8a8",
            "d79c56b7246b4fe3a792b9954cf8f960",
            "b0d088773da04d608c273081fced4be5",
            "b28b753762774500897dd85691690fc4",
            "d93ebdcb4a95406eb7283f7e2a71bd00",
            "36e95056f17e4c30a888bc757f9031fe",
            "f3b95dae0ba84fdb8b84962c448e5fe6",
            "702435cfa77047be90717853a7adee9b",
            "582f43de9b274dfd8920f49f42bfd398",
            "61824c0e4eb14999bcc24e6ac11e5216",
            "c8573fdb077d4c29a2374a03d0f3ec64",
            "e0dcc27549e14fce8e23e45428dcf1c2",
            "afa52f6ae97342048b32929744801372",
            "00f957b2ca224218b05cab8a5c979687",
            "8efca408d6614e15af03c69d9587256b",
            "79abd3d971b14d62924cb2604a7b6f8a",
            "93f24f914f10444188c63fcb42bbd493",
            "4f0378da8a874b9a9d0832ff8719beab",
            "da75b603614146d8b9b652a2e7fdab89",
            "7cfb0623b20a40859cc32ae9d8aac9ac",
            "892ce356618b417f8380e931b361d2ae",
            "6bd5136e2dd345e893e81fafb0b389a1",
            "f14ad760b9864b708eca024c132d05da"
          ],
          "base_uri": "https://localhost:8080/",
          "height": 258
        },
        "id": "XfOEjcksf53i",
        "outputId": "6e41a006-0616-4f7b-cf65-d4a00b7cef50"
      },
      "outputs": [
        {
          "output_type": "display_data",
          "data": {
            "text/plain": [
              "config.json:   0%|          | 0.00/963 [00:00<?, ?B/s]"
            ],
            "application/vnd.jupyter.widget-view+json": {
              "version_major": 2,
              "version_minor": 0,
              "model_id": "220c2f136d2c42a19e2edb08d3d9799d"
            }
          },
          "metadata": {}
        },
        {
          "output_type": "display_data",
          "data": {
            "text/plain": [
              "model.safetensors:   0%|          | 0.00/343M [00:00<?, ?B/s]"
            ],
            "application/vnd.jupyter.widget-view+json": {
              "version_major": 2,
              "version_minor": 0,
              "model_id": "d79c56b7246b4fe3a792b9954cf8f960"
            }
          },
          "metadata": {}
        },
        {
          "output_type": "display_data",
          "data": {
            "text/plain": [
              "preprocessor_config.json:   0%|          | 0.00/578 [00:00<?, ?B/s]"
            ],
            "application/vnd.jupyter.widget-view+json": {
              "version_major": 2,
              "version_minor": 0,
              "model_id": "afa52f6ae97342048b32929744801372"
            }
          },
          "metadata": {}
        },
        {
          "output_type": "stream",
          "name": "stderr",
          "text": [
            "Using a slow image processor as `use_fast` is unset and a slow processor was saved with this model. `use_fast=True` will be the default behavior in v4.52, even if the model was saved with a slow processor. This will result in minor differences in outputs. You'll still be able to use a slow processor with `use_fast=False`.\n",
            "Device set to use cuda:0\n"
          ]
        },
        {
          "output_type": "execute_result",
          "data": {
            "text/plain": [
              "[{'label': 'beignets', 'score': 0.9071165919303894},\n",
              " {'label': 'hamburger', 'score': 0.017487000674009323},\n",
              " {'label': 'ramen', 'score': 0.017378918826580048},\n",
              " {'label': 'prime_rib', 'score': 0.01568443886935711},\n",
              " {'label': 'chicken_wings', 'score': 0.01490048598498106}]"
            ]
          },
          "metadata": {},
          "execution_count": 35
        }
      ],
      "source": [
        "from transformers import pipeline\n",
        "\n",
        "classifier = pipeline(\"image-classification\", model=\"pcuenq/my-food-model\")\n",
        "classifier(sample[\"image\"])"
      ]
    },
    {
      "cell_type": "markdown",
      "metadata": {
        "id": "zHH0-9Msf53i"
      },
      "source": [
        "うまくいった。ぜひ、以下も試してみてほしい。\n",
        "\n",
        "* モデルが確信度高く予測したにもかかわらず、ラベルと一致しなかった検証セットのサンプルを探してみよう。どちらが正しいだろうか。\n",
        "* Swin Transformer、MobileViT、ConvNeXTなどの他のモデルも試してみよう。\n",
        "* 3クラス、各クラス10枚だけの自作の小さなデータセットで訓練し、そのモデルの性能を確認してみよう。"
      ]
    }
  ],
  "metadata": {
    "kernelspec": {
      "display_name": "Python 3",
      "name": "python3"
    },
    "language_info": {
      "codemirror_mode": {
        "name": "ipython",
        "version": 3
      },
      "file_extension": ".py",
      "mimetype": "text/x-python",
      "name": "python",
      "nbconvert_exporter": "python",
      "pygments_lexer": "ipython3",
      "version": "3.10.13"
    },
    "colab": {
      "provenance": [],
      "gpuType": "L4",
      "machine_shape": "hm",
      "toc_visible": true,
      "runtime_attributes": {
        "runtime_version": "2025.07"
      }
    },
    "accelerator": "GPU"
  },
  "nbformat": 4,
  "nbformat_minor": 0
}