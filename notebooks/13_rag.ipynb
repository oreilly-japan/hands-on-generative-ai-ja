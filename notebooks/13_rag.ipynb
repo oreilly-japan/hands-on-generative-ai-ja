{
  "cells": [
    {
      "cell_type": "markdown",
      "metadata": {
        "id": "Z240WtwRYzfN"
      },
      "source": [
        "# 付録C RAG（検索拡張生成）\n"
      ]
    },
    {
      "cell_type": "markdown",
      "source": [
        "## 事前準備"
      ],
      "metadata": {
        "id": "4RO8xSbBobkP"
      }
    },
    {
      "cell_type": "code",
      "source": [
        "!curl -L -o genaibook.zip https://github.com/oreilly-japan/hands-on-generative-ai-ja/releases/download/genaibook/genaibook.zip"
      ],
      "metadata": {
        "colab": {
          "base_uri": "https://localhost:8080/"
        },
        "id": "RNmo-Rk1cEpa",
        "outputId": "2376e18e-3e80-4c85-f6a0-7580832ae423"
      },
      "execution_count": 1,
      "outputs": [
        {
          "output_type": "stream",
          "name": "stdout",
          "text": [
            "  % Total    % Received % Xferd  Average Speed   Time    Time     Time  Current\n",
            "                                 Dload  Upload   Total   Spent    Left  Speed\n",
            "  0     0    0     0    0     0      0      0 --:--:-- --:--:-- --:--:--     0\n",
            "100  4678  100  4678    0     0  10368      0 --:--:-- --:--:-- --:--:-- 10368\n"
          ]
        }
      ]
    },
    {
      "cell_type": "code",
      "source": [
        "!unzip genaibook.zip"
      ],
      "metadata": {
        "colab": {
          "base_uri": "https://localhost:8080/"
        },
        "id": "vR3KfPHqcHr4",
        "outputId": "9f449b6e-2a93-4a65-8f13-3a62aa031a8c"
      },
      "execution_count": 2,
      "outputs": [
        {
          "output_type": "stream",
          "name": "stdout",
          "text": [
            "Archive:  genaibook.zip\n",
            "Made with MacWinZipper (http://tidajapan.com/macwinzipper)\n",
            "  inflating: genaibook/__init__.py   \n",
            "  inflating: genaibook/core.py       \n"
          ]
        }
      ]
    },
    {
      "cell_type": "markdown",
      "metadata": {
        "id": "fUjHfw9fYzfQ"
      },
      "source": [
        "## データの前処理\n"
      ]
    },
    {
      "cell_type": "code",
      "execution_count": 3,
      "metadata": {
        "colab": {
          "base_uri": "https://localhost:8080/"
        },
        "id": "ueuvqd5EYzfQ",
        "outputId": "c7cdb039-122d-44ae-ece1-8c95f2857c4c"
      },
      "outputs": [
        {
          "output_type": "stream",
          "name": "stdout",
          "text": [
            "The-AI-Act.pdf downloaded successfully.\n"
          ]
        }
      ],
      "source": [
        "import urllib.request\n",
        "\n",
        "# ファイル名とURLを定義する\n",
        "file_name = \"The-AI-Act.pdf\"\n",
        "url = \"https://artificialintelligenceact.eu/wp-content/uploads/2021/08/The-AI-Act.pdf\"\n",
        "\n",
        "# ファイルをダウンロードする\n",
        "urllib.request.urlretrieve(url, file_name)\n",
        "print(f\"{file_name} downloaded successfully.\")"
      ]
    },
    {
      "cell_type": "code",
      "execution_count": 4,
      "metadata": {
        "colab": {
          "base_uri": "https://localhost:8080/"
        },
        "id": "84JyN4WwYzfS",
        "outputId": "9774f508-3302-46fc-e8f6-9bd256520a5e"
      },
      "outputs": [
        {
          "output_type": "stream",
          "name": "stdout",
          "text": [
            "Collecting langchain_community\n",
            "  Downloading langchain_community-0.4-py3-none-any.whl.metadata (3.0 kB)\n",
            "Collecting pypdf\n",
            "  Downloading pypdf-6.1.3-py3-none-any.whl.metadata (7.1 kB)\n",
            "Requirement already satisfied: langchain-text-splitters in /usr/local/lib/python3.11/dist-packages (0.3.8)\n",
            "Collecting langchain-core<2.0.0,>=1.0.0 (from langchain_community)\n",
            "  Downloading langchain_core-1.0.1-py3-none-any.whl.metadata (3.5 kB)\n",
            "Collecting langchain-classic<2.0.0,>=1.0.0 (from langchain_community)\n",
            "  Downloading langchain_classic-1.0.0-py3-none-any.whl.metadata (3.9 kB)\n",
            "Requirement already satisfied: SQLAlchemy<3.0.0,>=1.4.0 in /usr/local/lib/python3.11/dist-packages (from langchain_community) (2.0.41)\n",
            "Collecting requests<3.0.0,>=2.32.5 (from langchain_community)\n",
            "  Downloading requests-2.32.5-py3-none-any.whl.metadata (4.9 kB)\n",
            "Requirement already satisfied: PyYAML<7.0.0,>=5.3.0 in /usr/local/lib/python3.11/dist-packages (from langchain_community) (6.0.2)\n",
            "Requirement already satisfied: aiohttp<4.0.0,>=3.8.3 in /usr/local/lib/python3.11/dist-packages (from langchain_community) (3.11.15)\n",
            "Requirement already satisfied: tenacity!=8.4.0,<10.0.0,>=8.1.0 in /usr/local/lib/python3.11/dist-packages (from langchain_community) (8.5.0)\n",
            "Collecting dataclasses-json<0.7.0,>=0.6.7 (from langchain_community)\n",
            "  Downloading dataclasses_json-0.6.7-py3-none-any.whl.metadata (25 kB)\n",
            "Collecting pydantic-settings<3.0.0,>=2.10.1 (from langchain_community)\n",
            "  Downloading pydantic_settings-2.11.0-py3-none-any.whl.metadata (3.4 kB)\n",
            "Requirement already satisfied: langsmith<1.0.0,>=0.1.125 in /usr/local/lib/python3.11/dist-packages (from langchain_community) (0.4.5)\n",
            "Collecting httpx-sse<1.0.0,>=0.4.0 (from langchain_community)\n",
            "  Downloading httpx_sse-0.4.3-py3-none-any.whl.metadata (9.7 kB)\n",
            "Requirement already satisfied: numpy>=1.26.2 in /usr/local/lib/python3.11/dist-packages (from langchain_community) (2.0.2)\n",
            "INFO: pip is looking at multiple versions of langchain-text-splitters to determine which version is compatible with other requirements. This could take a while.\n",
            "Collecting langchain-text-splitters\n",
            "  Downloading langchain_text_splitters-1.0.0-py3-none-any.whl.metadata (2.6 kB)\n",
            "Requirement already satisfied: aiohappyeyeballs>=2.3.0 in /usr/local/lib/python3.11/dist-packages (from aiohttp<4.0.0,>=3.8.3->langchain_community) (2.6.1)\n",
            "Requirement already satisfied: aiosignal>=1.1.2 in /usr/local/lib/python3.11/dist-packages (from aiohttp<4.0.0,>=3.8.3->langchain_community) (1.4.0)\n",
            "Requirement already satisfied: attrs>=17.3.0 in /usr/local/lib/python3.11/dist-packages (from aiohttp<4.0.0,>=3.8.3->langchain_community) (25.3.0)\n",
            "Requirement already satisfied: frozenlist>=1.1.1 in /usr/local/lib/python3.11/dist-packages (from aiohttp<4.0.0,>=3.8.3->langchain_community) (1.7.0)\n",
            "Requirement already satisfied: multidict<7.0,>=4.5 in /usr/local/lib/python3.11/dist-packages (from aiohttp<4.0.0,>=3.8.3->langchain_community) (6.6.3)\n",
            "Requirement already satisfied: propcache>=0.2.0 in /usr/local/lib/python3.11/dist-packages (from aiohttp<4.0.0,>=3.8.3->langchain_community) (0.3.2)\n",
            "Requirement already satisfied: yarl<2.0,>=1.17.0 in /usr/local/lib/python3.11/dist-packages (from aiohttp<4.0.0,>=3.8.3->langchain_community) (1.20.1)\n",
            "Collecting marshmallow<4.0.0,>=3.18.0 (from dataclasses-json<0.7.0,>=0.6.7->langchain_community)\n",
            "  Downloading marshmallow-3.26.1-py3-none-any.whl.metadata (7.3 kB)\n",
            "Collecting typing-inspect<1,>=0.4.0 (from dataclasses-json<0.7.0,>=0.6.7->langchain_community)\n",
            "  Downloading typing_inspect-0.9.0-py3-none-any.whl.metadata (1.5 kB)\n",
            "Requirement already satisfied: pydantic<3.0.0,>=2.7.4 in /usr/local/lib/python3.11/dist-packages (from langchain-classic<2.0.0,>=1.0.0->langchain_community) (2.11.7)\n",
            "Requirement already satisfied: jsonpatch<2.0.0,>=1.33.0 in /usr/local/lib/python3.11/dist-packages (from langchain-core<2.0.0,>=1.0.0->langchain_community) (1.33)\n",
            "Requirement already satisfied: packaging<26.0.0,>=23.2.0 in /usr/local/lib/python3.11/dist-packages (from langchain-core<2.0.0,>=1.0.0->langchain_community) (24.2)\n",
            "Requirement already satisfied: typing-extensions<5.0.0,>=4.7.0 in /usr/local/lib/python3.11/dist-packages (from langchain-core<2.0.0,>=1.0.0->langchain_community) (4.14.1)\n",
            "Requirement already satisfied: httpx<1,>=0.23.0 in /usr/local/lib/python3.11/dist-packages (from langsmith<1.0.0,>=0.1.125->langchain_community) (0.28.1)\n",
            "Requirement already satisfied: orjson<4.0.0,>=3.9.14 in /usr/local/lib/python3.11/dist-packages (from langsmith<1.0.0,>=0.1.125->langchain_community) (3.10.18)\n",
            "Requirement already satisfied: requests-toolbelt<2.0.0,>=1.0.0 in /usr/local/lib/python3.11/dist-packages (from langsmith<1.0.0,>=0.1.125->langchain_community) (1.0.0)\n",
            "Requirement already satisfied: zstandard<0.24.0,>=0.23.0 in /usr/local/lib/python3.11/dist-packages (from langsmith<1.0.0,>=0.1.125->langchain_community) (0.23.0)\n",
            "Collecting python-dotenv>=0.21.0 (from pydantic-settings<3.0.0,>=2.10.1->langchain_community)\n",
            "  Downloading python_dotenv-1.1.1-py3-none-any.whl.metadata (24 kB)\n",
            "Requirement already satisfied: typing-inspection>=0.4.0 in /usr/local/lib/python3.11/dist-packages (from pydantic-settings<3.0.0,>=2.10.1->langchain_community) (0.4.1)\n",
            "Requirement already satisfied: charset_normalizer<4,>=2 in /usr/local/lib/python3.11/dist-packages (from requests<3.0.0,>=2.32.5->langchain_community) (3.4.2)\n",
            "Requirement already satisfied: idna<4,>=2.5 in /usr/local/lib/python3.11/dist-packages (from requests<3.0.0,>=2.32.5->langchain_community) (3.10)\n",
            "Requirement already satisfied: urllib3<3,>=1.21.1 in /usr/local/lib/python3.11/dist-packages (from requests<3.0.0,>=2.32.5->langchain_community) (2.4.0)\n",
            "Requirement already satisfied: certifi>=2017.4.17 in /usr/local/lib/python3.11/dist-packages (from requests<3.0.0,>=2.32.5->langchain_community) (2025.7.14)\n",
            "Requirement already satisfied: greenlet>=1 in /usr/local/lib/python3.11/dist-packages (from SQLAlchemy<3.0.0,>=1.4.0->langchain_community) (3.2.3)\n",
            "Requirement already satisfied: anyio in /usr/local/lib/python3.11/dist-packages (from httpx<1,>=0.23.0->langsmith<1.0.0,>=0.1.125->langchain_community) (4.9.0)\n",
            "Requirement already satisfied: httpcore==1.* in /usr/local/lib/python3.11/dist-packages (from httpx<1,>=0.23.0->langsmith<1.0.0,>=0.1.125->langchain_community) (1.0.9)\n",
            "Requirement already satisfied: h11>=0.16 in /usr/local/lib/python3.11/dist-packages (from httpcore==1.*->httpx<1,>=0.23.0->langsmith<1.0.0,>=0.1.125->langchain_community) (0.16.0)\n",
            "Requirement already satisfied: jsonpointer>=1.9 in /usr/local/lib/python3.11/dist-packages (from jsonpatch<2.0.0,>=1.33.0->langchain-core<2.0.0,>=1.0.0->langchain_community) (3.0.0)\n",
            "Requirement already satisfied: annotated-types>=0.6.0 in /usr/local/lib/python3.11/dist-packages (from pydantic<3.0.0,>=2.7.4->langchain-classic<2.0.0,>=1.0.0->langchain_community) (0.7.0)\n",
            "Requirement already satisfied: pydantic-core==2.33.2 in /usr/local/lib/python3.11/dist-packages (from pydantic<3.0.0,>=2.7.4->langchain-classic<2.0.0,>=1.0.0->langchain_community) (2.33.2)\n",
            "Collecting mypy-extensions>=0.3.0 (from typing-inspect<1,>=0.4.0->dataclasses-json<0.7.0,>=0.6.7->langchain_community)\n",
            "  Downloading mypy_extensions-1.1.0-py3-none-any.whl.metadata (1.1 kB)\n",
            "Requirement already satisfied: sniffio>=1.1 in /usr/local/lib/python3.11/dist-packages (from anyio->httpx<1,>=0.23.0->langsmith<1.0.0,>=0.1.125->langchain_community) (1.3.1)\n",
            "Downloading langchain_community-0.4-py3-none-any.whl (2.5 MB)\n",
            "\u001b[2K   \u001b[90m━━━━━━━━━━━━━━━━━━━━━━━━━━━━━━━━━━━━━━━━\u001b[0m \u001b[32m2.5/2.5 MB\u001b[0m \u001b[31m107.5 MB/s\u001b[0m eta \u001b[36m0:00:00\u001b[0m\n",
            "\u001b[?25hDownloading pypdf-6.1.3-py3-none-any.whl (323 kB)\n",
            "\u001b[2K   \u001b[90m━━━━━━━━━━━━━━━━━━━━━━━━━━━━━━━━━━━━━━━━\u001b[0m \u001b[32m323.9/323.9 kB\u001b[0m \u001b[31m42.9 MB/s\u001b[0m eta \u001b[36m0:00:00\u001b[0m\n",
            "\u001b[?25hDownloading langchain_text_splitters-1.0.0-py3-none-any.whl (33 kB)\n",
            "Downloading dataclasses_json-0.6.7-py3-none-any.whl (28 kB)\n",
            "Downloading httpx_sse-0.4.3-py3-none-any.whl (9.0 kB)\n",
            "Downloading langchain_classic-1.0.0-py3-none-any.whl (1.0 MB)\n",
            "\u001b[2K   \u001b[90m━━━━━━━━━━━━━━━━━━━━━━━━━━━━━━━━━━━━━━━━\u001b[0m \u001b[32m1.0/1.0 MB\u001b[0m \u001b[31m95.9 MB/s\u001b[0m eta \u001b[36m0:00:00\u001b[0m\n",
            "\u001b[?25hDownloading langchain_core-1.0.1-py3-none-any.whl (467 kB)\n",
            "\u001b[2K   \u001b[90m━━━━━━━━━━━━━━━━━━━━━━━━━━━━━━━━━━━━━━━━\u001b[0m \u001b[32m467.1/467.1 kB\u001b[0m \u001b[31m59.9 MB/s\u001b[0m eta \u001b[36m0:00:00\u001b[0m\n",
            "\u001b[?25hDownloading pydantic_settings-2.11.0-py3-none-any.whl (48 kB)\n",
            "\u001b[2K   \u001b[90m━━━━━━━━━━━━━━━━━━━━━━━━━━━━━━━━━━━━━━━━\u001b[0m \u001b[32m48.6/48.6 kB\u001b[0m \u001b[31m7.5 MB/s\u001b[0m eta \u001b[36m0:00:00\u001b[0m\n",
            "\u001b[?25hDownloading requests-2.32.5-py3-none-any.whl (64 kB)\n",
            "\u001b[2K   \u001b[90m━━━━━━━━━━━━━━━━━━━━━━━━━━━━━━━━━━━━━━━━\u001b[0m \u001b[32m64.7/64.7 kB\u001b[0m \u001b[31m10.5 MB/s\u001b[0m eta \u001b[36m0:00:00\u001b[0m\n",
            "\u001b[?25hDownloading marshmallow-3.26.1-py3-none-any.whl (50 kB)\n",
            "\u001b[2K   \u001b[90m━━━━━━━━━━━━━━━━━━━━━━━━━━━━━━━━━━━━━━━━\u001b[0m \u001b[32m50.9/50.9 kB\u001b[0m \u001b[31m8.1 MB/s\u001b[0m eta \u001b[36m0:00:00\u001b[0m\n",
            "\u001b[?25hDownloading python_dotenv-1.1.1-py3-none-any.whl (20 kB)\n",
            "Downloading typing_inspect-0.9.0-py3-none-any.whl (8.8 kB)\n",
            "Downloading mypy_extensions-1.1.0-py3-none-any.whl (5.0 kB)\n",
            "Installing collected packages: requests, python-dotenv, pypdf, mypy-extensions, marshmallow, httpx-sse, typing-inspect, pydantic-settings, dataclasses-json, langchain-core, langchain-text-splitters, langchain-classic, langchain_community\n",
            "  Attempting uninstall: requests\n",
            "    Found existing installation: requests 2.32.3\n",
            "    Uninstalling requests-2.32.3:\n",
            "      Successfully uninstalled requests-2.32.3\n",
            "  Attempting uninstall: langchain-core\n",
            "    Found existing installation: langchain-core 0.3.68\n",
            "    Uninstalling langchain-core-0.3.68:\n",
            "      Successfully uninstalled langchain-core-0.3.68\n",
            "  Attempting uninstall: langchain-text-splitters\n",
            "    Found existing installation: langchain-text-splitters 0.3.8\n",
            "    Uninstalling langchain-text-splitters-0.3.8:\n",
            "      Successfully uninstalled langchain-text-splitters-0.3.8\n",
            "\u001b[31mERROR: pip's dependency resolver does not currently take into account all the packages that are installed. This behaviour is the source of the following dependency conflicts.\n",
            "google-colab 1.0.0 requires requests==2.32.3, but you have requests 2.32.5 which is incompatible.\n",
            "langchain 0.3.26 requires langchain-core<1.0.0,>=0.3.66, but you have langchain-core 1.0.1 which is incompatible.\n",
            "langchain 0.3.26 requires langchain-text-splitters<1.0.0,>=0.3.8, but you have langchain-text-splitters 1.0.0 which is incompatible.\u001b[0m\u001b[31m\n",
            "\u001b[0mSuccessfully installed dataclasses-json-0.6.7 httpx-sse-0.4.3 langchain-classic-1.0.0 langchain-core-1.0.1 langchain-text-splitters-1.0.0 langchain_community-0.4 marshmallow-3.26.1 mypy-extensions-1.1.0 pydantic-settings-2.11.0 pypdf-6.1.3 python-dotenv-1.1.1 requests-2.32.5 typing-inspect-0.9.0\n"
          ]
        }
      ],
      "source": [
        "pip install langchain_community pypdf langchain-text-splitters"
      ]
    },
    {
      "cell_type": "code",
      "execution_count": 5,
      "metadata": {
        "colab": {
          "base_uri": "https://localhost:8080/"
        },
        "id": "qYr-yn9PYzfS",
        "outputId": "cd08835e-62e6-4360-df14-4e4b73dd1371"
      },
      "outputs": [
        {
          "output_type": "stream",
          "name": "stdout",
          "text": [
            "108\n"
          ]
        }
      ],
      "source": [
        "from langchain_community.document_loaders import PyPDFLoader\n",
        "\n",
        "loader = PyPDFLoader(file_name)\n",
        "docs = loader.load()\n",
        "print(len(docs))"
      ]
    },
    {
      "cell_type": "code",
      "execution_count": 6,
      "metadata": {
        "colab": {
          "base_uri": "https://localhost:8080/"
        },
        "id": "nOcPisZhYzfS",
        "outputId": "e7a8d10d-60e1-4db1-f76e-51b010e80ad2"
      },
      "outputs": [
        {
          "output_type": "stream",
          "name": "stdout",
          "text": [
            "851\n"
          ]
        }
      ],
      "source": [
        "from langchain_text_splitters import RecursiveCharacterTextSplitter\n",
        "\n",
        "text_splitter = RecursiveCharacterTextSplitter(\n",
        "    chunk_size=500, chunk_overlap=100\n",
        ")\n",
        "chunks = text_splitter.split_documents(docs)\n",
        "print(len(chunks))"
      ]
    },
    {
      "cell_type": "code",
      "execution_count": 7,
      "metadata": {
        "colab": {
          "base_uri": "https://localhost:8080/",
          "height": 71
        },
        "id": "KutIm9rgYzfT",
        "outputId": "9999d9ba-7dbd-49f9-ff05-edc9f8ee8dea"
      },
      "outputs": [
        {
          "output_type": "execute_result",
          "data": {
            "text/plain": [
              "'user or for own use on the Union market for its intended purpose; \\n(12) ‘intended purpose’ means the use for which an AI system is intended by the provider, \\nincluding the specific context and conditions of use,  as specified in the information \\nsupplied by the provider in the instructions for use, promotional or sales materials \\nand statements, as well as in the technical documentation; \\n(13) ‘reasonably foreseeable misuse’ means the use of an AI system in a way that is not in'"
            ],
            "application/vnd.google.colaboratory.intrinsic+json": {
              "type": "string"
            }
          },
          "metadata": {},
          "execution_count": 7
        }
      ],
      "source": [
        "chunked_text = [chunk.page_content for chunk in chunks]\n",
        "chunked_text[404]"
      ]
    },
    {
      "cell_type": "markdown",
      "metadata": {
        "id": "e0zFMkquYzfT"
      },
      "source": [
        "### ドキュメントの埋め込み\n"
      ]
    },
    {
      "cell_type": "code",
      "execution_count": 8,
      "metadata": {
        "colab": {
          "base_uri": "https://localhost:8080/",
          "height": 478,
          "referenced_widgets": [
            "77348b00b81a42a9bb315b516496dc63",
            "1b5c108aa7de4eddbed39660f766a389",
            "8eac99a2ccef40c9a78587ca0fed914f",
            "a0ba0d65ba314bd0b14e47cac9967ab9",
            "c1041ccc2d284663bfc31e45ef16fd26",
            "20dd56544c324f518b4322169fcbaf48",
            "98c9b776c2a341d4aa5c23e6fe673562",
            "a9341bdfe4ec400e833b0b37e0e5b9ea",
            "377a8b63f27642e89f3185529aad096a",
            "c9f603eb79b04d569bb70f60ae923f07",
            "f52325837ac24f0694a081d094bfae83",
            "05f72f90ec364a85973429ed7d576160",
            "ce21a0eae9c54e2baf6732c0ca2fb9da",
            "226f960950774bcea09883fddb36da5f",
            "4d7041541ace496295a35409b895cbb3",
            "19ad96a799e84264b1f0430a7d1e16b5",
            "76983b06589e4eaeb0a1eadb3c434ad7",
            "d1f72d1495ac49b69bee77665dc3e09d",
            "ccff51d0fc834ab89b1575d86d8bd2ac",
            "415592e8fbec4ebdb97efbe3b232b7c0",
            "de7f4d3449a546958e7f6a51266c90a5",
            "a8349d4b9a194df0bce2ca623cbf54d3",
            "b3c49a118a234c588d27ad43fdefe6cd",
            "4deb5bbb242b40a39d2380261649e72b",
            "89b3e9999cbf4db5b053f7fbac477888",
            "ecaa340d53ce41d8a429d445266b311d",
            "dde1ac8476fa45c0b809609f7ef0eee6",
            "b0cf45655ab74d30a382426135ea90a5",
            "2c65c9dd6b1b47bea7d622f5bccc0ec0",
            "c98379299a4c46be9887738b48231a2c",
            "22b337f9a83e4fe08955ee99b9685535",
            "c1a9998f95524f25a25205f288174ec9",
            "3a25868b501e47a9bfd0a37168960fe0",
            "4cefcaa0854943afa213f3dcc1ce7108",
            "6fac167d674d4dfb8020ad905141b589",
            "0e88150c01604b0bb1f4dbece9713a46",
            "7c92d4452f45460d8af191fdaa31b512",
            "860036357a7d4d2da3c809ed1e0dfdc3",
            "6954a24f6fa3440d8710f407c0786916",
            "efd0bc3d002641e6abe423f0c5506d01",
            "6221bdead16e4036a7d09cc38760e02f",
            "b6a6288792c3454685bf8534ed062256",
            "4af891cb62484224bdc94771464337c0",
            "8587e7324ba8427697bef695dc234a1e",
            "a79d209c2ca54f718a01563ec392337d",
            "bd116e7dd9b84be58050eb147cef723d",
            "98286de9d45542b19fe3dc6b7d35a646",
            "a408ee71a56049d38f8dcbc66213d519",
            "18f05b0583204e8f920fa153a2e19a32",
            "13c1b6dec3f64e239e1c218305ed45db",
            "7c7ab2d767d74d6e97dba72e44cd362e",
            "a86618dbc12b4291b6aa50a55f84c5f9",
            "56a70d967d2846f8ae4fa9cf8ee1f8ff",
            "106149ea3c8e4949aab07aa17f90af54",
            "e34c8866cebf47b7a1c2ace8aa57d69a",
            "4745c07f6656401d94d8f2508b815df1",
            "c9ee5086d12d4d2e9fe21afbf76dd927",
            "fc131f74b8b046e9b27706dc0432b744",
            "5ea4f478af6b4e24b8809af7c257fe69",
            "f4d1f39f5a814fc8a1be25e915184f85",
            "2609a3781d79456695c8e0fec1765791",
            "1fbd3af00e3f4c0d84e1e0115e7a6852",
            "8a035ada573f483fb5b51feacf856677",
            "64faaae805ce4764bc589e391ec43452",
            "1648b5cdaacf40d39cd8f77679e37fed",
            "eeae2d18da2d4408a27c4cccb10b2bb6",
            "d74f3bda2b63487c87bd0603f20fc1a7",
            "8e2e108292f7414797c4b3e1859196b5",
            "706e9619ab714aeb9628d23aa24b2479",
            "f921ccc620464fc696929ca4aa0ffb4d",
            "c867c4b206b147d182ed17325e57ddad",
            "953f45da4b904688b1bed2107299054e",
            "34c83bbac6d840b88292e01876495005",
            "85c1358f0ea2474da63ecf80a7051dcd",
            "c1027b397d734108a9521f9cb0d2d81b",
            "174aba7bfe6b457598b975418db899a0",
            "9718a12a164c47ca9df75f75ab9498f2",
            "7ddbf722cf064be99a981c6af141140a",
            "c421384ba7a74f18a8be365c107e0018",
            "65e5d47a81c742fc9fd92b155969d3ec",
            "e000624ba5e5476abbcc66435f17ecdf",
            "e7a0d16051f647178ea29111616bf5a3",
            "5d35e2b3f9104611b3a1f615483279ff",
            "c90dfb4d0f684c919135504aa083984f",
            "68d15a029b734ec5b7ee901adcf1200e",
            "6f656889f35f486f926f6cad2cc7d82b",
            "3ab4be2b5d9649fba690f94ab83e650a",
            "8ff6c78c26634babb5bf4538fad46f86",
            "5bf8d75aeb494665b32af10cef639103",
            "fb7ef4cd65d04d1db73c2e6df8d9c533",
            "cc61d5c62cf14342a87c6e2d8b60ac6b",
            "7732e7c325e4433a833c7b0576a21936",
            "e2e0835da40b4e1cb6adcbe6fd29a880",
            "8ae8275d88344b43a6d287c69428119e",
            "7be73ad752694777adfc13ee85b7f33e",
            "f96edd920fa046f7bf49413dfb481143",
            "3034db558c5f4a509a8ad2469d624f85",
            "ed7495fd6c414fa68f0ba2006445bb17",
            "89fdb0803c164166a4f0fdeecb562ead",
            "e70536bf40e84bfc82463d1a00755442",
            "e554f8d3798344b2a713c7acdacd0dab",
            "78f45bfc13864061b473e7ddad64d66c",
            "0ca2033e477d408abedf1b284f9171c0",
            "94544cf08f92405b9cd6713215800d31",
            "45a0b3ec8f6c4029bd97a860d0721cc2",
            "f4990273609841b69212c70e8afbbbef",
            "4382554c5d164ef5b1e25952f3e192fa",
            "51c88c06e5814b1c99d9531c91a0b611",
            "ec706ec30e5d4f71909870fb6cbd2d7e",
            "65da3e9d19f94ec9b0e585a45dbc10b5",
            "5b68614a53cf4092be3d112324511841",
            "db43cb2d52a94b3b87f84ec607354c37",
            "4407b5822f39424492de7c14a242089c",
            "b30f8a57ddd64718a42e3251cbb71407",
            "0a0a5a86e4bf4079b08034a8707fb868",
            "682422a837634246aaac887b46ad8d20",
            "eee1d0b5db374549801a4b73df2a4b4f",
            "25bb8a22af9b4838b1c56827d8ce142d",
            "cf9e0029f9f44e94a6eb7e34408cfc6e",
            "050a5d8146404a019e56ef1dbbf10e33",
            "32b18c2cd4c24eb6bffa26dc637f5518"
          ]
        },
        "id": "XJQGXlYbYzfU",
        "outputId": "57958362-2d8c-4fd7-8b37-da90cefcbe30"
      },
      "outputs": [
        {
          "output_type": "stream",
          "name": "stderr",
          "text": [
            "/usr/local/lib/python3.11/dist-packages/huggingface_hub/utils/_auth.py:94: UserWarning: \n",
            "The secret `HF_TOKEN` does not exist in your Colab secrets.\n",
            "To authenticate with the Hugging Face Hub, create a token in your settings tab (https://huggingface.co/settings/tokens), set it as secret in your Google Colab and restart your session.\n",
            "You will be able to reuse this secret in all of your notebooks.\n",
            "Please note that authentication is recommended but still optional to access public models or datasets.\n",
            "  warnings.warn(\n"
          ]
        },
        {
          "output_type": "display_data",
          "data": {
            "text/plain": [
              "modules.json:   0%|          | 0.00/349 [00:00<?, ?B/s]"
            ],
            "application/vnd.jupyter.widget-view+json": {
              "version_major": 2,
              "version_minor": 0,
              "model_id": "77348b00b81a42a9bb315b516496dc63"
            }
          },
          "metadata": {}
        },
        {
          "output_type": "display_data",
          "data": {
            "text/plain": [
              "config_sentence_transformers.json:   0%|          | 0.00/124 [00:00<?, ?B/s]"
            ],
            "application/vnd.jupyter.widget-view+json": {
              "version_major": 2,
              "version_minor": 0,
              "model_id": "05f72f90ec364a85973429ed7d576160"
            }
          },
          "metadata": {}
        },
        {
          "output_type": "display_data",
          "data": {
            "text/plain": [
              "README.md: 0.00B [00:00, ?B/s]"
            ],
            "application/vnd.jupyter.widget-view+json": {
              "version_major": 2,
              "version_minor": 0,
              "model_id": "b3c49a118a234c588d27ad43fdefe6cd"
            }
          },
          "metadata": {}
        },
        {
          "output_type": "display_data",
          "data": {
            "text/plain": [
              "sentence_bert_config.json:   0%|          | 0.00/52.0 [00:00<?, ?B/s]"
            ],
            "application/vnd.jupyter.widget-view+json": {
              "version_major": 2,
              "version_minor": 0,
              "model_id": "4cefcaa0854943afa213f3dcc1ce7108"
            }
          },
          "metadata": {}
        },
        {
          "output_type": "display_data",
          "data": {
            "text/plain": [
              "config.json:   0%|          | 0.00/743 [00:00<?, ?B/s]"
            ],
            "application/vnd.jupyter.widget-view+json": {
              "version_major": 2,
              "version_minor": 0,
              "model_id": "a79d209c2ca54f718a01563ec392337d"
            }
          },
          "metadata": {}
        },
        {
          "output_type": "display_data",
          "data": {
            "text/plain": [
              "model.safetensors:   0%|          | 0.00/133M [00:00<?, ?B/s]"
            ],
            "application/vnd.jupyter.widget-view+json": {
              "version_major": 2,
              "version_minor": 0,
              "model_id": "4745c07f6656401d94d8f2508b815df1"
            }
          },
          "metadata": {}
        },
        {
          "output_type": "display_data",
          "data": {
            "text/plain": [
              "tokenizer_config.json:   0%|          | 0.00/366 [00:00<?, ?B/s]"
            ],
            "application/vnd.jupyter.widget-view+json": {
              "version_major": 2,
              "version_minor": 0,
              "model_id": "d74f3bda2b63487c87bd0603f20fc1a7"
            }
          },
          "metadata": {}
        },
        {
          "output_type": "display_data",
          "data": {
            "text/plain": [
              "vocab.txt: 0.00B [00:00, ?B/s]"
            ],
            "application/vnd.jupyter.widget-view+json": {
              "version_major": 2,
              "version_minor": 0,
              "model_id": "7ddbf722cf064be99a981c6af141140a"
            }
          },
          "metadata": {}
        },
        {
          "output_type": "display_data",
          "data": {
            "text/plain": [
              "tokenizer.json: 0.00B [00:00, ?B/s]"
            ],
            "application/vnd.jupyter.widget-view+json": {
              "version_major": 2,
              "version_minor": 0,
              "model_id": "5bf8d75aeb494665b32af10cef639103"
            }
          },
          "metadata": {}
        },
        {
          "output_type": "display_data",
          "data": {
            "text/plain": [
              "special_tokens_map.json:   0%|          | 0.00/125 [00:00<?, ?B/s]"
            ],
            "application/vnd.jupyter.widget-view+json": {
              "version_major": 2,
              "version_minor": 0,
              "model_id": "e70536bf40e84bfc82463d1a00755442"
            }
          },
          "metadata": {}
        },
        {
          "output_type": "display_data",
          "data": {
            "text/plain": [
              "config.json:   0%|          | 0.00/190 [00:00<?, ?B/s]"
            ],
            "application/vnd.jupyter.widget-view+json": {
              "version_major": 2,
              "version_minor": 0,
              "model_id": "5b68614a53cf4092be3d112324511841"
            }
          },
          "metadata": {}
        }
      ],
      "source": [
        "from sentence_transformers import SentenceTransformer, util\n",
        "\n",
        "sentences = [\"I'm happy\", \"I'm full of happiness\"]\n",
        "model = SentenceTransformer(\"BAAI/bge-small-en-v1.5\")\n",
        "\n",
        "# 2つの文の埋め込みを計算する\n",
        "embedding_1 = model.encode(sentences[0], convert_to_tensor=True)\n",
        "embedding_2 = model.encode(sentences[1], convert_to_tensor=True)"
      ]
    },
    {
      "cell_type": "code",
      "execution_count": 9,
      "metadata": {
        "colab": {
          "base_uri": "https://localhost:8080/"
        },
        "id": "0PKMiZpRYzfU",
        "outputId": "5607f400-d854-4b4f-f694-d5676ebed296"
      },
      "outputs": [
        {
          "output_type": "execute_result",
          "data": {
            "text/plain": [
              "torch.Size([384])"
            ]
          },
          "metadata": {},
          "execution_count": 9
        }
      ],
      "source": [
        "embedding_1.shape"
      ]
    },
    {
      "cell_type": "code",
      "execution_count": 10,
      "metadata": {
        "colab": {
          "base_uri": "https://localhost:8080/"
        },
        "id": "kqRpjs-7YzfU",
        "outputId": "9b229190-e242-4e0c-aa72-456f3737ef29"
      },
      "outputs": [
        {
          "output_type": "execute_result",
          "data": {
            "text/plain": [
              "tensor([[0.8367]], device='cuda:0')"
            ]
          },
          "metadata": {},
          "execution_count": 10
        }
      ],
      "source": [
        "util.pytorch_cos_sim(embedding_1, embedding_2)"
      ]
    },
    {
      "cell_type": "code",
      "execution_count": 11,
      "metadata": {
        "colab": {
          "base_uri": "https://localhost:8080/"
        },
        "id": "GsxQUEnFYzfU",
        "outputId": "603f96e3-4257-4c9e-97b5-d60f5d2fbf35"
      },
      "outputs": [
        {
          "output_type": "execute_result",
          "data": {
            "text/plain": [
              "tensor(0.8367, device='cuda:0')"
            ]
          },
          "metadata": {},
          "execution_count": 11
        }
      ],
      "source": [
        "embedding_1 @ embedding_2"
      ]
    },
    {
      "cell_type": "code",
      "execution_count": 12,
      "metadata": {
        "colab": {
          "base_uri": "https://localhost:8080/"
        },
        "id": "BJRuVT1RYzfV",
        "outputId": "5947afbe-b754-49ec-8dd8-4158838dad7a"
      },
      "outputs": [
        {
          "output_type": "execute_result",
          "data": {
            "text/plain": [
              "tensor(0.8367, device='cuda:0')"
            ]
          },
          "metadata": {},
          "execution_count": 12
        }
      ],
      "source": [
        "import torch\n",
        "\n",
        "torch.dot(embedding_1, embedding_2)"
      ]
    },
    {
      "cell_type": "code",
      "execution_count": 13,
      "metadata": {
        "id": "XfG2rPx5YzfV"
      },
      "outputs": [],
      "source": [
        "chunk_embeddings = model.encode(chunked_text, convert_to_tensor=True)"
      ]
    },
    {
      "cell_type": "code",
      "execution_count": 14,
      "metadata": {
        "colab": {
          "base_uri": "https://localhost:8080/"
        },
        "id": "o73j0UNfYzfV",
        "outputId": "d1a15790-e61b-4dd1-bd65-3157f7ea1907"
      },
      "outputs": [
        {
          "output_type": "execute_result",
          "data": {
            "text/plain": [
              "torch.Size([851, 384])"
            ]
          },
          "metadata": {},
          "execution_count": 14
        }
      ],
      "source": [
        "chunk_embeddings.shape"
      ]
    },
    {
      "cell_type": "markdown",
      "metadata": {
        "id": "cCBvWichYzfV"
      },
      "source": [
        "## 検索"
      ]
    },
    {
      "cell_type": "code",
      "execution_count": 15,
      "metadata": {
        "id": "IsI9C8cHYzfV"
      },
      "outputs": [],
      "source": [
        "def search_documents(query, top_k=5):\n",
        "    # 質問をベクトルにエンコードする\n",
        "    query_embedding = model.encode(query, convert_to_tensor=True)\n",
        "\n",
        "    # 質問文とすべてのドキュメントのチャンクとのコサイン類似度を計算する\n",
        "    similarities = util.pytorch_cos_sim(query_embedding, chunk_embeddings)\n",
        "\n",
        "    # 類似度の高い上位k件のチャンクを得る\n",
        "    top_k_indices = similarities[0].topk(top_k).indices\n",
        "\n",
        "    # 対応するドキュメントのチャンクを検索する\n",
        "    results = [chunked_text[i] for i in top_k_indices]\n",
        "\n",
        "    return results"
      ]
    },
    {
      "cell_type": "code",
      "execution_count": 16,
      "metadata": {
        "colab": {
          "base_uri": "https://localhost:8080/"
        },
        "id": "K-FgoByxYzfV",
        "outputId": "8bc3fc17-e64b-4aa7-b089-882bebf5bde6"
      },
      "outputs": [
        {
          "output_type": "execute_result",
          "data": {
            "text/plain": [
              "['TITLE II \\nPROHIBITED ARTIFICIAL INTELLIGENCE PRACTICES \\nArticle 5 \\n1. The following artificial intelligence practices shall be prohibited: \\n(a) the placing on the market, putting into service or use of an A I system that \\ndeploys subliminal techniques beyond a person’s consciousness in order to \\nmaterially distort a person’s behaviour in a manner that causes or is likely to \\ncause that person or another person physical or psychological harm;',\n",
              " 'low or minimal risk. The list of prohibited practices in Title II comprises all those AI systems \\nwhose use is considered unacceptable as contravening Unio n values, for instance by violating \\nfundamental rights. The prohibitions covers practices that have a significant potential to \\nmanipulate persons  through subliminal techniques beyond their consciousness or exploit']"
            ]
          },
          "metadata": {},
          "execution_count": 16
        }
      ],
      "source": [
        "search_documents(\"What are prohibited ai practices?\", top_k=2)"
      ]
    },
    {
      "cell_type": "markdown",
      "metadata": {
        "id": "60DrTMSLYzfW"
      },
      "source": [
        "## 応答生成"
      ]
    },
    {
      "cell_type": "code",
      "execution_count": 17,
      "metadata": {
        "colab": {
          "base_uri": "https://localhost:8080/",
          "height": 291,
          "referenced_widgets": [
            "ed31670ac740478899efcb85198338cf",
            "6b308b64a9a941eda3534355d9d295e1",
            "6f64e874cebd4ebf9d023b50c31c1b7a",
            "a2dd315daac14112b39dbc9c2c16d041",
            "d6bd2cf91c6341a9a254c34aef9cb99c",
            "c738f05dfee648db99361ba8f826bca3",
            "7a8342d02f204857a8ae3e38e81333c1",
            "1619fb12061b44558b0e52df195a0a90",
            "67a40f1900474fc5802ad842991d1365",
            "d7b9fe2eb324489aa8e2ae2e55c2f6b8",
            "889a1cfb7eda4d3b8414f9993b5f6521",
            "076af2c098954865bf3de6b32bfd6744",
            "cb9991de7ec946849dd7bbc7b034e665",
            "0be1f81c1d6c432eb2e3366ce7162187",
            "99091db5d40c45e5a57c53ccea791f01",
            "f6afc151f5e44cd09c87318ebbed3d77",
            "70597d1f4fc642bf96899b73fa8ff72e",
            "5f7188cb1bbf410492a1ba5e461cef56",
            "7c0c7f546c604365a08e9b45d16a7a4c",
            "5a979c936dc44bd393e5d4597175f5a4",
            "fcfa6ad0151e421e9fb1cdeed5740231",
            "ed91b59b04654d64b5b018b6907c206d",
            "170ef652e15440dd8363aa0ae0dc8772",
            "83d9cd26f2c4475d9bf87dcee5a7a40e",
            "c19dc4f169cf4ac0b798d05727ab16cf",
            "65d777e9594c4b3d842d2286c2f12432",
            "96e96b75703b4de79c6f6300116992d2",
            "65b3f85b3c9249018fd7a13ab4b41900",
            "3de1ed475f1c4f3c89d1b071e358a888",
            "6f8e60cec9f6462b8a33486113d44688",
            "9cef7d033c9e40889c0a116ce6fa60bf",
            "5ab2d4232c5641abbf82f3fc378f0ded",
            "485aa63836684943aca2cd911281704f",
            "bd1a8e30f98d4374a366012c1c21a746",
            "c960f4a39524410dadaa2a113877d26f",
            "d31a09c2cf83468ea43728df871c49b5",
            "22d0532802f845289b220f91c059e1a5",
            "1d7866f21a3244b19e82acd71932e719",
            "7ad151d1a2d042518a69999ee32ce172",
            "21ea2bc7956e48b0b8b5d1662f8d4600",
            "993dd6fee13443afb3c769bcee528fe3",
            "88379dd440ef42a2bdebd38b961ebb8e",
            "3f1fbaf0ef854c45814736e1ee034812",
            "eabbb7ffb2ed4dfaab2322dff054dcbe",
            "87977559fe614d2998cb9f8af34d8da8",
            "0d65156136434b1e86d65c44b479381e",
            "8c6be30a77cc4c3fbc96b6409e45cf91",
            "8676e10d1b164c6e863c42961ec4b525",
            "8f3553133e5a4b53b6918faf913106d1",
            "0b06c523768a41099c62d450c0249435",
            "be369dc6bf894e2a802dcf92554935ad",
            "cb356086a97f4b7183f333f0fd06768f",
            "dbc840bc466645e48f606e05779aeaed",
            "0e86431dca6846d38b4b2efc658269a4",
            "b3fcac3d975b4aedade09da8c030f20e",
            "b6c6457c77174b118f9171a30eec4c74",
            "e4f3376a921d47ce9140c8d4bd0f4dd0",
            "f7f2f8d270d74dde9344426c979030de",
            "877e17460e8348e78270c40887597968",
            "51410a44e455497d87bfc46c807c8ecd",
            "c64191cb74fb44f382e92ab2ec386dda",
            "8ce3830458c8410db878c6b036563c21",
            "41454d933ad0403ba4fdea5076d65fee",
            "4553703f40624e05b4238974af2e8b42",
            "92b1eefbdccc48dda0c154342e226d3d",
            "10436e7c3e67439794b04bcc052963c5",
            "7d9af05f8853411d9764bac8fc9b8de0",
            "fd59b05bb0c8418ab5d28777ca7cfdd9",
            "2c53d9538a7c4a5bba66f63e67e4ffb4",
            "f97a6ef04e7c4efc9a564701f6bb063b",
            "7ea6947e1c024b7489acfc8c93c91f02",
            "50a1ed08b00a49cab29978f205e51de1",
            "4748c5a4511340b38e559672db6a0478",
            "80b629d5698246e58004106e407f600c",
            "af3cd2425ffd46b7b59ba6d1474424ea",
            "c84c43ac325746cd978e2290be634f47",
            "610cf5db3e1b4e8d9b5bab8e2a0bafc2",
            "9d811a73c78144379f95ea08a9b867da",
            "822e0991ad93425fbb52ccbf95740e5b",
            "6a7da792c197480da562cd52cde4e3c5",
            "30b10eb4073e4b18832b48f1c58cff21",
            "8c8590eedf284772a90dc27f480edbae",
            "b5b969ca1eb94ce48d7a77079af62eef",
            "441fe8eeb0634e7caf521541103d897f",
            "e00deb445bb14132ad6aaeb8611d1942",
            "fc4c7bbe40eb4465858ce603618fc717",
            "274d17ac44b54af2ae24e5bb05593edb",
            "f08813f31e5e4e83ae96dac5ed72ab1a"
          ]
        },
        "id": "f8XzILTuYzfW",
        "outputId": "d04403c7-b9be-4b7b-b1c0-bf0f099d552e"
      },
      "outputs": [
        {
          "output_type": "display_data",
          "data": {
            "text/plain": [
              "config.json:   0%|          | 0.00/723 [00:00<?, ?B/s]"
            ],
            "application/vnd.jupyter.widget-view+json": {
              "version_major": 2,
              "version_minor": 0,
              "model_id": "ed31670ac740478899efcb85198338cf"
            }
          },
          "metadata": {}
        },
        {
          "output_type": "display_data",
          "data": {
            "text/plain": [
              "model.safetensors:   0%|          | 0.00/269M [00:00<?, ?B/s]"
            ],
            "application/vnd.jupyter.widget-view+json": {
              "version_major": 2,
              "version_minor": 0,
              "model_id": "076af2c098954865bf3de6b32bfd6744"
            }
          },
          "metadata": {}
        },
        {
          "output_type": "display_data",
          "data": {
            "text/plain": [
              "generation_config.json:   0%|          | 0.00/156 [00:00<?, ?B/s]"
            ],
            "application/vnd.jupyter.widget-view+json": {
              "version_major": 2,
              "version_minor": 0,
              "model_id": "170ef652e15440dd8363aa0ae0dc8772"
            }
          },
          "metadata": {}
        },
        {
          "output_type": "display_data",
          "data": {
            "text/plain": [
              "tokenizer_config.json: 0.00B [00:00, ?B/s]"
            ],
            "application/vnd.jupyter.widget-view+json": {
              "version_major": 2,
              "version_minor": 0,
              "model_id": "bd1a8e30f98d4374a366012c1c21a746"
            }
          },
          "metadata": {}
        },
        {
          "output_type": "display_data",
          "data": {
            "text/plain": [
              "vocab.json: 0.00B [00:00, ?B/s]"
            ],
            "application/vnd.jupyter.widget-view+json": {
              "version_major": 2,
              "version_minor": 0,
              "model_id": "87977559fe614d2998cb9f8af34d8da8"
            }
          },
          "metadata": {}
        },
        {
          "output_type": "display_data",
          "data": {
            "text/plain": [
              "merges.txt: 0.00B [00:00, ?B/s]"
            ],
            "application/vnd.jupyter.widget-view+json": {
              "version_major": 2,
              "version_minor": 0,
              "model_id": "b6c6457c77174b118f9171a30eec4c74"
            }
          },
          "metadata": {}
        },
        {
          "output_type": "display_data",
          "data": {
            "text/plain": [
              "tokenizer.json: 0.00B [00:00, ?B/s]"
            ],
            "application/vnd.jupyter.widget-view+json": {
              "version_major": 2,
              "version_minor": 0,
              "model_id": "7d9af05f8853411d9764bac8fc9b8de0"
            }
          },
          "metadata": {}
        },
        {
          "output_type": "display_data",
          "data": {
            "text/plain": [
              "special_tokens_map.json:   0%|          | 0.00/565 [00:00<?, ?B/s]"
            ],
            "application/vnd.jupyter.widget-view+json": {
              "version_major": 2,
              "version_minor": 0,
              "model_id": "9d811a73c78144379f95ea08a9b867da"
            }
          },
          "metadata": {}
        },
        {
          "output_type": "stream",
          "name": "stderr",
          "text": [
            "Device set to use cuda\n"
          ]
        }
      ],
      "source": [
        "from transformers import pipeline\n",
        "\n",
        "from genaibook.core import get_device\n",
        "\n",
        "device = get_device()\n",
        "generator = pipeline(\n",
        "    \"text-generation\", model=\"HuggingFaceTB/SmolLM-135M-Instruct\", device=device\n",
        ")"
      ]
    },
    {
      "cell_type": "code",
      "execution_count": 18,
      "metadata": {
        "id": "s5kG3io5YzfW"
      },
      "outputs": [],
      "source": [
        "def generate_answer(query):\n",
        "    # 関連するチャンクを検索する\n",
        "    context_chunks = search_documents(query, top_k=2)\n",
        "\n",
        "    # チャンクをひとつの文字列に結合し、これを文脈情報とする\n",
        "    context = \"\\n\".join(context_chunks)\n",
        "\n",
        "    # 文脈情報から応答を生成するプロンプトを作成する\n",
        "    prompt = f\"Context:\\n{context}\\n\\nQuestion: {query}\\nAnswer:\"\n",
        "\n",
        "    # モデルに渡す形式で文脈情報を定義する\n",
        "    system_prompt = (\n",
        "        \"You are a friendly assistant that answers questions about the AI Act. \"\n",
        "        \"If the user is not making a question, you can ask for clarification\"\n",
        "    )\n",
        "    messages = [\n",
        "        {\"role\": \"system\", \"content\": system_prompt},\n",
        "        {\"role\": \"user\", \"content\": prompt},\n",
        "    ]\n",
        "\n",
        "    response = generator(messages, max_new_tokens=300)\n",
        "    return response[0][\"generated_text\"][2][\"content\"]"
      ]
    },
    {
      "cell_type": "code",
      "execution_count": 19,
      "metadata": {
        "colab": {
          "base_uri": "https://localhost:8080/"
        },
        "id": "qX9YM85_YzfW",
        "outputId": "c0a44327-732b-4ca9-a479-d0693dffed3b"
      },
      "outputs": [
        {
          "output_type": "stream",
          "name": "stdout",
          "text": [
            "To answer this question, we need to consider the key provisions of the EU Act and the specific guidance provided by the EU Commission.\n",
            "\n",
            "The EU Act is a comprehensive set of laws and regulations that aim to promote the development and use of artificial intelligence, as well as ensure that AI systems are designed and deployed in a way that respects human rights and dignity. The Act provides a framework for the development and deployment of AI systems, including the rights to privacy, freedom of expression, and equal protection under the law.\n",
            "\n",
            "The EU Act also includes a set of rules and guidelines for the development and use of AI systems, which are designed to ensure that they are designed and deployed in a way that respects human rights and dignity. These rules and guidelines are intended to promote the development of AI systems that can benefit society as a whole, rather than just their technical capabilities.\n",
            "\n",
            "In the context of artificial intelligence, the EU Act prohibits certain practices that are prohibited under the EU Article 5 of the GDPR, such as:\n",
            "\n",
            "1. **The use of AI systems to manipulate the processing of personal data**: The EU Act prohibits the use of AI systems to manipulate the processing of personal data, which is a form of data that is protected by the right to privacy and the right to be informed.\n",
            "2. **The use of AI systems to deceive individuals**: The EU Act prohibits the use of AI systems to deceive individuals, which is a form of data that is protected by the right to privacy\n"
          ]
        }
      ],
      "source": [
        "answer = generate_answer(\"What are prohibited ai practices in the EU act?\")\n",
        "print(answer)"
      ]
    }
  ],
  "metadata": {
    "kernelspec": {
      "display_name": "Python 3",
      "name": "python3"
    },
    "language_info": {
      "codemirror_mode": {
        "name": "ipython",
        "version": 3
      },
      "file_extension": ".py",
      "mimetype": "text/x-python",
      "name": "python",
      "nbconvert_exporter": "python",
      "pygments_lexer": "ipython3",
      "version": "3.10.12"
    },
    "colab": {
      "provenance": [],
      "machine_shape": "hm",
      "gpuType": "A100",
      "runtime_attributes": {
        "runtime_version": "2025.07"
      }
    },
    "accelerator": "GPU"
  },
  "nbformat": 4,
  "nbformat_minor": 0
}